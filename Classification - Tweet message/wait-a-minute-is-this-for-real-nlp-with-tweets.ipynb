{
 "cells": [
  {
   "cell_type": "markdown",
   "metadata": {
    "papermill": {
     "duration": 0.032588,
     "end_time": "2020-09-16T15:44:39.884837",
     "exception": false,
     "start_time": "2020-09-16T15:44:39.852249",
     "status": "completed"
    },
    "tags": []
   },
   "source": [
    "**Self learning notebook for NLP**"
   ]
  },
  {
   "cell_type": "markdown",
   "metadata": {
    "papermill": {
     "duration": 0.029521,
     "end_time": "2020-09-16T15:44:39.947332",
     "exception": false,
     "start_time": "2020-09-16T15:44:39.917811",
     "status": "completed"
    },
    "tags": []
   },
   "source": [
    "![twitter banner](https://www.e-learningmatters.com/wp-content/uploads/2016/10/Twitter-banner.jpg)"
   ]
  },
  {
   "cell_type": "markdown",
   "metadata": {
    "papermill": {
     "duration": 0.029517,
     "end_time": "2020-09-16T15:44:40.007228",
     "exception": false,
     "start_time": "2020-09-16T15:44:39.977711",
     "status": "completed"
    },
    "tags": []
   },
   "source": [
    "# Introduction\n",
    "\n",
    "Twitter has become an important communication channel in times of emergency.\n",
    "The ubiquitousness of smartphones enables people to announce an emergency they’re observing in real-time. Because of this, more agencies are interested in programatically monitoring Twitter (i.e. disaster relief organizations and news agencies).\n",
    "\n",
    "But, it’s not always clear whether a person’s words are actually announcing a disaster. Take this example:\n",
    "\n",
    "The author explicitly uses the word “ABLAZE” but means it metaphorically. This is clear to a human right away, especially with the visual aid. But it’s less clear to a machine.\n",
    "\n",
    "## Covered Topics\n",
    "1. Data preprocessing\n",
    "    * for Exploratory Data Analysis : I'll import dataset into pandas DataFrame for better understanding\n",
    "    * for modelling : this will be done in tensorflow\n",
    "1. Exploratory Data Analysis\n",
    "1. Model building using Tensorflow"
   ]
  },
  {
   "cell_type": "code",
   "execution_count": 1,
   "metadata": {
    "_cell_guid": "b1076dfc-b9ad-4769-8c92-a6c4dae69d19",
    "_kg_hide-input": true,
    "_kg_hide-output": true,
    "_uuid": "8f2839f25d086af736a60e9eeb907d3b93b6e0e5",
    "execution": {
     "iopub.execute_input": "2020-09-16T15:44:40.077668Z",
     "iopub.status.busy": "2020-09-16T15:44:40.076974Z",
     "iopub.status.idle": "2020-09-16T15:44:47.123537Z",
     "shell.execute_reply": "2020-09-16T15:44:47.122789Z"
    },
    "papermill": {
     "duration": 7.085824,
     "end_time": "2020-09-16T15:44:47.123652",
     "exception": false,
     "start_time": "2020-09-16T15:44:40.037828",
     "status": "completed"
    },
    "tags": []
   },
   "outputs": [
    {
     "name": "stdout",
     "output_type": "stream",
     "text": [
      "/kaggle/input/standford-glove/glove.6B.100d.txt\n",
      "/kaggle/input/nlp-getting-started/test.csv\n",
      "/kaggle/input/nlp-getting-started/sample_submission.csv\n",
      "/kaggle/input/nlp-getting-started/train.csv\n"
     ]
    }
   ],
   "source": [
    "# This Python 3 environment comes with many helpful analytics libraries installed\n",
    "# It is defined by the kaggle/python Docker image: https://github.com/kaggle/docker-python\n",
    "# For example, here's several helpful packages to load\n",
    "\n",
    "import csv\n",
    "import re\n",
    "import numpy as np # linear algebra\n",
    "import pandas as pd # data processing, CSV file I/O (e.g. pd.read_csv)\n",
    "import matplotlib.pyplot as plt\n",
    "import seaborn as sns\n",
    "import tensorflow as tf\n",
    "from keras.preprocessing.text import Tokenizer\n",
    "from keras.preprocessing.sequence import pad_sequences\n",
    "from keras.models import Sequential\n",
    "from keras.layers import Embedding,LSTM,Dense,SpatialDropout1D\n",
    "from sklearn.model_selection import train_test_split\n",
    "\n",
    "# Input data files are available in the read-only \"../input/\" directory\n",
    "# For example, running this (by clicking run or pressing Shift+Enter) will list all files under the input directory\n",
    "\n",
    "import os\n",
    "for dirname, _, filenames in os.walk('/kaggle/input'):\n",
    "    for filename in filenames:\n",
    "        print(os.path.join(dirname, filename))\n",
    "\n",
    "# You can write up to 5GB to the current directory (/kaggle/working/) that gets preserved as output when you create a version using \"Save & Run All\" \n",
    "# You can also write temporary files to /kaggle/temp/, but they won't be saved outside of the current session"
   ]
  },
  {
   "cell_type": "markdown",
   "metadata": {
    "papermill": {
     "duration": 0.032235,
     "end_time": "2020-09-16T15:44:47.186370",
     "exception": false,
     "start_time": "2020-09-16T15:44:47.154135",
     "status": "completed"
    },
    "tags": []
   },
   "source": [
    "## Data Preprocessing"
   ]
  },
  {
   "cell_type": "markdown",
   "metadata": {
    "papermill": {
     "duration": 0.030999,
     "end_time": "2020-09-16T15:44:47.248032",
     "exception": false,
     "start_time": "2020-09-16T15:44:47.217033",
     "status": "completed"
    },
    "tags": []
   },
   "source": [
    "Tweet data is stored in ***train.csv*** file, we'll read it into 2 lists of ...\n",
    "1. tweets : contains each tweet message\n",
    "1. labels : contains label of \"0\" (not disaster) or \"1\" (disaster) corresponding to each tweet message in tweets list\n",
    "\n",
    "I've included preprocessing step to filter out url from tweet message if they have any.\n",
    "\n",
    "I've also try to filter out stopwords (which is listed below) from tweet and train the model. The outcome is not promising, Therefore, I decide to keep stopwords in tweet message as it be."
   ]
  },
  {
   "cell_type": "code",
   "execution_count": 2,
   "metadata": {
    "execution": {
     "iopub.execute_input": "2020-09-16T15:44:47.332115Z",
     "iopub.status.busy": "2020-09-16T15:44:47.331268Z",
     "iopub.status.idle": "2020-09-16T15:44:47.407491Z",
     "shell.execute_reply": "2020-09-16T15:44:47.408145Z"
    },
    "papermill": {
     "duration": 0.128467,
     "end_time": "2020-09-16T15:44:47.408310",
     "exception": false,
     "start_time": "2020-09-16T15:44:47.279843",
     "status": "completed"
    },
    "tags": []
   },
   "outputs": [
    {
     "name": "stdout",
     "output_type": "stream",
     "text": [
      "Total training set = 7613 tweets\n",
      "Total training set = 7613 tweets\n"
     ]
    }
   ],
   "source": [
    "tweets = [] \n",
    "labels = []\n",
    "stopwords = [ \"a\", \"about\", \"above\", \"after\", \"again\", \"against\", \"all\", \"am\", \"an\", \"and\", \"any\", \"are\", \"as\", \"at\", \"be\", \"because\", \"been\", \"before\", \"being\", \"below\", \"between\", \"both\", \"but\", \"by\", \"could\", \"did\", \"do\", \"does\", \"doing\", \"down\", \"during\", \"each\", \"few\", \"for\", \"from\", \"further\", \"had\", \"has\", \"have\", \"having\", \"he\", \"he'd\", \"he'll\", \"he's\", \"her\", \"here\", \"here's\", \"hers\", \"herself\", \"him\", \"himself\", \"his\", \"how\", \"how's\", \"i\", \"i'd\", \"i'll\", \"i'm\", \"i've\", \"if\", \"in\", \"into\", \"is\", \"it\", \"it's\", \"its\", \"itself\", \"let's\", \"me\", \"more\", \"most\", \"my\", \"myself\", \"nor\", \"of\", \"on\", \"once\", \"only\", \"or\", \"other\", \"ought\", \"our\", \"ours\", \"ourselves\", \"out\", \"over\", \"own\", \"same\", \"she\", \"she'd\", \"she'll\", \"she's\", \"should\", \"so\", \"some\", \"such\", \"than\", \"that\", \"that's\", \"the\", \"their\", \"theirs\", \"them\", \"themselves\", \"then\", \"there\", \"there's\", \"these\", \"they\", \"they'd\", \"they'll\", \"they're\", \"they've\", \"this\", \"those\", \"through\", \"to\", \"too\", \"under\", \"until\", \"up\", \"very\", \"was\", \"we\", \"we'd\", \"we'll\", \"we're\", \"we've\", \"were\", \"what\", \"what's\", \"when\", \"when's\", \"where\", \"where's\", \"which\", \"while\", \"who\", \"who's\", \"whom\", \"why\", \"why's\", \"with\", \"would\", \"you\", \"you'd\", \"you'll\", \"you're\", \"you've\", \"your\", \"yours\", \"yourself\", \"yourselves\" ]\n",
    "\n",
    "train_with_stopwords = False\n",
    "\n",
    "with open(\"../input/nlp-getting-started/train.csv\") as csvfile: #iterate in csv files and extract tweets and relevant labels\n",
    "    reader = csv.reader(csvfile, delimiter=',')\n",
    "    next(reader) #skip table header\n",
    "    for row in reader:\n",
    "        labels.append(int(row[4]))\n",
    "        url = re.compile(r'https?://\\S+|www\\.\\S+') #remove url if any in tweet message.\n",
    "        tweet = url.sub(r'',row[3])\n",
    "        if train_with_stopwords == True:\n",
    "            for word in stopwords:\n",
    "                token = \" \" + word + \" \"\n",
    "                tweet = tweet.replace(token, \" \")\n",
    "        tweets.append(tweet)\n",
    "print(f'Total training set = {len(tweets)} tweets')\n",
    "print(f'Total training set = {len(labels)} tweets')"
   ]
  },
  {
   "cell_type": "markdown",
   "metadata": {
    "papermill": {
     "duration": 0.037221,
     "end_time": "2020-09-16T15:44:47.477416",
     "exception": false,
     "start_time": "2020-09-16T15:44:47.440195",
     "status": "completed"
    },
    "tags": []
   },
   "source": [
    "For training and evaluating, I've splited full training set into\n",
    "1. Training set : 6,000 tweets and labels for model training purpose\n",
    "1. Validation set : the rest (7,613-6,000 = 1,613 tweets) for evaluating and fine tuning the model\n",
    "\n",
    "After we tune the model to have desired performance, I'll train the model again on full training set"
   ]
  },
  {
   "cell_type": "code",
   "execution_count": 3,
   "metadata": {
    "execution": {
     "iopub.execute_input": "2020-09-16T15:44:47.548883Z",
     "iopub.status.busy": "2020-09-16T15:44:47.548059Z",
     "iopub.status.idle": "2020-09-16T15:44:47.565951Z",
     "shell.execute_reply": "2020-09-16T15:44:47.566512Z"
    },
    "papermill": {
     "duration": 0.057907,
     "end_time": "2020-09-16T15:44:47.566660",
     "exception": false,
     "start_time": "2020-09-16T15:44:47.508753",
     "status": "completed"
    },
    "tags": []
   },
   "outputs": [
    {
     "name": "stdout",
     "output_type": "stream",
     "text": [
      "Training set size = 6000\n",
      "Validation set size = 1613\n"
     ]
    }
   ],
   "source": [
    "#for total number of training size = 7613 tweets, first let's train on 6,000 samples and validate on 1,613 samples. After fine tuning model until it reach desired performance, later we'll train on total training set.\n",
    "train_tweets , val_tweets, train_labels , val_labels = train_test_split(tweets,labels, train_size = 6000 , stratify = labels, random_state=42)\n",
    "print(f'Training set size = {len(train_tweets)}')\n",
    "print(f'Validation set size = {len(val_tweets)}')"
   ]
  },
  {
   "cell_type": "markdown",
   "metadata": {
    "papermill": {
     "duration": 0.035022,
     "end_time": "2020-09-16T15:44:47.637098",
     "exception": false,
     "start_time": "2020-09-16T15:44:47.602076",
     "status": "completed"
    },
    "tags": []
   },
   "source": [
    "Now we've come to the main preprocessing steps before feeding into the model.\n",
    "\n",
    "1. We use [keras.preprocessing.text.Tokenizer](https://www.tensorflow.org/api_docs/python/tf/keras/preprocessing/text/Tokenizer) class to tokenize words in tweet message into number (which can be understood by computer).\n",
    "1. By calling [.fit_on_texts](https://www.tensorflow.org/api_docs/python/tf/keras/preprocessing/text/Tokenizer#fit_on_texts) method on full training set (tweets) tokenizer object will fit itself on training set and generate dictionary of key value pair which keys is words and value is index corresponding to each word (when we don't specify num_words argument while construcing tokenizer object it will have total unique word from tweets in its dictionary).\n",
    "1. By calling [.texts_to_sequences](https://www.tensorflow.org/api_docs/python/tf/keras/preprocessing/text/Tokenizer#texts_to_sequences) method on tweets list (both training and validation set) will convert sentence into sequences of number according to tokenizer dictionary.\n",
    "1. Finally, we call [pad_sequences](https://www.tensorflow.org/api_docs/python/tf/keras/preprocessing/sequence/pad_sequences) method on train and validation sequences to pad it to have same length as our max_length parameter specified."
   ]
  },
  {
   "cell_type": "code",
   "execution_count": 4,
   "metadata": {
    "_kg_hide-output": true,
    "execution": {
     "iopub.execute_input": "2020-09-16T15:44:47.716202Z",
     "iopub.status.busy": "2020-09-16T15:44:47.715093Z",
     "iopub.status.idle": "2020-09-16T15:44:47.717914Z",
     "shell.execute_reply": "2020-09-16T15:44:47.718452Z"
    },
    "papermill": {
     "duration": 0.045427,
     "end_time": "2020-09-16T15:44:47.718589",
     "exception": false,
     "start_time": "2020-09-16T15:44:47.673162",
     "status": "completed"
    },
    "tags": []
   },
   "outputs": [],
   "source": [
    "embedding_dim = 100 #to match with glove model we import\n",
    "max_length = 50\n",
    "trunc_type='post'\n",
    "padding_type='post'\n",
    "oov_tok = \"<OOV>\""
   ]
  },
  {
   "cell_type": "code",
   "execution_count": 5,
   "metadata": {
    "_kg_hide-output": true,
    "execution": {
     "iopub.execute_input": "2020-09-16T15:44:47.809201Z",
     "iopub.status.busy": "2020-09-16T15:44:47.803991Z",
     "iopub.status.idle": "2020-09-16T15:44:48.247992Z",
     "shell.execute_reply": "2020-09-16T15:44:48.247434Z"
    },
    "papermill": {
     "duration": 0.49427,
     "end_time": "2020-09-16T15:44:48.248113",
     "exception": false,
     "start_time": "2020-09-16T15:44:47.753843",
     "status": "completed"
    },
    "tags": []
   },
   "outputs": [],
   "source": [
    "tokenizer = Tokenizer()\n",
    "tokenizer.fit_on_texts(tweets)\n",
    "word_index = tokenizer.word_index\n",
    "vocab_size = len(word_index) #set vocab size to maximum\n",
    "\n",
    "train_sequences = tokenizer.texts_to_sequences(train_tweets)\n",
    "train_padded = pad_sequences(train_sequences, padding = padding_type, truncating = trunc_type, maxlen = max_length)\n",
    "\n",
    "val_sequences = tokenizer.texts_to_sequences(val_tweets)\n",
    "val_padded = pad_sequences(val_sequences, padding = padding_type, truncating = trunc_type, maxlen = max_length)"
   ]
  },
  {
   "cell_type": "markdown",
   "metadata": {
    "papermill": {
     "duration": 0.032452,
     "end_time": "2020-09-16T15:44:48.314451",
     "exception": false,
     "start_time": "2020-09-16T15:44:48.281999",
     "status": "completed"
    },
    "tags": []
   },
   "source": [
    "## Exploratory Data Analysis"
   ]
  },
  {
   "cell_type": "markdown",
   "metadata": {
    "papermill": {
     "duration": 0.031589,
     "end_time": "2020-09-16T15:44:48.378509",
     "exception": false,
     "start_time": "2020-09-16T15:44:48.346920",
     "status": "completed"
    },
    "tags": []
   },
   "source": [
    "We focus on analysis on full training set. It's my intention to not include test set in analysis to minimize chance of information leakage."
   ]
  },
  {
   "cell_type": "code",
   "execution_count": 6,
   "metadata": {
    "_kg_hide-input": true,
    "_kg_hide-output": true,
    "execution": {
     "iopub.execute_input": "2020-09-16T15:44:48.450327Z",
     "iopub.status.busy": "2020-09-16T15:44:48.449610Z",
     "iopub.status.idle": "2020-09-16T15:44:48.489520Z",
     "shell.execute_reply": "2020-09-16T15:44:48.489961Z"
    },
    "papermill": {
     "duration": 0.078688,
     "end_time": "2020-09-16T15:44:48.490091",
     "exception": false,
     "start_time": "2020-09-16T15:44:48.411403",
     "status": "completed"
    },
    "tags": []
   },
   "outputs": [
    {
     "data": {
      "text/plain": [
       "<Figure size 432x288 with 0 Axes>"
      ]
     },
     "metadata": {},
     "output_type": "display_data"
    }
   ],
   "source": [
    "sns.set(style = 'darkgrid',\n",
    "       context = 'notebook',\n",
    "       palette = 'muted',\n",
    "       )\n",
    "sns.despine(left=True)"
   ]
  },
  {
   "cell_type": "code",
   "execution_count": 7,
   "metadata": {
    "_cell_guid": "79c7e3d0-c299-4dcb-8224-4455121ee9b0",
    "_kg_hide-input": true,
    "_uuid": "d629ff2d2480ee46fbb7e2d37f6b5fab8052498a",
    "execution": {
     "iopub.execute_input": "2020-09-16T15:44:48.565695Z",
     "iopub.status.busy": "2020-09-16T15:44:48.564501Z",
     "iopub.status.idle": "2020-09-16T15:44:48.635931Z",
     "shell.execute_reply": "2020-09-16T15:44:48.636444Z"
    },
    "papermill": {
     "duration": 0.112759,
     "end_time": "2020-09-16T15:44:48.636592",
     "exception": false,
     "start_time": "2020-09-16T15:44:48.523833",
     "status": "completed"
    },
    "tags": []
   },
   "outputs": [
    {
     "data": {
      "text/html": [
       "<div>\n",
       "<style scoped>\n",
       "    .dataframe tbody tr th:only-of-type {\n",
       "        vertical-align: middle;\n",
       "    }\n",
       "\n",
       "    .dataframe tbody tr th {\n",
       "        vertical-align: top;\n",
       "    }\n",
       "\n",
       "    .dataframe thead th {\n",
       "        text-align: right;\n",
       "    }\n",
       "</style>\n",
       "<table border=\"1\" class=\"dataframe\">\n",
       "  <thead>\n",
       "    <tr style=\"text-align: right;\">\n",
       "      <th></th>\n",
       "      <th>id</th>\n",
       "      <th>keyword</th>\n",
       "      <th>location</th>\n",
       "      <th>text</th>\n",
       "      <th>target</th>\n",
       "      <th>length</th>\n",
       "      <th>word_counts</th>\n",
       "    </tr>\n",
       "  </thead>\n",
       "  <tbody>\n",
       "    <tr>\n",
       "      <th>0</th>\n",
       "      <td>1</td>\n",
       "      <td>NaN</td>\n",
       "      <td>NaN</td>\n",
       "      <td>Our Deeds are the Reason of this #earthquake M...</td>\n",
       "      <td>1</td>\n",
       "      <td>69</td>\n",
       "      <td>13</td>\n",
       "    </tr>\n",
       "    <tr>\n",
       "      <th>1</th>\n",
       "      <td>4</td>\n",
       "      <td>NaN</td>\n",
       "      <td>NaN</td>\n",
       "      <td>Forest fire near La Ronge Sask. Canada</td>\n",
       "      <td>1</td>\n",
       "      <td>38</td>\n",
       "      <td>7</td>\n",
       "    </tr>\n",
       "    <tr>\n",
       "      <th>2</th>\n",
       "      <td>5</td>\n",
       "      <td>NaN</td>\n",
       "      <td>NaN</td>\n",
       "      <td>All residents asked to 'shelter in place' are ...</td>\n",
       "      <td>1</td>\n",
       "      <td>133</td>\n",
       "      <td>22</td>\n",
       "    </tr>\n",
       "    <tr>\n",
       "      <th>3</th>\n",
       "      <td>6</td>\n",
       "      <td>NaN</td>\n",
       "      <td>NaN</td>\n",
       "      <td>13,000 people receive #wildfires evacuation or...</td>\n",
       "      <td>1</td>\n",
       "      <td>65</td>\n",
       "      <td>8</td>\n",
       "    </tr>\n",
       "    <tr>\n",
       "      <th>4</th>\n",
       "      <td>7</td>\n",
       "      <td>NaN</td>\n",
       "      <td>NaN</td>\n",
       "      <td>Just got sent this photo from Ruby #Alaska as ...</td>\n",
       "      <td>1</td>\n",
       "      <td>88</td>\n",
       "      <td>16</td>\n",
       "    </tr>\n",
       "  </tbody>\n",
       "</table>\n",
       "</div>"
      ],
      "text/plain": [
       "   id keyword location                                               text  \\\n",
       "0   1     NaN      NaN  Our Deeds are the Reason of this #earthquake M...   \n",
       "1   4     NaN      NaN             Forest fire near La Ronge Sask. Canada   \n",
       "2   5     NaN      NaN  All residents asked to 'shelter in place' are ...   \n",
       "3   6     NaN      NaN  13,000 people receive #wildfires evacuation or...   \n",
       "4   7     NaN      NaN  Just got sent this photo from Ruby #Alaska as ...   \n",
       "\n",
       "   target  length  word_counts  \n",
       "0       1      69           13  \n",
       "1       1      38            7  \n",
       "2       1     133           22  \n",
       "3       1      65            8  \n",
       "4       1      88           16  "
      ]
     },
     "execution_count": 7,
     "metadata": {},
     "output_type": "execute_result"
    }
   ],
   "source": [
    "df = pd.read_csv('../input/nlp-getting-started/train.csv')\n",
    "df['length'] = df['text'].str.len() # compute tweet message count\n",
    "df['word_counts'] = df['text'].str.split().apply(len)\n",
    "df.head()"
   ]
  },
  {
   "cell_type": "markdown",
   "metadata": {
    "papermill": {
     "duration": 0.033311,
     "end_time": "2020-09-16T15:44:48.703211",
     "exception": false,
     "start_time": "2020-09-16T15:44:48.669900",
     "status": "completed"
    },
    "tags": []
   },
   "source": [
    "This notebook will focus on analyzing tweet message, Therefore I'll drop \"keyword\" and \"location\" attribute out of our consideration"
   ]
  },
  {
   "cell_type": "code",
   "execution_count": 8,
   "metadata": {
    "_kg_hide-input": true,
    "execution": {
     "iopub.execute_input": "2020-09-16T15:44:48.779043Z",
     "iopub.status.busy": "2020-09-16T15:44:48.778042Z",
     "iopub.status.idle": "2020-09-16T15:44:48.791092Z",
     "shell.execute_reply": "2020-09-16T15:44:48.790565Z"
    },
    "papermill": {
     "duration": 0.054457,
     "end_time": "2020-09-16T15:44:48.791198",
     "exception": false,
     "start_time": "2020-09-16T15:44:48.736741",
     "status": "completed"
    },
    "tags": []
   },
   "outputs": [
    {
     "name": "stdout",
     "output_type": "stream",
     "text": [
      "Training dataset shape\n",
      " 7613 rows, 7 columns\n",
      "\n",
      "Total missing values\n",
      "id                0\n",
      "keyword          61\n",
      "location       2533\n",
      "text              0\n",
      "target            0\n",
      "length            0\n",
      "word_counts       0\n",
      "dtype: int64\n"
     ]
    }
   ],
   "source": [
    "print(f\"Training dataset shape\\n {df.shape[0]} rows, {df.shape[1]} columns\")\n",
    "print('\\nTotal missing values')\n",
    "print(df.isnull().sum())\n",
    "df = df.drop(columns = ['keyword','location'])"
   ]
  },
  {
   "cell_type": "code",
   "execution_count": 9,
   "metadata": {
    "_kg_hide-input": true,
    "_kg_hide-output": true,
    "execution": {
     "iopub.execute_input": "2020-09-16T15:44:48.877270Z",
     "iopub.status.busy": "2020-09-16T15:44:48.876380Z",
     "iopub.status.idle": "2020-09-16T15:44:48.878636Z",
     "shell.execute_reply": "2020-09-16T15:44:48.879186Z"
    },
    "papermill": {
     "duration": 0.054056,
     "end_time": "2020-09-16T15:44:48.879314",
     "exception": false,
     "start_time": "2020-09-16T15:44:48.825258",
     "status": "completed"
    },
    "tags": []
   },
   "outputs": [],
   "source": [
    "word_count = tokenizer.word_counts\n",
    "word_count_sorted = {k:v for k,v in sorted(word_count.items(),reverse=True,key=lambda item: item[1])}\n",
    "most_common_word = []\n",
    "most_common_word_count = []\n",
    "i = 0\n",
    "for k,v in word_count_sorted.items():\n",
    "    if i == 20:\n",
    "        break\n",
    "    most_common_word.append(k)\n",
    "    most_common_word_count.append(v)\n",
    "    i += 1"
   ]
  },
  {
   "cell_type": "code",
   "execution_count": 10,
   "metadata": {
    "_kg_hide-input": true,
    "execution": {
     "iopub.execute_input": "2020-09-16T15:44:48.965646Z",
     "iopub.status.busy": "2020-09-16T15:44:48.964606Z",
     "iopub.status.idle": "2020-09-16T15:44:49.913047Z",
     "shell.execute_reply": "2020-09-16T15:44:49.913543Z"
    },
    "papermill": {
     "duration": 1.000602,
     "end_time": "2020-09-16T15:44:49.913686",
     "exception": false,
     "start_time": "2020-09-16T15:44:48.913084",
     "status": "completed"
    },
    "tags": []
   },
   "outputs": [
    {
     "data": {
      "image/png": "[encoded data removed]",
      "text/plain": [
       "<Figure size 1080x720 with 4 Axes>"
      ]
     },
     "metadata": {},
     "output_type": "display_data"
    }
   ],
   "source": [
    "f, axes = plt.subplots(2, 2, figsize=(15, 10))\n",
    "sns.despine(left=True)\n",
    "\n",
    "#Class distribution graph\n",
    "ax1 = sns.countplot(x='target',data=df, ax = axes[0,0])\n",
    "ax1.set_title('Class distribution',size = 15, y = 1.02)\n",
    "ax1.set_xlabel('Target')\n",
    "ax1.set_ylabel('Number of observation')\n",
    "\n",
    "#Distribution of tweet message length of Real and Fake Disaster\n",
    "ax2 = sns.kdeplot(df[df['target'] == 1].length ,shade = True, label = 'Real Disaster!' ,color ='b', ax=axes[0,1])\n",
    "ax3 = sns.kdeplot(df[df['target'] == 0].length , shade = True, label = 'Fake!', color = 'r', ax=axes[0,1])\n",
    "ax2.set_xlabel('Tweet message length (number of characters)')\n",
    "ax2.set_title('Distribution of tweet message length of Real and Fake Disaster',size = 15, y = 1.02)\n",
    "\n",
    "#Distribution of Number of words per tweets of Real and Fake Disaster\n",
    "ax3 = sns.kdeplot(df[df['target'] == 1].word_counts ,shade = True, label = 'Real Disaster!' ,color ='b', ax=axes[1,0])\n",
    "ax4 = sns.kdeplot(df[df['target'] == 0].word_counts , shade = True, label = 'Fake!', color = 'r', ax=axes[1,0])\n",
    "ax3.set_xlabel('Number of words per tweets')\n",
    "ax3.set_title('Distribution of Number of words per tweets of Real and Fake Disaster',size = 15, y = 1.02)\n",
    "\n",
    "#Word counts\n",
    "ax5 = sns.barplot(x=most_common_word,y=most_common_word_count,\n",
    "            palette = sns.cubehelix_palette(n_colors=20,rot=-.3,reverse=True), ax=axes[1,1])\n",
    "ax5.set_xticklabels(ax5.get_xticklabels(),\n",
    "                  rotation=90);\n",
    "ax5.set_ylabel('Number of observation')\n",
    "ax5.set_title('20 Most frequent words',size = 15, y = 1.02)\n",
    "\n",
    "plt.tight_layout(pad=2.0);"
   ]
  },
  {
   "cell_type": "markdown",
   "metadata": {
    "papermill": {
     "duration": 0.036289,
     "end_time": "2020-09-16T15:44:49.986306",
     "exception": false,
     "start_time": "2020-09-16T15:44:49.950017",
     "status": "completed"
    },
    "tags": []
   },
   "source": [
    "* In training set, we've comparative amount of Real and Fake news. There should not be any problem with class imbalance\n",
    "* In aspect of tweet message length, there is no significant different between real and fake disaster. Both of them median around 135 charaters\n",
    "* For number of words per tweet, for average both real and fake disaster tweet has around 10-20 words per tweets. However, there is no significant different for distribution of each group "
   ]
  },
  {
   "cell_type": "markdown",
   "metadata": {
    "papermill": {
     "duration": 0.037972,
     "end_time": "2020-09-16T15:44:50.061880",
     "exception": false,
     "start_time": "2020-09-16T15:44:50.023908",
     "status": "completed"
    },
    "tags": []
   },
   "source": [
    "# Modeling"
   ]
  },
  {
   "cell_type": "markdown",
   "metadata": {
    "papermill": {
     "duration": 0.038503,
     "end_time": "2020-09-16T15:44:50.139776",
     "exception": false,
     "start_time": "2020-09-16T15:44:50.101273",
     "status": "completed"
    },
    "tags": []
   },
   "source": [
    "I decided to use pretrianed word vectors from [GloVe : Global Vectors for Word Representation from Stanford university](https://nlp.stanford.edu/projects/glove/) \n",
    "\n",
    "> GloVe is an unsupervised learning algorithm for obtaining vector representations for words. Training is performed on aggregated global word-word co-occurrence statistics from a corpus, and the resulting representations showcase interesting linear substructures of the word vector space.\n",
    "\n",
    "*Please note that, we use glove6B with 100-dimensional vector for our training.*"
   ]
  },
  {
   "cell_type": "code",
   "execution_count": 11,
   "metadata": {
    "execution": {
     "iopub.execute_input": "2020-09-16T15:44:50.227796Z",
     "iopub.status.busy": "2020-09-16T15:44:50.227114Z",
     "iopub.status.idle": "2020-09-16T15:45:10.224621Z",
     "shell.execute_reply": "2020-09-16T15:45:10.223911Z"
    },
    "papermill": {
     "duration": 20.046044,
     "end_time": "2020-09-16T15:45:10.224754",
     "exception": false,
     "start_time": "2020-09-16T15:44:50.178710",
     "status": "completed"
    },
    "tags": []
   },
   "outputs": [],
   "source": [
    "#Special thanks to Laurence Moroney for his hosted site for easier download\n",
    "\n",
    "#This block of code simply map our words in tokenizer to 100-dimensional vectors with pretrained weight\n",
    "embeddings_index = {};\n",
    "with open('../input/standford-glove/glove.6B.100d.txt') as f:\n",
    "    for line in f:\n",
    "        values = line.split();\n",
    "        word = values[0];\n",
    "        coefs = np.asarray(values[1:], dtype='float32');\n",
    "        embeddings_index[word] = coefs;\n",
    "\n",
    "embeddings_matrix = np.zeros((vocab_size+1, embedding_dim));\n",
    "for word, i in word_index.items():\n",
    "    embedding_vector = embeddings_index.get(word);\n",
    "    if embedding_vector is not None:\n",
    "        embeddings_matrix[i] = embedding_vector;"
   ]
  },
  {
   "cell_type": "markdown",
   "metadata": {
    "papermill": {
     "duration": 0.038748,
     "end_time": "2020-09-16T15:45:10.301876",
     "exception": false,
     "start_time": "2020-09-16T15:45:10.263128",
     "status": "completed"
    },
    "tags": []
   },
   "source": [
    "## Baseline model"
   ]
  },
  {
   "cell_type": "code",
   "execution_count": 12,
   "metadata": {
    "_kg_hide-input": true,
    "_kg_hide-output": true,
    "execution": {
     "iopub.execute_input": "2020-09-16T15:45:10.392182Z",
     "iopub.status.busy": "2020-09-16T15:45:10.391436Z",
     "iopub.status.idle": "2020-09-16T15:45:10.395200Z",
     "shell.execute_reply": "2020-09-16T15:45:10.394711Z"
    },
    "papermill": {
     "duration": 0.055261,
     "end_time": "2020-09-16T15:45:10.395292",
     "exception": false,
     "start_time": "2020-09-16T15:45:10.340031",
     "status": "completed"
    },
    "tags": []
   },
   "outputs": [],
   "source": [
    "import matplotlib.image  as mpimg\n",
    "import matplotlib.pyplot as plt\n",
    "\n",
    "#-----------------------------------------------------------\n",
    "# Retrieve a list of list results on training and test data\n",
    "# sets for each training epoch\n",
    "#-----------------------------------------------------------\n",
    "def plot_lr_lc(history):\n",
    "    acc=history.history['accuracy']\n",
    "    val_acc=history.history['val_accuracy']\n",
    "    loss=history.history['loss']\n",
    "    val_loss=history.history['val_loss']\n",
    "    \n",
    "    epochs=range(len(acc)) # Get number of epochs\n",
    "    \n",
    "    #------------------------------------------------\n",
    "    # Plot learning rate vs loss to find optimal learning rate\n",
    "    #------------------------------------------------\n",
    "    plt.semilogx(history.history[\"lr\"], history.history[\"loss\"])\n",
    "    plt.axis([1e-5, 10, 0, 1])\n",
    "    plt.xlabel('Learning Rate')\n",
    "    plt.ylabel('Loss')\n",
    "    plt.title(str(history))    \n",
    "    plt.figure()\n",
    "    \n",
    "    #------------------------------------------------\n",
    "    # Plot training and validation accuracy per epoch\n",
    "    #------------------------------------------------\n",
    "    plt.plot(epochs, acc, 'r')\n",
    "    plt.plot(epochs, val_acc, 'b')\n",
    "    plt.title('Training and validation accuracy')\n",
    "    plt.xlabel(\"Epochs\")\n",
    "    plt.ylabel(\"Accuracy\")\n",
    "    plt.legend([\"Accuracy\", \"Validation Accuracy\"])\n",
    "    plt.axis([0,80,0,1])\n",
    "    plt.figure()\n",
    "    \n",
    "    #------------------------------------------------\n",
    "    # Plot training and validation loss per epoch\n",
    "    #------------------------------------------------\n",
    "    plt.plot(epochs, loss, 'r')\n",
    "    plt.plot(epochs, val_loss, 'b')\n",
    "    plt.title('Training and validation loss')\n",
    "    plt.xlabel(\"Epochs\")\n",
    "    plt.ylabel(\"Loss\")\n",
    "    plt.legend([\"Loss\", \"Validation Loss\"])\n",
    "    plt.axis([0,80,0,5])\n",
    "    plt.figure()\n",
    "\n",
    "\n",
    "# Expected Output\n",
    "# A chart where the validation loss does not increase sharply!"
   ]
  },
  {
   "cell_type": "code",
   "execution_count": 13,
   "metadata": {
    "_kg_hide-input": true,
    "execution": {
     "iopub.execute_input": "2020-09-16T15:45:10.483842Z",
     "iopub.status.busy": "2020-09-16T15:45:10.483158Z",
     "iopub.status.idle": "2020-09-16T15:45:14.347430Z",
     "shell.execute_reply": "2020-09-16T15:45:14.346689Z"
    },
    "papermill": {
     "duration": 3.914477,
     "end_time": "2020-09-16T15:45:14.347617",
     "exception": false,
     "start_time": "2020-09-16T15:45:10.433140",
     "status": "completed"
    },
    "tags": []
   },
   "outputs": [
    {
     "name": "stdout",
     "output_type": "stream",
     "text": [
      "Model: \"sequential\"\n",
      "_________________________________________________________________\n",
      "Layer (type)                 Output Shape              Param #   \n",
      "=================================================================\n",
      "embedding (Embedding)        (None, 50, 100)           1809800   \n",
      "_________________________________________________________________\n",
      "conv1d (Conv1D)              (None, 46, 16)            8016      \n",
      "_________________________________________________________________\n",
      "dropout (Dropout)            (None, 46, 16)            0         \n",
      "_________________________________________________________________\n",
      "max_pooling1d (MaxPooling1D) (None, 11, 16)            0         \n",
      "_________________________________________________________________\n",
      "bidirectional (Bidirectional (None, 64)                12544     \n",
      "_________________________________________________________________\n",
      "dense (Dense)                (None, 8)                 520       \n",
      "_________________________________________________________________\n",
      "dense_1 (Dense)              (None, 1)                 9         \n",
      "=================================================================\n",
      "Total params: 1,830,889\n",
      "Trainable params: 21,089\n",
      "Non-trainable params: 1,809,800\n",
      "_________________________________________________________________\n"
     ]
    }
   ],
   "source": [
    "tf.keras.backend.clear_session()\n",
    "tf.random.set_seed(51)\n",
    "np.random.seed(51)\n",
    "\n",
    "#hyperparameter to tune\n",
    "l2_weight = 0.01\n",
    "dropout_rate = 0.3\n",
    "initial_lr = 0.001\n",
    "\n",
    "lr_schedule = tf.keras.callbacks.LearningRateScheduler(\n",
    "    lambda epoch: initial_lr * 10**(epoch/20))\n",
    "\n",
    "model = tf.keras.Sequential([\n",
    "    tf.keras.layers.Embedding(vocab_size+1,embedding_dim,input_length = max_length, weights = [embeddings_matrix], trainable=False),\n",
    "    tf.keras.layers.Conv1D(16, 5, activation='relu'),\n",
    "    tf.keras.layers.Dropout(dropout_rate),\n",
    "    tf.keras.layers.MaxPooling1D(pool_size=4),\n",
    "    tf.keras.layers.Bidirectional(LSTM(32,dropout = dropout_rate)),\n",
    "    tf.keras.layers.Dense(8, activation='relu',kernel_regularizer = tf.keras.regularizers.l2(l2_weight)),\n",
    "    tf.keras.layers.Dense(1, activation='sigmoid')\n",
    "])\n",
    "\n",
    "\n",
    "model.compile(loss='binary_crossentropy', \n",
    "              optimizer = tf.keras.optimizers.SGD(lr=initial_lr ,momentum=0.9) ,\n",
    "              metrics=['accuracy']\n",
    "             )\n",
    "model.summary()"
   ]
  },
  {
   "cell_type": "code",
   "execution_count": 14,
   "metadata": {
    "_kg_hide-output": true,
    "execution": {
     "iopub.execute_input": "2020-09-16T15:45:14.431962Z",
     "iopub.status.busy": "2020-09-16T15:45:14.431386Z",
     "iopub.status.idle": "2020-09-16T15:46:39.676526Z",
     "shell.execute_reply": "2020-09-16T15:46:39.675920Z"
    },
    "papermill": {
     "duration": 85.2904,
     "end_time": "2020-09-16T15:46:39.676652",
     "exception": false,
     "start_time": "2020-09-16T15:45:14.386252",
     "status": "completed"
    },
    "tags": []
   },
   "outputs": [
    {
     "name": "stdout",
     "output_type": "stream",
     "text": [
      "Epoch 1/50\n",
      "188/188 [==============================] - 3s 14ms/step - loss: 0.8088 - accuracy: 0.5668 - val_loss: 0.7900 - val_accuracy: 0.5753\n",
      "Epoch 2/50\n",
      "188/188 [==============================] - 1s 8ms/step - loss: 0.7765 - accuracy: 0.6073 - val_loss: 0.7524 - val_accuracy: 0.6441\n",
      "Epoch 3/50\n",
      "188/188 [==============================] - 2s 9ms/step - loss: 0.7363 - accuracy: 0.6762 - val_loss: 0.7062 - val_accuracy: 0.7142\n",
      "Epoch 4/50\n",
      "188/188 [==============================] - 2s 8ms/step - loss: 0.6930 - accuracy: 0.7283 - val_loss: 0.6579 - val_accuracy: 0.7570\n",
      "Epoch 5/50\n",
      "188/188 [==============================] - 1s 8ms/step - loss: 0.6519 - accuracy: 0.7507 - val_loss: 0.6178 - val_accuracy: 0.7688\n",
      "Epoch 6/50\n",
      "188/188 [==============================] - 1s 8ms/step - loss: 0.6132 - accuracy: 0.7622 - val_loss: 0.5887 - val_accuracy: 0.7855\n",
      "Epoch 7/50\n",
      "188/188 [==============================] - 1s 8ms/step - loss: 0.5890 - accuracy: 0.7672 - val_loss: 0.5531 - val_accuracy: 0.7923\n",
      "Epoch 8/50\n",
      "188/188 [==============================] - 1s 8ms/step - loss: 0.5567 - accuracy: 0.7777 - val_loss: 0.5311 - val_accuracy: 0.8029\n",
      "Epoch 9/50\n",
      "188/188 [==============================] - 2s 8ms/step - loss: 0.5345 - accuracy: 0.7867 - val_loss: 0.5136 - val_accuracy: 0.8035\n",
      "Epoch 10/50\n",
      "188/188 [==============================] - 1s 8ms/step - loss: 0.5111 - accuracy: 0.7948 - val_loss: 0.4965 - val_accuracy: 0.8097\n",
      "Epoch 11/50\n",
      "188/188 [==============================] - 2s 9ms/step - loss: 0.4966 - accuracy: 0.7982 - val_loss: 0.4865 - val_accuracy: 0.8041\n",
      "Epoch 12/50\n",
      "188/188 [==============================] - 2s 9ms/step - loss: 0.4840 - accuracy: 0.7972 - val_loss: 0.4805 - val_accuracy: 0.8060\n",
      "Epoch 13/50\n",
      "188/188 [==============================] - 2s 9ms/step - loss: 0.4688 - accuracy: 0.8070 - val_loss: 0.4606 - val_accuracy: 0.8103\n",
      "Epoch 14/50\n",
      "188/188 [==============================] - 2s 9ms/step - loss: 0.4522 - accuracy: 0.8110 - val_loss: 0.4527 - val_accuracy: 0.8115\n",
      "Epoch 15/50\n",
      "188/188 [==============================] - 2s 9ms/step - loss: 0.4483 - accuracy: 0.8093 - val_loss: 0.4444 - val_accuracy: 0.8153\n",
      "Epoch 16/50\n",
      "188/188 [==============================] - 2s 8ms/step - loss: 0.4395 - accuracy: 0.8115 - val_loss: 0.4530 - val_accuracy: 0.8066\n",
      "Epoch 17/50\n",
      "188/188 [==============================] - 2s 9ms/step - loss: 0.4299 - accuracy: 0.8165 - val_loss: 0.4434 - val_accuracy: 0.8078\n",
      "Epoch 18/50\n",
      "188/188 [==============================] - 1s 8ms/step - loss: 0.4250 - accuracy: 0.8215 - val_loss: 0.4779 - val_accuracy: 0.7880\n",
      "Epoch 19/50\n",
      "188/188 [==============================] - 1s 8ms/step - loss: 0.4147 - accuracy: 0.8262 - val_loss: 0.4373 - val_accuracy: 0.8084\n",
      "Epoch 20/50\n",
      "188/188 [==============================] - 1s 8ms/step - loss: 0.4094 - accuracy: 0.8237 - val_loss: 0.4318 - val_accuracy: 0.8171\n",
      "Epoch 21/50\n",
      "188/188 [==============================] - 1s 8ms/step - loss: 0.4053 - accuracy: 0.8238 - val_loss: 0.4264 - val_accuracy: 0.8221\n",
      "Epoch 22/50\n",
      "188/188 [==============================] - 1s 8ms/step - loss: 0.4123 - accuracy: 0.8252 - val_loss: 0.4482 - val_accuracy: 0.8016\n",
      "Epoch 23/50\n",
      "188/188 [==============================] - 2s 8ms/step - loss: 0.3973 - accuracy: 0.8297 - val_loss: 0.4326 - val_accuracy: 0.8122\n",
      "Epoch 24/50\n",
      "188/188 [==============================] - 1s 8ms/step - loss: 0.3914 - accuracy: 0.8333 - val_loss: 0.4343 - val_accuracy: 0.8165\n",
      "Epoch 25/50\n",
      "188/188 [==============================] - 2s 9ms/step - loss: 0.3932 - accuracy: 0.8355 - val_loss: 0.4253 - val_accuracy: 0.8184\n",
      "Epoch 26/50\n",
      "188/188 [==============================] - 1s 8ms/step - loss: 0.3900 - accuracy: 0.8397 - val_loss: 0.4419 - val_accuracy: 0.8159\n",
      "Epoch 27/50\n",
      "188/188 [==============================] - 1s 8ms/step - loss: 0.3778 - accuracy: 0.8447 - val_loss: 0.4363 - val_accuracy: 0.8153\n",
      "Epoch 28/50\n",
      "188/188 [==============================] - 1s 8ms/step - loss: 0.3924 - accuracy: 0.8352 - val_loss: 0.4538 - val_accuracy: 0.8196\n",
      "Epoch 29/50\n",
      "188/188 [==============================] - 2s 9ms/step - loss: 0.3822 - accuracy: 0.8357 - val_loss: 0.4496 - val_accuracy: 0.8010\n",
      "Epoch 30/50\n",
      "188/188 [==============================] - 1s 8ms/step - loss: 0.3814 - accuracy: 0.8415 - val_loss: 0.5055 - val_accuracy: 0.7787\n",
      "Epoch 31/50\n",
      "188/188 [==============================] - 1s 7ms/step - loss: 0.3818 - accuracy: 0.8375 - val_loss: 0.4778 - val_accuracy: 0.8060\n",
      "Epoch 32/50\n",
      "188/188 [==============================] - 2s 8ms/step - loss: 0.3821 - accuracy: 0.8382 - val_loss: 0.4813 - val_accuracy: 0.8159\n",
      "Epoch 33/50\n",
      "188/188 [==============================] - 1s 7ms/step - loss: 0.3819 - accuracy: 0.8415 - val_loss: 0.4356 - val_accuracy: 0.8239\n",
      "Epoch 34/50\n",
      "188/188 [==============================] - 1s 8ms/step - loss: 0.3798 - accuracy: 0.8450 - val_loss: 0.4655 - val_accuracy: 0.7985\n",
      "Epoch 35/50\n",
      "188/188 [==============================] - 1s 8ms/step - loss: 0.3711 - accuracy: 0.8498 - val_loss: 0.4604 - val_accuracy: 0.8115\n",
      "Epoch 36/50\n",
      "188/188 [==============================] - 1s 7ms/step - loss: 0.3609 - accuracy: 0.8548 - val_loss: 0.4334 - val_accuracy: 0.8177\n",
      "Epoch 37/50\n",
      "188/188 [==============================] - 2s 9ms/step - loss: 0.3800 - accuracy: 0.8410 - val_loss: 0.4356 - val_accuracy: 0.8128\n",
      "Epoch 38/50\n",
      "188/188 [==============================] - 2s 8ms/step - loss: 0.3692 - accuracy: 0.8512 - val_loss: 0.4566 - val_accuracy: 0.8159\n",
      "Epoch 39/50\n",
      "188/188 [==============================] - 2s 10ms/step - loss: 0.3686 - accuracy: 0.8523 - val_loss: 0.4381 - val_accuracy: 0.8103\n",
      "Epoch 40/50\n",
      "188/188 [==============================] - 2s 9ms/step - loss: 0.3776 - accuracy: 0.8460 - val_loss: 0.4407 - val_accuracy: 0.8215\n",
      "Epoch 41/50\n",
      "188/188 [==============================] - 1s 8ms/step - loss: 0.3910 - accuracy: 0.8393 - val_loss: 0.4873 - val_accuracy: 0.8004\n",
      "Epoch 42/50\n",
      "188/188 [==============================] - 1s 8ms/step - loss: 0.3844 - accuracy: 0.8422 - val_loss: 0.4672 - val_accuracy: 0.8072\n",
      "Epoch 43/50\n",
      "188/188 [==============================] - 1s 8ms/step - loss: 0.3810 - accuracy: 0.8428 - val_loss: 0.4655 - val_accuracy: 0.8190\n",
      "Epoch 44/50\n",
      "188/188 [==============================] - 1s 8ms/step - loss: 0.3920 - accuracy: 0.8352 - val_loss: 0.4796 - val_accuracy: 0.7967\n",
      "Epoch 45/50\n",
      "188/188 [==============================] - 1s 8ms/step - loss: 0.3824 - accuracy: 0.8443 - val_loss: 0.4769 - val_accuracy: 0.8134\n",
      "Epoch 46/50\n",
      "188/188 [==============================] - 2s 9ms/step - loss: 0.3950 - accuracy: 0.8385 - val_loss: 0.4408 - val_accuracy: 0.8190\n",
      "Epoch 47/50\n",
      "188/188 [==============================] - 1s 8ms/step - loss: 0.4001 - accuracy: 0.8395 - val_loss: 0.4567 - val_accuracy: 0.8091\n",
      "Epoch 48/50\n",
      "188/188 [==============================] - 1s 8ms/step - loss: 0.3919 - accuracy: 0.8468 - val_loss: 0.5264 - val_accuracy: 0.8041\n",
      "Epoch 49/50\n",
      "188/188 [==============================] - 1s 7ms/step - loss: 0.3957 - accuracy: 0.8450 - val_loss: 0.4626 - val_accuracy: 0.8066\n",
      "Epoch 50/50\n",
      "188/188 [==============================] - 2s 8ms/step - loss: 0.4276 - accuracy: 0.8232 - val_loss: 0.4499 - val_accuracy: 0.8196\n"
     ]
    }
   ],
   "source": [
    "num_epochs = 50\n",
    "history = model.fit(train_padded, np.array(train_labels), epochs=num_epochs, \n",
    "                    validation_data=(val_padded, np.array(val_labels)), \n",
    "                    verbose=1,\n",
    "                   callbacks = [lr_schedule]\n",
    "                   )"
   ]
  },
  {
   "cell_type": "code",
   "execution_count": 15,
   "metadata": {
    "execution": {
     "iopub.execute_input": "2020-09-16T15:46:40.682093Z",
     "iopub.status.busy": "2020-09-16T15:46:40.680573Z",
     "iopub.status.idle": "2020-09-16T15:46:42.721758Z",
     "shell.execute_reply": "2020-09-16T15:46:42.721063Z"
    },
    "papermill": {
     "duration": 2.546431,
     "end_time": "2020-09-16T15:46:42.721900",
     "exception": false,
     "start_time": "2020-09-16T15:46:40.175469",
     "status": "completed"
    },
    "tags": []
   },
   "outputs": [
    {
     "data": {
      "image/png": "[encoded data removed]",
      "text/plain": [
       "<Figure size 432x288 with 1 Axes>"
      ]
     },
     "metadata": {},
     "output_type": "display_data"
    },
    {
     "data": {
      "image/png": "[encoded data removed]",
      "text/plain": [
       "<Figure size 432x288 with 1 Axes>"
      ]
     },
     "metadata": {},
     "output_type": "display_data"
    },
    {
     "data": {
      "image/png": "[encoded data removed]",
      "text/plain": [
       "<Figure size 432x288 with 1 Axes>"
      ]
     },
     "metadata": {},
     "output_type": "display_data"
    },
    {
     "data": {
      "text/plain": [
       "<Figure size 432x288 with 0 Axes>"
      ]
     },
     "metadata": {},
     "output_type": "display_data"
    }
   ],
   "source": [
    "plot_lr_lc(history)"
   ]
  },
  {
   "cell_type": "markdown",
   "metadata": {
    "papermill": {
     "duration": 0.497322,
     "end_time": "2020-09-16T15:46:43.753971",
     "exception": false,
     "start_time": "2020-09-16T15:46:43.256649",
     "status": "completed"
    },
    "tags": []
   },
   "source": [
    "It's been observed that. With learning rate ~ 3x10^-2, the model tend to have lowest loss and more stable than larger learning rate. \n",
    "\n",
    "However our model able to reach highest accuracy around 80%"
   ]
  },
  {
   "cell_type": "markdown",
   "metadata": {
    "papermill": {
     "duration": 0.718321,
     "end_time": "2020-09-16T15:46:44.982469",
     "exception": false,
     "start_time": "2020-09-16T15:46:44.264148",
     "status": "completed"
    },
    "tags": []
   },
   "source": [
    "## Train final model"
   ]
  },
  {
   "cell_type": "markdown",
   "metadata": {
    "papermill": {
     "duration": 0.501111,
     "end_time": "2020-09-16T15:46:46.026875",
     "exception": false,
     "start_time": "2020-09-16T15:46:45.525764",
     "status": "completed"
    },
    "tags": []
   },
   "source": [
    "Let's train our model with optimal learning rate (3x10^-2) and see if we can improve the performance\n",
    "\n",
    "At this time, I also set 2 callback event for training\n",
    "1. EarlyStopping callback : to save training time if there is no performance improvement\n",
    "1. ModelCheckpoint callback : to load model weight which result in lowest validation accuracy"
   ]
  },
  {
   "cell_type": "code",
   "execution_count": 16,
   "metadata": {
    "_kg_hide-input": true,
    "execution": {
     "iopub.execute_input": "2020-09-16T15:46:47.072310Z",
     "iopub.status.busy": "2020-09-16T15:46:47.071313Z",
     "iopub.status.idle": "2020-09-16T15:46:47.906086Z",
     "shell.execute_reply": "2020-09-16T15:46:47.905359Z"
    },
    "papermill": {
     "duration": 1.359031,
     "end_time": "2020-09-16T15:46:47.906215",
     "exception": false,
     "start_time": "2020-09-16T15:46:46.547184",
     "status": "completed"
    },
    "tags": []
   },
   "outputs": [
    {
     "name": "stdout",
     "output_type": "stream",
     "text": [
      "Model: \"sequential\"\n",
      "_________________________________________________________________\n",
      "Layer (type)                 Output Shape              Param #   \n",
      "=================================================================\n",
      "embedding (Embedding)        (None, 50, 100)           1809800   \n",
      "_________________________________________________________________\n",
      "conv1d (Conv1D)              (None, 46, 16)            8016      \n",
      "_________________________________________________________________\n",
      "dropout (Dropout)            (None, 46, 16)            0         \n",
      "_________________________________________________________________\n",
      "max_pooling1d (MaxPooling1D) (None, 11, 16)            0         \n",
      "_________________________________________________________________\n",
      "bidirectional (Bidirectional (None, 64)                12544     \n",
      "_________________________________________________________________\n",
      "dense (Dense)                (None, 8)                 520       \n",
      "_________________________________________________________________\n",
      "dense_1 (Dense)              (None, 1)                 9         \n",
      "=================================================================\n",
      "Total params: 1,830,889\n",
      "Trainable params: 21,089\n",
      "Non-trainable params: 1,809,800\n",
      "_________________________________________________________________\n"
     ]
    }
   ],
   "source": [
    "tf.keras.backend.clear_session()\n",
    "tf.random.set_seed(51)\n",
    "np.random.seed(51)\n",
    "#hyperparameter to tune\n",
    "l2_weight = 0.01\n",
    "dropout_rate = 0.3\n",
    "\n",
    "model = tf.keras.Sequential([\n",
    "    tf.keras.layers.Embedding(vocab_size+1,embedding_dim,input_length = max_length, weights = [embeddings_matrix], trainable=False),\n",
    "    tf.keras.layers.Conv1D(16, 5, activation='relu'),\n",
    "    tf.keras.layers.Dropout(dropout_rate),\n",
    "    tf.keras.layers.MaxPooling1D(pool_size=4),\n",
    "    tf.keras.layers.Bidirectional(LSTM(32,dropout = dropout_rate)),\n",
    "    tf.keras.layers.Dense(8, activation='relu',kernel_regularizer = tf.keras.regularizers.l2(l2_weight)),\n",
    "    tf.keras.layers.Dense(1, activation='sigmoid')\n",
    "])\n",
    "\n",
    "\n",
    "model.compile(loss='binary_crossentropy', optimizer = tf.keras.optimizers.SGD(lr=3e-2 ,momentum=0.9) ,metrics=['accuracy'])\n",
    "model.summary()"
   ]
  },
  {
   "cell_type": "code",
   "execution_count": 17,
   "metadata": {
    "_kg_hide-output": true,
    "execution": {
     "iopub.execute_input": "2020-09-16T15:46:48.923301Z",
     "iopub.status.busy": "2020-09-16T15:46:48.922323Z",
     "iopub.status.idle": "2020-09-16T15:47:31.574150Z",
     "shell.execute_reply": "2020-09-16T15:47:31.573366Z"
    },
    "papermill": {
     "duration": 43.161252,
     "end_time": "2020-09-16T15:47:31.574300",
     "exception": false,
     "start_time": "2020-09-16T15:46:48.413048",
     "status": "completed"
    },
    "tags": []
   },
   "outputs": [
    {
     "name": "stdout",
     "output_type": "stream",
     "text": [
      "Epoch 1/100\n",
      "188/188 [==============================] - 2s 11ms/step - loss: 0.6237 - accuracy: 0.7238 - val_loss: 0.5354 - val_accuracy: 0.7557\n",
      "Epoch 2/100\n",
      "188/188 [==============================] - 1s 8ms/step - loss: 0.4977 - accuracy: 0.7750 - val_loss: 0.4799 - val_accuracy: 0.7898\n",
      "Epoch 3/100\n",
      "188/188 [==============================] - 2s 8ms/step - loss: 0.4633 - accuracy: 0.7962 - val_loss: 0.4398 - val_accuracy: 0.8165\n",
      "Epoch 4/100\n",
      "188/188 [==============================] - 1s 7ms/step - loss: 0.4576 - accuracy: 0.8022 - val_loss: 0.4358 - val_accuracy: 0.8153\n",
      "Epoch 5/100\n",
      "188/188 [==============================] - 1s 7ms/step - loss: 0.4327 - accuracy: 0.8160 - val_loss: 0.4509 - val_accuracy: 0.8103\n",
      "Epoch 6/100\n",
      "188/188 [==============================] - 1s 7ms/step - loss: 0.4284 - accuracy: 0.8175 - val_loss: 0.4298 - val_accuracy: 0.8184\n",
      "Epoch 7/100\n",
      "188/188 [==============================] - 1s 8ms/step - loss: 0.4182 - accuracy: 0.8217 - val_loss: 0.4335 - val_accuracy: 0.8159\n",
      "Epoch 8/100\n",
      "188/188 [==============================] - 1s 7ms/step - loss: 0.4119 - accuracy: 0.8228 - val_loss: 0.4468 - val_accuracy: 0.8060\n",
      "Epoch 9/100\n",
      "188/188 [==============================] - 1s 8ms/step - loss: 0.4070 - accuracy: 0.8260 - val_loss: 0.4352 - val_accuracy: 0.8215\n",
      "Epoch 10/100\n",
      "188/188 [==============================] - 2s 8ms/step - loss: 0.3933 - accuracy: 0.8405 - val_loss: 0.4361 - val_accuracy: 0.8215\n",
      "Epoch 11/100\n",
      "188/188 [==============================] - 1s 7ms/step - loss: 0.3939 - accuracy: 0.8368 - val_loss: 0.4528 - val_accuracy: 0.8109\n",
      "Epoch 12/100\n",
      "188/188 [==============================] - 1s 8ms/step - loss: 0.3832 - accuracy: 0.8352 - val_loss: 0.4904 - val_accuracy: 0.7756\n",
      "Epoch 13/100\n",
      "188/188 [==============================] - 2s 8ms/step - loss: 0.3783 - accuracy: 0.8487 - val_loss: 0.4366 - val_accuracy: 0.8153\n",
      "Epoch 14/100\n",
      "188/188 [==============================] - 1s 7ms/step - loss: 0.3745 - accuracy: 0.8483 - val_loss: 0.4528 - val_accuracy: 0.8221\n",
      "Epoch 15/100\n",
      "188/188 [==============================] - 1s 7ms/step - loss: 0.3680 - accuracy: 0.8487 - val_loss: 0.4473 - val_accuracy: 0.8053\n",
      "Epoch 16/100\n",
      "188/188 [==============================] - 1s 7ms/step - loss: 0.3612 - accuracy: 0.8472 - val_loss: 0.4361 - val_accuracy: 0.8159\n",
      "Epoch 17/100\n",
      "188/188 [==============================] - 1s 7ms/step - loss: 0.3590 - accuracy: 0.8522 - val_loss: 0.4590 - val_accuracy: 0.8115\n",
      "Epoch 18/100\n",
      "188/188 [==============================] - 2s 10ms/step - loss: 0.3511 - accuracy: 0.8537 - val_loss: 0.4656 - val_accuracy: 0.8047\n",
      "Epoch 19/100\n",
      "188/188 [==============================] - 2s 10ms/step - loss: 0.3492 - accuracy: 0.8605 - val_loss: 0.4543 - val_accuracy: 0.8097\n",
      "Epoch 20/100\n",
      "188/188 [==============================] - 2s 8ms/step - loss: 0.3361 - accuracy: 0.8678 - val_loss: 0.4576 - val_accuracy: 0.8196\n",
      "Epoch 21/100\n",
      "188/188 [==============================] - 2s 8ms/step - loss: 0.3301 - accuracy: 0.8680 - val_loss: 0.4721 - val_accuracy: 0.8128\n",
      "Epoch 22/100\n",
      "188/188 [==============================] - 1s 8ms/step - loss: 0.3357 - accuracy: 0.8675 - val_loss: 0.4926 - val_accuracy: 0.8041\n",
      "Epoch 23/100\n",
      "188/188 [==============================] - 1s 8ms/step - loss: 0.3244 - accuracy: 0.8760 - val_loss: 0.4722 - val_accuracy: 0.8140\n",
      "Epoch 24/100\n",
      "188/188 [==============================] - 2s 8ms/step - loss: 0.3163 - accuracy: 0.8778 - val_loss: 0.4895 - val_accuracy: 0.8159\n",
      "Epoch 25/100\n",
      "188/188 [==============================] - 2s 8ms/step - loss: 0.3206 - accuracy: 0.8738 - val_loss: 0.4876 - val_accuracy: 0.8091\n",
      "Epoch 26/100\n",
      "188/188 [==============================] - 1s 8ms/step - loss: 0.3139 - accuracy: 0.8748 - val_loss: 0.4814 - val_accuracy: 0.7998\n"
     ]
    }
   ],
   "source": [
    "num_epochs = 100\n",
    "\n",
    "\n",
    "#Early stop the training if there's no improvement in model performance for 20 epochs\n",
    "early = tf.keras.callbacks.EarlyStopping(monitor='val_loss', patience=20)\n",
    "\n",
    "\n",
    "#Reduce model learning rate if validation loss reach plateau\n",
    "reduce_lr = tf.keras.callbacks.ReduceLROnPlateau(monitor='val_loss', factor=0.2,\n",
    "                              patience=20, min_lr=0.001)\n",
    "\n",
    "#Checkpoint callback for model with lowest validation accuracy\n",
    "checkpoint_filepath = 'checkpoint'\n",
    "model_checkpoint_callback = tf.keras.callbacks.ModelCheckpoint(\n",
    "    filepath=checkpoint_filepath,\n",
    "    save_weights_only=True,\n",
    "    monitor='val_acc',\n",
    "    save_best_only=True)\n",
    "\n",
    "\n",
    "history = model.fit(train_padded, np.array(train_labels), epochs=num_epochs, \n",
    "                    validation_data=(val_padded, np.array(val_labels)), \n",
    "                    verbose=1,\n",
    "                    callbacks= [early,model_checkpoint_callback]\n",
    "                   )"
   ]
  },
  {
   "cell_type": "code",
   "execution_count": 18,
   "metadata": {
    "_kg_hide-input": true,
    "execution": {
     "iopub.execute_input": "2020-09-16T15:47:33.076838Z",
     "iopub.status.busy": "2020-09-16T15:47:33.070809Z",
     "iopub.status.idle": "2020-09-16T15:47:33.685816Z",
     "shell.execute_reply": "2020-09-16T15:47:33.686467Z"
    },
    "papermill": {
     "duration": 1.369364,
     "end_time": "2020-09-16T15:47:33.686627",
     "exception": false,
     "start_time": "2020-09-16T15:47:32.317263",
     "status": "completed"
    },
    "tags": []
   },
   "outputs": [
    {
     "data": {
      "text/plain": [
       "<Figure size 432x288 with 0 Axes>"
      ]
     },
     "execution_count": 18,
     "metadata": {},
     "output_type": "execute_result"
    },
    {
     "data": {
      "image/png": "[encoded data removed]",
      "text/plain": [
       "<Figure size 432x288 with 1 Axes>"
      ]
     },
     "metadata": {},
     "output_type": "display_data"
    },
    {
     "data": {
      "image/png": "[encoded data removed]",
      "text/plain": [
       "<Figure size 432x288 with 1 Axes>"
      ]
     },
     "metadata": {},
     "output_type": "display_data"
    },
    {
     "data": {
      "text/plain": [
       "<Figure size 432x288 with 0 Axes>"
      ]
     },
     "metadata": {},
     "output_type": "display_data"
    }
   ],
   "source": [
    "#-----------------------------------------------------------\n",
    "# Retrieve a list of list results on training and test data\n",
    "# sets for each training epoch\n",
    "#-----------------------------------------------------------\n",
    "\n",
    "acc=history.history['accuracy']\n",
    "val_acc=history.history['val_accuracy']\n",
    "loss=history.history['loss']\n",
    "val_loss=history.history['val_loss']\n",
    "# lr = history.history['lr']\n",
    "\n",
    "epochs=range(len(acc)) # Get number of epochs\n",
    "\n",
    "#------------------------------------------------\n",
    "# Plot lr change vs epoch\n",
    "#------------------------------------------------\n",
    "# plt.plot(epochs,lr)\n",
    "# plt.title('lr change vs epoch')\n",
    "# plt.xlabel(\"Epochs\")\n",
    "# plt.ylabel(\"learning rate\")\n",
    "# plt.figure()\n",
    "\n",
    "#------------------------------------------------\n",
    "# Plot training and validation accuracy per epoch\n",
    "#------------------------------------------------\n",
    "plt.plot(epochs, acc, 'r')\n",
    "plt.plot(epochs, val_acc, 'b')\n",
    "plt.title('Training and validation accuracy')\n",
    "plt.xlabel(\"Epochs\")\n",
    "plt.ylabel(\"Accuracy\")\n",
    "plt.legend([\"Accuracy\", \"Validation Accuracy\"])\n",
    "plt.axis([0,len(history.history['loss']),.5,1])\n",
    "plt.figure()\n",
    "\n",
    "#------------------------------------------------\n",
    "# Plot training and validation loss per epoch\n",
    "#------------------------------------------------\n",
    "plt.plot(epochs, loss, 'r')\n",
    "plt.plot(epochs, val_loss, 'b')\n",
    "plt.title('Training and validation loss')\n",
    "plt.xlabel(\"Epochs\")\n",
    "plt.ylabel(\"Loss\")\n",
    "plt.legend([\"Loss\", \"Validation Loss\"])\n",
    "plt.axis([0,len(history.history['loss']),0,1])\n",
    "plt.figure()"
   ]
  },
  {
   "cell_type": "markdown",
   "metadata": {
    "papermill": {
     "duration": 0.745131,
     "end_time": "2020-09-16T15:47:35.182480",
     "exception": false,
     "start_time": "2020-09-16T15:47:34.437349",
     "status": "completed"
    },
    "tags": []
   },
   "source": [
    "After training for 6 epochs, model training loss continue to decrease. On the other hand, validation loss start to break away. This is a sign of model are going to overfit on training set. So I decide to stop the training and load weights of the model at the time which model has lowest validation loss."
   ]
  },
  {
   "cell_type": "markdown",
   "metadata": {
    "papermill": {
     "duration": 0.772371,
     "end_time": "2020-09-16T15:47:36.703508",
     "exception": false,
     "start_time": "2020-09-16T15:47:35.931137",
     "status": "completed"
    },
    "tags": []
   },
   "source": [
    "## Prediction on test set"
   ]
  },
  {
   "cell_type": "markdown",
   "metadata": {
    "papermill": {
     "duration": 0.761313,
     "end_time": "2020-09-16T15:47:38.226849",
     "exception": false,
     "start_time": "2020-09-16T15:47:37.465536",
     "status": "completed"
    },
    "tags": []
   },
   "source": [
    "Let's make prediction on test set and see how our model perform"
   ]
  },
  {
   "cell_type": "code",
   "execution_count": 19,
   "metadata": {
    "_kg_hide-input": true,
    "_kg_hide-output": true,
    "execution": {
     "iopub.execute_input": "2020-09-16T15:47:39.959650Z",
     "iopub.status.busy": "2020-09-16T15:47:39.958194Z",
     "iopub.status.idle": "2020-09-16T15:47:40.313862Z",
     "shell.execute_reply": "2020-09-16T15:47:40.313013Z"
    },
    "papermill": {
     "duration": 1.324222,
     "end_time": "2020-09-16T15:47:40.313975",
     "exception": false,
     "start_time": "2020-09-16T15:47:38.989753",
     "status": "completed"
    },
    "tags": []
   },
   "outputs": [
    {
     "ename": "NotFoundError",
     "evalue": "Unsuccessful TensorSliceReader constructor: Failed to find any matching files for ./checkpoint",
     "output_type": "error",
     "traceback": [
      "\u001b[0;31m---------------------------------------------------------------------------\u001b[0m",
      "\u001b[0;31mRuntimeError\u001b[0m                              Traceback (most recent call last)",
      "\u001b[0;32m/opt/conda/lib/python3.7/site-packages/tensorflow/python/training/py_checkpoint_reader.py\u001b[0m in \u001b[0;36mNewCheckpointReader\u001b[0;34m(filepattern)\u001b[0m\n\u001b[1;32m     94\u001b[0m   \u001b[0;32mtry\u001b[0m\u001b[0;34m:\u001b[0m\u001b[0;34m\u001b[0m\u001b[0;34m\u001b[0m\u001b[0m\n\u001b[0;32m---> 95\u001b[0;31m     \u001b[0;32mreturn\u001b[0m \u001b[0mCheckpointReader\u001b[0m\u001b[0;34m(\u001b[0m\u001b[0mcompat\u001b[0m\u001b[0;34m.\u001b[0m\u001b[0mas_bytes\u001b[0m\u001b[0;34m(\u001b[0m\u001b[0mfilepattern\u001b[0m\u001b[0;34m)\u001b[0m\u001b[0;34m)\u001b[0m\u001b[0;34m\u001b[0m\u001b[0;34m\u001b[0m\u001b[0m\n\u001b[0m\u001b[1;32m     96\u001b[0m   \u001b[0;31m# TODO(b/143319754): Remove the RuntimeError casting logic once we resolve the\u001b[0m\u001b[0;34m\u001b[0m\u001b[0;34m\u001b[0m\u001b[0;34m\u001b[0m\u001b[0m\n",
      "\u001b[0;31mRuntimeError\u001b[0m: Unsuccessful TensorSliceReader constructor: Failed to find any matching files for ./checkpoint",
      "\nDuring handling of the above exception, another exception occurred:\n",
      "\u001b[0;31mNotFoundError\u001b[0m                             Traceback (most recent call last)",
      "\u001b[0;32m<ipython-input-19-abed3eb00115>\u001b[0m in \u001b[0;36m<module>\u001b[0;34m\u001b[0m\n\u001b[0;32m----> 1\u001b[0;31m \u001b[0mmodel\u001b[0m\u001b[0;34m.\u001b[0m\u001b[0mload_weights\u001b[0m\u001b[0;34m(\u001b[0m\u001b[0;34mr'./'\u001b[0m \u001b[0;34m+\u001b[0m \u001b[0mcheckpoint_filepath\u001b[0m\u001b[0;34m)\u001b[0m\u001b[0;34m\u001b[0m\u001b[0;34m\u001b[0m\u001b[0m\n\u001b[0m",
      "\u001b[0;32m/opt/conda/lib/python3.7/site-packages/tensorflow/python/keras/engine/training.py\u001b[0m in \u001b[0;36mload_weights\u001b[0;34m(self, filepath, by_name, skip_mismatch, options)\u001b[0m\n\u001b[1;32m   2174\u001b[0m     \u001b[0;32melse\u001b[0m\u001b[0;34m:\u001b[0m\u001b[0;34m\u001b[0m\u001b[0;34m\u001b[0m\u001b[0m\n\u001b[1;32m   2175\u001b[0m       \u001b[0;32mtry\u001b[0m\u001b[0;34m:\u001b[0m\u001b[0;34m\u001b[0m\u001b[0;34m\u001b[0m\u001b[0m\n\u001b[0;32m-> 2176\u001b[0;31m         \u001b[0mpy_checkpoint_reader\u001b[0m\u001b[0;34m.\u001b[0m\u001b[0mNewCheckpointReader\u001b[0m\u001b[0;34m(\u001b[0m\u001b[0mfilepath\u001b[0m\u001b[0;34m)\u001b[0m\u001b[0;34m\u001b[0m\u001b[0;34m\u001b[0m\u001b[0m\n\u001b[0m\u001b[1;32m   2177\u001b[0m         \u001b[0msave_format\u001b[0m \u001b[0;34m=\u001b[0m \u001b[0;34m'tf'\u001b[0m\u001b[0;34m\u001b[0m\u001b[0;34m\u001b[0m\u001b[0m\n\u001b[1;32m   2178\u001b[0m       \u001b[0;32mexcept\u001b[0m \u001b[0merrors_impl\u001b[0m\u001b[0;34m.\u001b[0m\u001b[0mDataLossError\u001b[0m\u001b[0;34m:\u001b[0m\u001b[0;34m\u001b[0m\u001b[0;34m\u001b[0m\u001b[0m\n",
      "\u001b[0;32m/opt/conda/lib/python3.7/site-packages/tensorflow/python/training/py_checkpoint_reader.py\u001b[0m in \u001b[0;36mNewCheckpointReader\u001b[0;34m(filepattern)\u001b[0m\n\u001b[1;32m     97\u001b[0m   \u001b[0;31m# issue with throwing python exceptions from C++.\u001b[0m\u001b[0;34m\u001b[0m\u001b[0;34m\u001b[0m\u001b[0;34m\u001b[0m\u001b[0m\n\u001b[1;32m     98\u001b[0m   \u001b[0;32mexcept\u001b[0m \u001b[0mRuntimeError\u001b[0m \u001b[0;32mas\u001b[0m \u001b[0me\u001b[0m\u001b[0;34m:\u001b[0m\u001b[0;34m\u001b[0m\u001b[0;34m\u001b[0m\u001b[0m\n\u001b[0;32m---> 99\u001b[0;31m     \u001b[0merror_translator\u001b[0m\u001b[0;34m(\u001b[0m\u001b[0me\u001b[0m\u001b[0;34m)\u001b[0m\u001b[0;34m\u001b[0m\u001b[0;34m\u001b[0m\u001b[0m\n\u001b[0m",
      "\u001b[0;32m/opt/conda/lib/python3.7/site-packages/tensorflow/python/training/py_checkpoint_reader.py\u001b[0m in \u001b[0;36merror_translator\u001b[0;34m(e)\u001b[0m\n\u001b[1;32m     33\u001b[0m       \u001b[0;34m'Failed to find any '\u001b[0m\u001b[0;34m\u001b[0m\u001b[0;34m\u001b[0m\u001b[0m\n\u001b[1;32m     34\u001b[0m       'matching files for') in error_message:\n\u001b[0;32m---> 35\u001b[0;31m     \u001b[0;32mraise\u001b[0m \u001b[0merrors_impl\u001b[0m\u001b[0;34m.\u001b[0m\u001b[0mNotFoundError\u001b[0m\u001b[0;34m(\u001b[0m\u001b[0;32mNone\u001b[0m\u001b[0;34m,\u001b[0m \u001b[0;32mNone\u001b[0m\u001b[0;34m,\u001b[0m \u001b[0merror_message\u001b[0m\u001b[0;34m)\u001b[0m\u001b[0;34m\u001b[0m\u001b[0;34m\u001b[0m\u001b[0m\n\u001b[0m\u001b[1;32m     36\u001b[0m   elif 'Sliced checkpoints are not supported' in error_message or (\n\u001b[1;32m     37\u001b[0m       \u001b[0;34m'Data type '\u001b[0m\u001b[0;34m\u001b[0m\u001b[0;34m\u001b[0m\u001b[0m\n",
      "\u001b[0;31mNotFoundError\u001b[0m: Unsuccessful TensorSliceReader constructor: Failed to find any matching files for ./checkpoint"
     ]
    }
   ],
   "source": [
    "model.load_weights(r'./' + checkpoint_filepath)"
   ]
  },
  {
   "cell_type": "code",
   "execution_count": 20,
   "metadata": {
    "execution": {
     "iopub.execute_input": "2020-09-16T15:47:41.933674Z",
     "iopub.status.busy": "2020-09-16T15:47:41.932920Z",
     "iopub.status.idle": "2020-09-16T15:47:41.971727Z",
     "shell.execute_reply": "2020-09-16T15:47:41.972281Z"
    },
    "papermill": {
     "duration": 0.917445,
     "end_time": "2020-09-16T15:47:41.972451",
     "exception": false,
     "start_time": "2020-09-16T15:47:41.055006",
     "status": "completed"
    },
    "tags": []
   },
   "outputs": [
    {
     "name": "stdout",
     "output_type": "stream",
     "text": [
      "Total training set = 3263 tweets\n",
      "Total training set = 3263 tweets\n"
     ]
    }
   ],
   "source": [
    "#load test set with same preprocessing steps as training set\n",
    "tweets_test = [] \n",
    "ids = []\n",
    "with open(\"../input/nlp-getting-started/test.csv\") as csvfile: #iterate in csv files and extract tweets and relevant labels\n",
    "    reader = csv.reader(csvfile, delimiter=',')\n",
    "    next(reader) #skip table header\n",
    "    for row in reader:\n",
    "        ids.append(int(row[0]))\n",
    "        url = re.compile(r'https?://\\S+|www\\.\\S+') #remove url if any in tweet message.\n",
    "        tweet = url.sub(r'',row[3])\n",
    "        tweets_test.append(tweet)\n",
    "print(f'Total training set = {len(tweets_test)} tweets')\n",
    "print(f'Total training set = {len(ids)} tweets')"
   ]
  },
  {
   "cell_type": "code",
   "execution_count": 21,
   "metadata": {
    "_kg_hide-input": true,
    "_kg_hide-output": true,
    "execution": {
     "iopub.execute_input": "2020-09-16T15:47:43.469568Z",
     "iopub.status.busy": "2020-09-16T15:47:43.459413Z",
     "iopub.status.idle": "2020-09-16T15:47:43.547393Z",
     "shell.execute_reply": "2020-09-16T15:47:43.546816Z"
    },
    "papermill": {
     "duration": 0.83925,
     "end_time": "2020-09-16T15:47:43.547517",
     "exception": false,
     "start_time": "2020-09-16T15:47:42.708267",
     "status": "completed"
    },
    "tags": []
   },
   "outputs": [],
   "source": [
    "test_sequences = tokenizer.texts_to_sequences(tweets_test)\n",
    "test_padded = pad_sequences(test_sequences, padding = padding_type, truncating = trunc_type, maxlen = max_length)"
   ]
  },
  {
   "cell_type": "code",
   "execution_count": 22,
   "metadata": {
    "execution": {
     "iopub.execute_input": "2020-09-16T15:47:45.028166Z",
     "iopub.status.busy": "2020-09-16T15:47:45.027123Z",
     "iopub.status.idle": "2020-09-16T15:47:45.966847Z",
     "shell.execute_reply": "2020-09-16T15:47:45.966194Z"
    },
    "papermill": {
     "duration": 1.678314,
     "end_time": "2020-09-16T15:47:45.966982",
     "exception": false,
     "start_time": "2020-09-16T15:47:44.288668",
     "status": "completed"
    },
    "tags": []
   },
   "outputs": [],
   "source": [
    "y_predict = model.predict(test_padded)\n",
    "y_predict = np.round(y_predict,0).astype(int).flatten()"
   ]
  },
  {
   "cell_type": "code",
   "execution_count": 23,
   "metadata": {
    "_kg_hide-input": true,
    "_kg_hide-output": true,
    "execution": {
     "iopub.execute_input": "2020-09-16T15:47:47.501907Z",
     "iopub.status.busy": "2020-09-16T15:47:47.501066Z",
     "iopub.status.idle": "2020-09-16T15:47:47.734479Z",
     "shell.execute_reply": "2020-09-16T15:47:47.733828Z"
    },
    "papermill": {
     "duration": 1.013667,
     "end_time": "2020-09-16T15:47:47.734602",
     "exception": false,
     "start_time": "2020-09-16T15:47:46.720935",
     "status": "completed"
    },
    "tags": []
   },
   "outputs": [
    {
     "name": "stdout",
     "output_type": "stream",
     "text": [
      "   id  target\n",
      "0   0       1\n",
      "1   2       1\n",
      "2   3       1\n",
      "3   9       1\n",
      "4  11       1\n"
     ]
    }
   ],
   "source": [
    "submission = pd.DataFrame({'id' : ids, 'target' : y_predict})\n",
    "print(submission.head())\n",
    "submission.to_csv('submission.csv',index=False)"
   ]
  },
  {
   "cell_type": "markdown",
   "metadata": {
    "papermill": {
     "duration": 0.74286,
     "end_time": "2020-09-16T15:47:49.236283",
     "exception": false,
     "start_time": "2020-09-16T15:47:48.493423",
     "status": "completed"
    },
    "tags": []
   },
   "source": [
    "With model trained on part of training set our model have reached about 80.2% accuracy on test set which is pretty good enough"
   ]
  },
  {
   "cell_type": "markdown",
   "metadata": {
    "papermill": {
     "duration": 1.005855,
     "end_time": "2020-09-16T15:47:51.001177",
     "exception": false,
     "start_time": "2020-09-16T15:47:49.995322",
     "status": "completed"
    },
    "tags": []
   },
   "source": [
    "## Train model on full training set"
   ]
  },
  {
   "cell_type": "markdown",
   "metadata": {
    "papermill": {
     "duration": 0.753563,
     "end_time": "2020-09-16T15:47:52.508675",
     "exception": false,
     "start_time": "2020-09-16T15:47:51.755112",
     "status": "completed"
    },
    "tags": []
   },
   "source": [
    "Now, it's time to train our model on full training set and see if it could learn more!"
   ]
  },
  {
   "cell_type": "code",
   "execution_count": 24,
   "metadata": {
    "_kg_hide-input": false,
    "_kg_hide-output": true,
    "execution": {
     "iopub.execute_input": "2020-09-16T15:47:54.032398Z",
     "iopub.status.busy": "2020-09-16T15:47:54.031584Z",
     "iopub.status.idle": "2020-09-16T15:47:54.037138Z",
     "shell.execute_reply": "2020-09-16T15:47:54.036639Z"
    },
    "papermill": {
     "duration": 0.770321,
     "end_time": "2020-09-16T15:47:54.037241",
     "exception": false,
     "start_time": "2020-09-16T15:47:53.266920",
     "status": "completed"
    },
    "tags": []
   },
   "outputs": [],
   "source": [
    "train_tweets_full = np.vstack((train_padded,val_padded))\n",
    "train_labels_full = np.concatenate((np.array(train_labels),np.array(val_labels)))"
   ]
  },
  {
   "cell_type": "code",
   "execution_count": 25,
   "metadata": {
    "_kg_hide-input": true,
    "_kg_hide-output": true,
    "execution": {
     "iopub.execute_input": "2020-09-16T15:47:55.556058Z",
     "iopub.status.busy": "2020-09-16T15:47:55.555097Z",
     "iopub.status.idle": "2020-09-16T15:48:46.118416Z",
     "shell.execute_reply": "2020-09-16T15:48:46.117863Z"
    },
    "papermill": {
     "duration": 51.326424,
     "end_time": "2020-09-16T15:48:46.118534",
     "exception": false,
     "start_time": "2020-09-16T15:47:54.792110",
     "status": "completed"
    },
    "tags": []
   },
   "outputs": [
    {
     "name": "stdout",
     "output_type": "stream",
     "text": [
      "Epoch 1/30\n",
      "238/238 [==============================] - 2s 7ms/step - loss: 0.3545 - accuracy: 0.8570\n",
      "Epoch 2/30\n",
      "238/238 [==============================] - 2s 7ms/step - loss: 0.3416 - accuracy: 0.8621\n",
      "Epoch 3/30\n",
      "238/238 [==============================] - 2s 7ms/step - loss: 0.3414 - accuracy: 0.8626\n",
      "Epoch 4/30\n",
      "238/238 [==============================] - 2s 8ms/step - loss: 0.3313 - accuracy: 0.8681\n",
      "Epoch 5/30\n",
      "238/238 [==============================] - 2s 7ms/step - loss: 0.3201 - accuracy: 0.8746\n",
      "Epoch 6/30\n",
      "238/238 [==============================] - 2s 7ms/step - loss: 0.3200 - accuracy: 0.8755\n",
      "Epoch 7/30\n",
      "238/238 [==============================] - 2s 7ms/step - loss: 0.3168 - accuracy: 0.8721\n",
      "Epoch 8/30\n",
      "238/238 [==============================] - 2s 7ms/step - loss: 0.3174 - accuracy: 0.8736\n",
      "Epoch 9/30\n",
      "238/238 [==============================] - 2s 7ms/step - loss: 0.3062 - accuracy: 0.8818\n",
      "Epoch 10/30\n",
      "238/238 [==============================] - 2s 7ms/step - loss: 0.3033 - accuracy: 0.8830\n",
      "Epoch 11/30\n",
      "238/238 [==============================] - 2s 8ms/step - loss: 0.3119 - accuracy: 0.8756\n",
      "Epoch 12/30\n",
      "238/238 [==============================] - 2s 6ms/step - loss: 0.3070 - accuracy: 0.8802\n",
      "Epoch 13/30\n",
      "238/238 [==============================] - 2s 7ms/step - loss: 0.2962 - accuracy: 0.8866\n",
      "Epoch 14/30\n",
      "238/238 [==============================] - 2s 8ms/step - loss: 0.2983 - accuracy: 0.8839\n",
      "Epoch 15/30\n",
      "238/238 [==============================] - 2s 8ms/step - loss: 0.2933 - accuracy: 0.8890\n",
      "Epoch 16/30\n",
      "238/238 [==============================] - 2s 7ms/step - loss: 0.2891 - accuracy: 0.8912\n",
      "Epoch 17/30\n",
      "238/238 [==============================] - 2s 8ms/step - loss: 0.2809 - accuracy: 0.8939\n",
      "Epoch 18/30\n",
      "238/238 [==============================] - 2s 7ms/step - loss: 0.2827 - accuracy: 0.8889\n",
      "Epoch 19/30\n",
      "238/238 [==============================] - 2s 8ms/step - loss: 0.2786 - accuracy: 0.8945\n",
      "Epoch 20/30\n",
      "238/238 [==============================] - 2s 7ms/step - loss: 0.2813 - accuracy: 0.8918\n",
      "Epoch 21/30\n",
      "238/238 [==============================] - 2s 7ms/step - loss: 0.2721 - accuracy: 0.8939\n",
      "Epoch 22/30\n",
      "238/238 [==============================] - 2s 7ms/step - loss: 0.2872 - accuracy: 0.8877\n",
      "Epoch 23/30\n",
      "238/238 [==============================] - 2s 7ms/step - loss: 0.2806 - accuracy: 0.8898\n",
      "Epoch 24/30\n",
      "238/238 [==============================] - 2s 7ms/step - loss: 0.2779 - accuracy: 0.8939\n",
      "Epoch 25/30\n",
      "238/238 [==============================] - 2s 6ms/step - loss: 0.2681 - accuracy: 0.8995\n",
      "Epoch 26/30\n",
      "238/238 [==============================] - 2s 6ms/step - loss: 0.2590 - accuracy: 0.8990\n",
      "Epoch 27/30\n",
      "238/238 [==============================] - 2s 6ms/step - loss: 0.2821 - accuracy: 0.8893\n",
      "Epoch 28/30\n",
      "238/238 [==============================] - 2s 7ms/step - loss: 0.2733 - accuracy: 0.8958\n",
      "Epoch 29/30\n",
      "238/238 [==============================] - 2s 7ms/step - loss: 0.2557 - accuracy: 0.9021\n",
      "Epoch 30/30\n",
      "238/238 [==============================] - 2s 8ms/step - loss: 0.2591 - accuracy: 0.9036\n"
     ]
    }
   ],
   "source": [
    "num_epochs = 30\n",
    "\n",
    "history = model.fit(train_tweets_full, train_labels_full, epochs=num_epochs, \n",
    "                    verbose=1,\n",
    "                   )"
   ]
  },
  {
   "cell_type": "code",
   "execution_count": 26,
   "metadata": {
    "_kg_hide-input": true,
    "_kg_hide-output": true,
    "execution": {
     "iopub.execute_input": "2020-09-16T15:48:48.305736Z",
     "iopub.status.busy": "2020-09-16T15:48:48.304749Z",
     "iopub.status.idle": "2020-09-16T15:48:48.590641Z",
     "shell.execute_reply": "2020-09-16T15:48:48.589995Z"
    },
    "papermill": {
     "duration": 1.398194,
     "end_time": "2020-09-16T15:48:48.590787",
     "exception": false,
     "start_time": "2020-09-16T15:48:47.192593",
     "status": "completed"
    },
    "tags": []
   },
   "outputs": [],
   "source": [
    "y_predict_full = model.predict(test_padded)\n",
    "y_predict_full = np.round(y_predict_full,0).astype(int).flatten()"
   ]
  },
  {
   "cell_type": "code",
   "execution_count": 27,
   "metadata": {
    "_kg_hide-input": true,
    "_kg_hide-output": true,
    "execution": {
     "iopub.execute_input": "2020-09-16T15:48:50.810417Z",
     "iopub.status.busy": "2020-09-16T15:48:50.809525Z",
     "iopub.status.idle": "2020-09-16T15:48:50.821430Z",
     "shell.execute_reply": "2020-09-16T15:48:50.821966Z"
    },
    "papermill": {
     "duration": 1.098252,
     "end_time": "2020-09-16T15:48:50.822107",
     "exception": false,
     "start_time": "2020-09-16T15:48:49.723855",
     "status": "completed"
    },
    "tags": []
   },
   "outputs": [
    {
     "name": "stdout",
     "output_type": "stream",
     "text": [
      "   id  target\n",
      "0   0       1\n",
      "1   2       1\n",
      "2   3       1\n",
      "3   9       0\n",
      "4  11       1\n"
     ]
    }
   ],
   "source": [
    "submission_full = pd.DataFrame({'id' : ids, 'target' : y_predict_full})\n",
    "print(submission_full.head())\n",
    "submission_full.to_csv('submission_full.csv',index=False)"
   ]
  },
  {
   "cell_type": "markdown",
   "metadata": {
    "papermill": {
     "duration": 1.09033,
     "end_time": "2020-09-16T15:48:52.995170",
     "exception": false,
     "start_time": "2020-09-16T15:48:51.904840",
     "status": "completed"
    },
    "tags": []
   },
   "source": [
    "Our model have improved in another step. At time of submission model has accuracy about 83% on test set."
   ]
  },
  {
   "cell_type": "markdown",
   "metadata": {
    "papermill": {
     "duration": 1.080534,
     "end_time": "2020-09-16T15:48:55.154967",
     "exception": false,
     "start_time": "2020-09-16T15:48:54.074433",
     "status": "completed"
    },
    "tags": []
   },
   "source": [
    "# Conclusion"
   ]
  },
  {
   "cell_type": "markdown",
   "metadata": {
    "papermill": {
     "duration": 1.312288,
     "end_time": "2020-09-16T15:48:57.537726",
     "exception": false,
     "start_time": "2020-09-16T15:48:56.225438",
     "status": "completed"
    },
    "tags": []
   },
   "source": [
    "So far we've developed a model to classify whether a tweeted tweet will be real disaster or not. With existing progress we are able to reach 83% accuracy on test set which is quite good. However I can identify some room for improvement as follow...\n",
    "\n",
    "* try removing some uninterpretable phrases/words likes \\x89ÛÓ or \\x89Û_\n",
    "* try different network architecture\n",
    "* try different pretrained weight from GloVe variances"
   ]
  }
 ],
 "metadata": {
  "kernelspec": {
   "display_name": "Python 3",
   "language": "python",
   "name": "python3"
  },
  "language_info": {
   "codemirror_mode": {
    "name": "ipython",
    "version": 3
   },
   "file_extension": ".py",
   "mimetype": "text/x-python",
   "name": "python",
   "nbconvert_exporter": "python",
   "pygments_lexer": "ipython3",
   "version": "3.7.6"
  },
  "papermill": {
   "duration": 264.415153,
   "end_time": "2020-09-16T15:48:59.732042",
   "environment_variables": {},
   "exception": null,
   "input_path": "__notebook__.ipynb",
   "output_path": "__notebook__.ipynb",
   "parameters": {},
   "start_time": "2020-09-16T15:44:35.316889",
   "version": "2.1.0"
  }
 },
 "nbformat": 4,
 "nbformat_minor": 4
}
