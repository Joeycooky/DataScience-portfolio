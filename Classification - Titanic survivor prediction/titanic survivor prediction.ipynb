{
 "cells": [
  {
   "cell_type": "markdown",
   "execution_count": null,
   "metadata": {
    "papermill": {
     "duration": 0.015163,
     "end_time": "2020-08-19T07:08:36.973137",
     "exception": false,
     "start_time": "2020-08-19T07:08:36.957974",
     "status": "completed"
    },
    "tags": []
   },
   "source": [
    "# Titanics survivor prediction\n",
    "> as a part of Titanic: Machine Learning from Disaster competition (https://www.kaggle.com/c/titanic)"
   ]
  },
  {
   "cell_type": "markdown",
   "execution_count": null,
   "metadata": {
    "papermill": {
     "duration": 0.013161,
     "end_time": "2020-08-19T07:08:36.999668",
     "exception": false,
     "start_time": "2020-08-19T07:08:36.986507",
     "status": "completed"
    },
    "tags": []
   },
   "source": [
    "![Titanic ship](https://www.englishclub.com/efl/wp-content/uploads/2020/04/titanic.png)"
   ]
  },
  {
   "cell_type": "code",
   "execution_count": 1,
   "metadata": {
    "_cell_guid": "b1076dfc-b9ad-4769-8c92-a6c4dae69d19",
    "_uuid": "8f2839f25d086af736a60e9eeb907d3b93b6e0e5",
    "execution": {
     "iopub.execute_input": "2020-08-19T07:08:37.032848Z",
     "iopub.status.busy": "2020-08-19T07:08:37.032190Z",
     "iopub.status.idle": "2020-08-19T07:08:38.119891Z",
     "shell.execute_reply": "2020-08-19T07:08:38.119142Z"
    },
    "papermill": {
     "duration": 1.106849,
     "end_time": "2020-08-19T07:08:38.120061",
     "exception": false,
     "start_time": "2020-08-19T07:08:37.013212",
     "status": "completed"
    },
    "tags": []
   },
   "outputs": [
    {
     "name": "stdout",
     "output_type": "stream",
     "text": [
      "/kaggle/input/titanic/gender_submission.csv\n",
      "/kaggle/input/titanic/test.csv\n",
      "/kaggle/input/titanic/train.csv\n"
     ]
    }
   ],
   "source": [
    "# This Python 3 environment comes with many helpful analytics libraries installed\n",
    "# It is defined by the kaggle/python Docker image: https://github.com/kaggle/docker-python\n",
    "# For example, here's several helpful packages to load\n",
    "\n",
    "import numpy as np # linear algebra\n",
    "import pandas as pd # data processing, CSV file I/O (e.g. pd.read_csv)\n",
    "import seaborn as sns #visualizing\n",
    "import matplotlib.pyplot as plt\n",
    "import joblib\n",
    "\n",
    "# Input data files are available in the read-only \"../input/\" directory\n",
    "# For example, running this (by clicking run or pressing Shift+Enter) will list all files under the input directory\n",
    "\n",
    "import os\n",
    "for dirname, _, filenames in os.walk('/kaggle/input'):\n",
    "    for filename in filenames:\n",
    "        print(os.path.join(dirname, filename))\n",
    "\n",
    "# You can write up to 5GB to the current directory (/kaggle/working/) that gets preserved as output when you create a version using \"Save & Run All\" \n",
    "# You can also write temporary files to /kaggle/temp/, but they won't be saved outside of the current session"
   ]
  },
  {
   "cell_type": "markdown",
   "execution_count": null,
   "metadata": {
    "papermill": {
     "duration": 0.014226,
     "end_time": "2020-08-19T07:08:38.148855",
     "exception": false,
     "start_time": "2020-08-19T07:08:38.134629",
     "status": "completed"
    },
    "tags": []
   },
   "source": [
    "# Introduction\n",
    "\n",
    "\"The sinking of the Titanic is one of the most infamous shipwrecks in history.On April 15, 1912, during her maiden voyage, the widely considered “unsinkable” RMS Titanic sank after colliding with an iceberg. \n",
    "\n",
    "Unfortunately, there weren’t enough lifeboats for everyone onboard, resulting in the death of 1502 out of 2224 passengers and crew.<br>While there was some element of luck involved in surviving, it seems some groups of people were more likely to survive than others.\" [1]\n",
    "\n",
    "This notebook will try to find answer to the question that which characteristics of passengers most contribute to their chance of survival ann in the end we'll try to predict wheter given passenger will survive the catastrophe or not?\n",
    "\n",
    "\n"
   ]
  },
  {
   "cell_type": "markdown",
   "execution_count": null,
   "metadata": {
    "papermill": {
     "duration": 0.013199,
     "end_time": "2020-08-19T07:08:38.175688",
     "exception": false,
     "start_time": "2020-08-19T07:08:38.162489",
     "status": "completed"
    },
    "tags": []
   },
   "source": [
    "<a class=\"anchor\" id=\"0\"></a>\n",
    "\n",
    "## Table of Contents\n",
    "\n",
    "1. [Data Exploration](#1)\n",
    "1. [Exploratory Data Analysis](#2)\n",
    "1. [Data Preprocessing](#3)\n",
    "1. [Model Selection](#4)\n",
    "1. [Hyperparameters tuning](#5)\n",
    "1. [Ensembling (Contruction of voting classifier)](#6)\n",
    "1. [Prediction and Submission](#7)\n",
    "1. [Conclusion](#8)\n"
   ]
  },
  {
   "cell_type": "markdown",
   "execution_count": null,
   "metadata": {
    "papermill": {
     "duration": 0.013073,
     "end_time": "2020-08-19T07:08:38.202062",
     "exception": false,
     "start_time": "2020-08-19T07:08:38.188989",
     "status": "completed"
    },
    "tags": []
   },
   "source": [
    "# 1. Data Exploration <a id=1>"
   ]
  },
  {
   "cell_type": "markdown",
   "execution_count": null,
   "metadata": {
    "papermill": {
     "duration": 0.012838,
     "end_time": "2020-08-19T07:08:38.228127",
     "exception": false,
     "start_time": "2020-08-19T07:08:38.215289",
     "status": "completed"
    },
    "tags": []
   },
   "source": [
    "## Dataset explanation\n",
    "\n",
    "Dataset is provided by Kaggle as a part of \"Titanic: Machine Learning from Disaster\" competition. The goal of this model is to predict whether given passenger will survive the disaster or not based on following features.\n",
    "\n",
    "1. Survival\t: 0 = No, 1 = Yes\n",
    "1. name     : Passenger name including prefix\n",
    "1. pclass\t: A proxy for socio-economic status (SES) 1 = 1st, 2 = 2nd, 3 = 3rd\n",
    "1. Sex\t    : Male / Female\n",
    "1. Age\t    : Age in years\t(Age is fractional if less than 1. If the age is estimated, is it in the form of xx.5)\n",
    "1. sibsp\t: # of siblings / spouses aboard the Titanic\t\n",
    "1. parch\t: # of parents / children aboard the Titanic\t\n",
    "1. ticket\t: Ticket number\t\n",
    "1. fare\t    : Passenger fare\t\n",
    "1. cabin\t: Cabin number\t\n",
    "1. embarked\t: Port of Embarkation\tC = Cherbourg, Q = Queenstown, S = Southampton"
   ]
  },
  {
   "cell_type": "code",
   "execution_count": 2,
   "metadata": {
    "execution": {
     "iopub.execute_input": "2020-08-19T07:08:38.261183Z",
     "iopub.status.busy": "2020-08-19T07:08:38.260429Z",
     "iopub.status.idle": "2020-08-19T07:08:38.282207Z",
     "shell.execute_reply": "2020-08-19T07:08:38.281654Z"
    },
    "papermill": {
     "duration": 0.04101,
     "end_time": "2020-08-19T07:08:38.282335",
     "exception": false,
     "start_time": "2020-08-19T07:08:38.241325",
     "status": "completed"
    },
    "tags": []
   },
   "outputs": [],
   "source": [
    "#Read data\n",
    "train = pd.read_csv('../input/titanic/train.csv')\n",
    "test = pd.read_csv('../input/titanic/test.csv')\n",
    "\n",
    "#Storing Passenger Id for submision\n",
    "Id = test.PassengerId"
   ]
  },
  {
   "cell_type": "code",
   "execution_count": 3,
   "metadata": {
    "execution": {
     "iopub.execute_input": "2020-08-19T07:08:38.323628Z",
     "iopub.status.busy": "2020-08-19T07:08:38.322967Z",
     "iopub.status.idle": "2020-08-19T07:08:38.337104Z",
     "shell.execute_reply": "2020-08-19T07:08:38.337536Z"
    },
    "papermill": {
     "duration": 0.041828,
     "end_time": "2020-08-19T07:08:38.337686",
     "exception": false,
     "start_time": "2020-08-19T07:08:38.295858",
     "status": "completed"
    },
    "tags": []
   },
   "outputs": [
    {
     "data": {
      "text/html": [
       "<div>\n",
       "<style scoped>\n",
       "    .dataframe tbody tr th:only-of-type {\n",
       "        vertical-align: middle;\n",
       "    }\n",
       "\n",
       "    .dataframe tbody tr th {\n",
       "        vertical-align: top;\n",
       "    }\n",
       "\n",
       "    .dataframe thead th {\n",
       "        text-align: right;\n",
       "    }\n",
       "</style>\n",
       "<table border=\"1\" class=\"dataframe\">\n",
       "  <thead>\n",
       "    <tr style=\"text-align: right;\">\n",
       "      <th></th>\n",
       "      <th>PassengerId</th>\n",
       "      <th>Survived</th>\n",
       "      <th>Pclass</th>\n",
       "      <th>Name</th>\n",
       "      <th>Sex</th>\n",
       "      <th>Age</th>\n",
       "      <th>SibSp</th>\n",
       "      <th>Parch</th>\n",
       "      <th>Ticket</th>\n",
       "      <th>Fare</th>\n",
       "      <th>Cabin</th>\n",
       "      <th>Embarked</th>\n",
       "    </tr>\n",
       "  </thead>\n",
       "  <tbody>\n",
       "    <tr>\n",
       "      <th>0</th>\n",
       "      <td>1</td>\n",
       "      <td>0</td>\n",
       "      <td>3</td>\n",
       "      <td>Braund, Mr. Owen Harris</td>\n",
       "      <td>male</td>\n",
       "      <td>22.0</td>\n",
       "      <td>1</td>\n",
       "      <td>0</td>\n",
       "      <td>A/5 21171</td>\n",
       "      <td>7.2500</td>\n",
       "      <td>NaN</td>\n",
       "      <td>S</td>\n",
       "    </tr>\n",
       "    <tr>\n",
       "      <th>1</th>\n",
       "      <td>2</td>\n",
       "      <td>1</td>\n",
       "      <td>1</td>\n",
       "      <td>Cumings, Mrs. John Bradley (Florence Briggs Th...</td>\n",
       "      <td>female</td>\n",
       "      <td>38.0</td>\n",
       "      <td>1</td>\n",
       "      <td>0</td>\n",
       "      <td>PC 17599</td>\n",
       "      <td>71.2833</td>\n",
       "      <td>C85</td>\n",
       "      <td>C</td>\n",
       "    </tr>\n",
       "    <tr>\n",
       "      <th>2</th>\n",
       "      <td>3</td>\n",
       "      <td>1</td>\n",
       "      <td>3</td>\n",
       "      <td>Heikkinen, Miss. Laina</td>\n",
       "      <td>female</td>\n",
       "      <td>26.0</td>\n",
       "      <td>0</td>\n",
       "      <td>0</td>\n",
       "      <td>STON/O2. 3101282</td>\n",
       "      <td>7.9250</td>\n",
       "      <td>NaN</td>\n",
       "      <td>S</td>\n",
       "    </tr>\n",
       "    <tr>\n",
       "      <th>3</th>\n",
       "      <td>4</td>\n",
       "      <td>1</td>\n",
       "      <td>1</td>\n",
       "      <td>Futrelle, Mrs. Jacques Heath (Lily May Peel)</td>\n",
       "      <td>female</td>\n",
       "      <td>35.0</td>\n",
       "      <td>1</td>\n",
       "      <td>0</td>\n",
       "      <td>113803</td>\n",
       "      <td>53.1000</td>\n",
       "      <td>C123</td>\n",
       "      <td>S</td>\n",
       "    </tr>\n",
       "    <tr>\n",
       "      <th>4</th>\n",
       "      <td>5</td>\n",
       "      <td>0</td>\n",
       "      <td>3</td>\n",
       "      <td>Allen, Mr. William Henry</td>\n",
       "      <td>male</td>\n",
       "      <td>35.0</td>\n",
       "      <td>0</td>\n",
       "      <td>0</td>\n",
       "      <td>373450</td>\n",
       "      <td>8.0500</td>\n",
       "      <td>NaN</td>\n",
       "      <td>S</td>\n",
       "    </tr>\n",
       "  </tbody>\n",
       "</table>\n",
       "</div>"
      ],
      "text/plain": [
       "   PassengerId  Survived  Pclass  \\\n",
       "0            1         0       3   \n",
       "1            2         1       1   \n",
       "2            3         1       3   \n",
       "3            4         1       1   \n",
       "4            5         0       3   \n",
       "\n",
       "                                                Name     Sex   Age  SibSp  \\\n",
       "0                            Braund, Mr. Owen Harris    male  22.0      1   \n",
       "1  Cumings, Mrs. John Bradley (Florence Briggs Th...  female  38.0      1   \n",
       "2                             Heikkinen, Miss. Laina  female  26.0      0   \n",
       "3       Futrelle, Mrs. Jacques Heath (Lily May Peel)  female  35.0      1   \n",
       "4                           Allen, Mr. William Henry    male  35.0      0   \n",
       "\n",
       "   Parch            Ticket     Fare Cabin Embarked  \n",
       "0      0         A/5 21171   7.2500   NaN        S  \n",
       "1      0          PC 17599  71.2833   C85        C  \n",
       "2      0  STON/O2. 3101282   7.9250   NaN        S  \n",
       "3      0            113803  53.1000  C123        S  \n",
       "4      0            373450   8.0500   NaN        S  "
      ]
     },
     "execution_count": 3,
     "metadata": {},
     "output_type": "execute_result"
    }
   ],
   "source": [
    "#Train set example\n",
    "train.head()"
   ]
  },
  {
   "cell_type": "code",
   "execution_count": 4,
   "metadata": {
    "execution": {
     "iopub.execute_input": "2020-08-19T07:08:38.382375Z",
     "iopub.status.busy": "2020-08-19T07:08:38.381216Z",
     "iopub.status.idle": "2020-08-19T07:08:38.386026Z",
     "shell.execute_reply": "2020-08-19T07:08:38.386486Z"
    },
    "papermill": {
     "duration": 0.035341,
     "end_time": "2020-08-19T07:08:38.386648",
     "exception": false,
     "start_time": "2020-08-19T07:08:38.351307",
     "status": "completed"
    },
    "tags": []
   },
   "outputs": [
    {
     "data": {
      "text/html": [
       "<div>\n",
       "<style scoped>\n",
       "    .dataframe tbody tr th:only-of-type {\n",
       "        vertical-align: middle;\n",
       "    }\n",
       "\n",
       "    .dataframe tbody tr th {\n",
       "        vertical-align: top;\n",
       "    }\n",
       "\n",
       "    .dataframe thead th {\n",
       "        text-align: right;\n",
       "    }\n",
       "</style>\n",
       "<table border=\"1\" class=\"dataframe\">\n",
       "  <thead>\n",
       "    <tr style=\"text-align: right;\">\n",
       "      <th></th>\n",
       "      <th>PassengerId</th>\n",
       "      <th>Pclass</th>\n",
       "      <th>Name</th>\n",
       "      <th>Sex</th>\n",
       "      <th>Age</th>\n",
       "      <th>SibSp</th>\n",
       "      <th>Parch</th>\n",
       "      <th>Ticket</th>\n",
       "      <th>Fare</th>\n",
       "      <th>Cabin</th>\n",
       "      <th>Embarked</th>\n",
       "    </tr>\n",
       "  </thead>\n",
       "  <tbody>\n",
       "    <tr>\n",
       "      <th>0</th>\n",
       "      <td>892</td>\n",
       "      <td>3</td>\n",
       "      <td>Kelly, Mr. James</td>\n",
       "      <td>male</td>\n",
       "      <td>34.5</td>\n",
       "      <td>0</td>\n",
       "      <td>0</td>\n",
       "      <td>330911</td>\n",
       "      <td>7.8292</td>\n",
       "      <td>NaN</td>\n",
       "      <td>Q</td>\n",
       "    </tr>\n",
       "    <tr>\n",
       "      <th>1</th>\n",
       "      <td>893</td>\n",
       "      <td>3</td>\n",
       "      <td>Wilkes, Mrs. James (Ellen Needs)</td>\n",
       "      <td>female</td>\n",
       "      <td>47.0</td>\n",
       "      <td>1</td>\n",
       "      <td>0</td>\n",
       "      <td>363272</td>\n",
       "      <td>7.0000</td>\n",
       "      <td>NaN</td>\n",
       "      <td>S</td>\n",
       "    </tr>\n",
       "    <tr>\n",
       "      <th>2</th>\n",
       "      <td>894</td>\n",
       "      <td>2</td>\n",
       "      <td>Myles, Mr. Thomas Francis</td>\n",
       "      <td>male</td>\n",
       "      <td>62.0</td>\n",
       "      <td>0</td>\n",
       "      <td>0</td>\n",
       "      <td>240276</td>\n",
       "      <td>9.6875</td>\n",
       "      <td>NaN</td>\n",
       "      <td>Q</td>\n",
       "    </tr>\n",
       "    <tr>\n",
       "      <th>3</th>\n",
       "      <td>895</td>\n",
       "      <td>3</td>\n",
       "      <td>Wirz, Mr. Albert</td>\n",
       "      <td>male</td>\n",
       "      <td>27.0</td>\n",
       "      <td>0</td>\n",
       "      <td>0</td>\n",
       "      <td>315154</td>\n",
       "      <td>8.6625</td>\n",
       "      <td>NaN</td>\n",
       "      <td>S</td>\n",
       "    </tr>\n",
       "    <tr>\n",
       "      <th>4</th>\n",
       "      <td>896</td>\n",
       "      <td>3</td>\n",
       "      <td>Hirvonen, Mrs. Alexander (Helga E Lindqvist)</td>\n",
       "      <td>female</td>\n",
       "      <td>22.0</td>\n",
       "      <td>1</td>\n",
       "      <td>1</td>\n",
       "      <td>3101298</td>\n",
       "      <td>12.2875</td>\n",
       "      <td>NaN</td>\n",
       "      <td>S</td>\n",
       "    </tr>\n",
       "  </tbody>\n",
       "</table>\n",
       "</div>"
      ],
      "text/plain": [
       "   PassengerId  Pclass                                          Name     Sex  \\\n",
       "0          892       3                              Kelly, Mr. James    male   \n",
       "1          893       3              Wilkes, Mrs. James (Ellen Needs)  female   \n",
       "2          894       2                     Myles, Mr. Thomas Francis    male   \n",
       "3          895       3                              Wirz, Mr. Albert    male   \n",
       "4          896       3  Hirvonen, Mrs. Alexander (Helga E Lindqvist)  female   \n",
       "\n",
       "    Age  SibSp  Parch   Ticket     Fare Cabin Embarked  \n",
       "0  34.5      0      0   330911   7.8292   NaN        Q  \n",
       "1  47.0      1      0   363272   7.0000   NaN        S  \n",
       "2  62.0      0      0   240276   9.6875   NaN        Q  \n",
       "3  27.0      0      0   315154   8.6625   NaN        S  \n",
       "4  22.0      1      1  3101298  12.2875   NaN        S  "
      ]
     },
     "execution_count": 4,
     "metadata": {},
     "output_type": "execute_result"
    }
   ],
   "source": [
    "#Test set example\n",
    "test.head()"
   ]
  },
  {
   "cell_type": "code",
   "execution_count": 5,
   "metadata": {
    "execution": {
     "iopub.execute_input": "2020-08-19T07:08:38.422867Z",
     "iopub.status.busy": "2020-08-19T07:08:38.422227Z",
     "iopub.status.idle": "2020-08-19T07:08:38.425405Z",
     "shell.execute_reply": "2020-08-19T07:08:38.426191Z"
    },
    "papermill": {
     "duration": 0.025353,
     "end_time": "2020-08-19T07:08:38.426389",
     "exception": false,
     "start_time": "2020-08-19T07:08:38.401036",
     "status": "completed"
    },
    "tags": []
   },
   "outputs": [
    {
     "name": "stdout",
     "output_type": "stream",
     "text": [
      "Train set shape = 891 Rows, 12 Columns\n",
      "Test set shape = 418 Rows, 11 Columns\n"
     ]
    }
   ],
   "source": [
    "print('Train set shape = ' + str(train.shape[0]) +' Rows, ' + str(train.shape[1]) + ' Columns')\n",
    "print('Test set shape = ' + str(test.shape[0]) +' Rows, ' + str(test.shape[1]) + ' Columns')\n",
    "\n",
    "#Test set has 1 columns less than Train set (Survived columns (predictions) is unknown)"
   ]
  },
  {
   "cell_type": "code",
   "execution_count": 6,
   "metadata": {
    "execution": {
     "iopub.execute_input": "2020-08-19T07:08:38.477427Z",
     "iopub.status.busy": "2020-08-19T07:08:38.476709Z",
     "iopub.status.idle": "2020-08-19T07:08:38.500877Z",
     "shell.execute_reply": "2020-08-19T07:08:38.501374Z"
    },
    "papermill": {
     "duration": 0.060404,
     "end_time": "2020-08-19T07:08:38.501530",
     "exception": false,
     "start_time": "2020-08-19T07:08:38.441126",
     "status": "completed"
    },
    "tags": []
   },
   "outputs": [
    {
     "name": "stdout",
     "output_type": "stream",
     "text": [
      "<class 'pandas.core.frame.DataFrame'>\n",
      "RangeIndex: 891 entries, 0 to 890\n",
      "Data columns (total 12 columns):\n",
      " #   Column       Non-Null Count  Dtype  \n",
      "---  ------       --------------  -----  \n",
      " 0   PassengerId  891 non-null    int64  \n",
      " 1   Survived     891 non-null    int64  \n",
      " 2   Pclass       891 non-null    int64  \n",
      " 3   Name         891 non-null    object \n",
      " 4   Sex          891 non-null    object \n",
      " 5   Age          714 non-null    float64\n",
      " 6   SibSp        891 non-null    int64  \n",
      " 7   Parch        891 non-null    int64  \n",
      " 8   Ticket       891 non-null    object \n",
      " 9   Fare         891 non-null    float64\n",
      " 10  Cabin        204 non-null    object \n",
      " 11  Embarked     889 non-null    object \n",
      "dtypes: float64(2), int64(5), object(5)\n",
      "memory usage: 83.7+ KB\n",
      "None\n",
      "       PassengerId    Survived      Pclass         Age       SibSp  \\\n",
      "count   891.000000  891.000000  891.000000  714.000000  891.000000   \n",
      "mean    446.000000    0.383838    2.308642   29.699118    0.523008   \n",
      "std     257.353842    0.486592    0.836071   14.526497    1.102743   \n",
      "min       1.000000    0.000000    1.000000    0.420000    0.000000   \n",
      "25%     223.500000    0.000000    2.000000   20.125000    0.000000   \n",
      "50%     446.000000    0.000000    3.000000   28.000000    0.000000   \n",
      "75%     668.500000    1.000000    3.000000   38.000000    1.000000   \n",
      "max     891.000000    1.000000    3.000000   80.000000    8.000000   \n",
      "\n",
      "            Parch        Fare  \n",
      "count  891.000000  891.000000  \n",
      "mean     0.381594   32.204208  \n",
      "std      0.806057   49.693429  \n",
      "min      0.000000    0.000000  \n",
      "25%      0.000000    7.910400  \n",
      "50%      0.000000   14.454200  \n",
      "75%      0.000000   31.000000  \n",
      "max      6.000000  512.329200  \n"
     ]
    }
   ],
   "source": [
    "#Let's look at brief summary of train set\n",
    "print(train.info())\n",
    "print(train.describe())"
   ]
  },
  {
   "cell_type": "markdown",
   "execution_count": null,
   "metadata": {
    "papermill": {
     "duration": 0.013632,
     "end_time": "2020-08-19T07:08:38.534003",
     "exception": false,
     "start_time": "2020-08-19T07:08:38.520371",
     "status": "completed"
    },
    "tags": []
   },
   "source": [
    "From above outline : Several attribute need to be checked as they contain some missing value\n",
    "1. Age\n",
    "2. Cabin\n",
    "3. Embarked"
   ]
  },
  {
   "cell_type": "code",
   "execution_count": 7,
   "metadata": {
    "execution": {
     "iopub.execute_input": "2020-08-19T07:08:38.570113Z",
     "iopub.status.busy": "2020-08-19T07:08:38.567382Z",
     "iopub.status.idle": "2020-08-19T07:08:38.574898Z",
     "shell.execute_reply": "2020-08-19T07:08:38.574269Z"
    },
    "papermill": {
     "duration": 0.0273,
     "end_time": "2020-08-19T07:08:38.575034",
     "exception": false,
     "start_time": "2020-08-19T07:08:38.547734",
     "status": "completed"
    },
    "tags": []
   },
   "outputs": [
    {
     "data": {
      "text/plain": [
       "1601                 7\n",
       "CA. 2343             7\n",
       "347082               7\n",
       "3101295              6\n",
       "CA 2144              6\n",
       "                    ..\n",
       "345769               1\n",
       "240929               1\n",
       "STON/O 2. 3101294    1\n",
       "349224               1\n",
       "3101264              1\n",
       "Name: Ticket, Length: 681, dtype: int64"
      ]
     },
     "execution_count": 7,
     "metadata": {},
     "output_type": "execute_result"
    }
   ],
   "source": [
    "train['Ticket'].value_counts()"
   ]
  },
  {
   "cell_type": "markdown",
   "execution_count": null,
   "metadata": {
    "papermill": {
     "duration": 0.013887,
     "end_time": "2020-08-19T07:08:38.603377",
     "exception": false,
     "start_time": "2020-08-19T07:08:38.589490",
     "status": "completed"
    },
    "tags": []
   },
   "source": [
    "I decided to drop Cabin feature. Since it contain lots of missing value and there is obscure method to imputes its missing value.\n",
    "\n",
    "Moreover, ticket attribute seem to have no meaning. It comprised of uninterpretable number and strings, so this will be dropped out too.\n"
   ]
  },
  {
   "cell_type": "markdown",
   "execution_count": null,
   "metadata": {
    "papermill": {
     "duration": 0.014579,
     "end_time": "2020-08-19T07:08:38.632082",
     "exception": false,
     "start_time": "2020-08-19T07:08:38.617503",
     "status": "completed"
    },
    "tags": []
   },
   "source": [
    "# 2.Exploratory Data Analysis <a id=2>"
   ]
  },
  {
   "cell_type": "markdown",
   "execution_count": null,
   "metadata": {
    "papermill": {
     "duration": 0.014168,
     "end_time": "2020-08-19T07:08:38.660753",
     "exception": false,
     "start_time": "2020-08-19T07:08:38.646585",
     "status": "completed"
    },
    "tags": []
   },
   "source": [
    "## Univariate analysis"
   ]
  },
  {
   "cell_type": "code",
   "execution_count": 8,
   "metadata": {
    "execution": {
     "iopub.execute_input": "2020-08-19T07:08:38.694714Z",
     "iopub.status.busy": "2020-08-19T07:08:38.694102Z",
     "iopub.status.idle": "2020-08-19T07:08:38.697171Z",
     "shell.execute_reply": "2020-08-19T07:08:38.696622Z"
    },
    "papermill": {
     "duration": 0.021945,
     "end_time": "2020-08-19T07:08:38.697289",
     "exception": false,
     "start_time": "2020-08-19T07:08:38.675344",
     "status": "completed"
    },
    "tags": []
   },
   "outputs": [],
   "source": [
    "cat_col = ['Pclass','Sex','Embarked']\n",
    "num_col = ['Age','SibSp','Parch','Fare']\n"
   ]
  },
  {
   "cell_type": "markdown",
   "execution_count": null,
   "metadata": {
    "papermill": {
     "duration": 0.014043,
     "end_time": "2020-08-19T07:08:38.725507",
     "exception": false,
     "start_time": "2020-08-19T07:08:38.711464",
     "status": "completed"
    },
    "tags": []
   },
   "source": [
    "Note that we keep out Name attribute for later since at first glance they might seem to be unique but I think that after preprocessing them we might see some pattern in it"
   ]
  },
  {
   "cell_type": "code",
   "execution_count": 9,
   "metadata": {
    "execution": {
     "iopub.execute_input": "2020-08-19T07:08:38.764160Z",
     "iopub.status.busy": "2020-08-19T07:08:38.763483Z",
     "iopub.status.idle": "2020-08-19T07:08:38.782426Z",
     "shell.execute_reply": "2020-08-19T07:08:38.781789Z"
    },
    "papermill": {
     "duration": 0.042686,
     "end_time": "2020-08-19T07:08:38.782538",
     "exception": false,
     "start_time": "2020-08-19T07:08:38.739852",
     "status": "completed"
    },
    "tags": []
   },
   "outputs": [
    {
     "data": {
      "text/html": [
       "<div>\n",
       "<style scoped>\n",
       "    .dataframe tbody tr th:only-of-type {\n",
       "        vertical-align: middle;\n",
       "    }\n",
       "\n",
       "    .dataframe tbody tr th {\n",
       "        vertical-align: top;\n",
       "    }\n",
       "\n",
       "    .dataframe thead th {\n",
       "        text-align: right;\n",
       "    }\n",
       "</style>\n",
       "<table border=\"1\" class=\"dataframe\">\n",
       "  <thead>\n",
       "    <tr style=\"text-align: right;\">\n",
       "      <th></th>\n",
       "      <th>Age</th>\n",
       "      <th>SibSp</th>\n",
       "      <th>Parch</th>\n",
       "      <th>Fare</th>\n",
       "    </tr>\n",
       "  </thead>\n",
       "  <tbody>\n",
       "    <tr>\n",
       "      <th>count</th>\n",
       "      <td>714.000000</td>\n",
       "      <td>891.000000</td>\n",
       "      <td>891.000000</td>\n",
       "      <td>891.000000</td>\n",
       "    </tr>\n",
       "    <tr>\n",
       "      <th>mean</th>\n",
       "      <td>29.699118</td>\n",
       "      <td>0.523008</td>\n",
       "      <td>0.381594</td>\n",
       "      <td>32.204208</td>\n",
       "    </tr>\n",
       "    <tr>\n",
       "      <th>std</th>\n",
       "      <td>14.526497</td>\n",
       "      <td>1.102743</td>\n",
       "      <td>0.806057</td>\n",
       "      <td>49.693429</td>\n",
       "    </tr>\n",
       "    <tr>\n",
       "      <th>min</th>\n",
       "      <td>0.420000</td>\n",
       "      <td>0.000000</td>\n",
       "      <td>0.000000</td>\n",
       "      <td>0.000000</td>\n",
       "    </tr>\n",
       "    <tr>\n",
       "      <th>25%</th>\n",
       "      <td>20.125000</td>\n",
       "      <td>0.000000</td>\n",
       "      <td>0.000000</td>\n",
       "      <td>7.910400</td>\n",
       "    </tr>\n",
       "    <tr>\n",
       "      <th>50%</th>\n",
       "      <td>28.000000</td>\n",
       "      <td>0.000000</td>\n",
       "      <td>0.000000</td>\n",
       "      <td>14.454200</td>\n",
       "    </tr>\n",
       "    <tr>\n",
       "      <th>75%</th>\n",
       "      <td>38.000000</td>\n",
       "      <td>1.000000</td>\n",
       "      <td>0.000000</td>\n",
       "      <td>31.000000</td>\n",
       "    </tr>\n",
       "    <tr>\n",
       "      <th>max</th>\n",
       "      <td>80.000000</td>\n",
       "      <td>8.000000</td>\n",
       "      <td>6.000000</td>\n",
       "      <td>512.329200</td>\n",
       "    </tr>\n",
       "  </tbody>\n",
       "</table>\n",
       "</div>"
      ],
      "text/plain": [
       "              Age       SibSp       Parch        Fare\n",
       "count  714.000000  891.000000  891.000000  891.000000\n",
       "mean    29.699118    0.523008    0.381594   32.204208\n",
       "std     14.526497    1.102743    0.806057   49.693429\n",
       "min      0.420000    0.000000    0.000000    0.000000\n",
       "25%     20.125000    0.000000    0.000000    7.910400\n",
       "50%     28.000000    0.000000    0.000000   14.454200\n",
       "75%     38.000000    1.000000    0.000000   31.000000\n",
       "max     80.000000    8.000000    6.000000  512.329200"
      ]
     },
     "execution_count": 9,
     "metadata": {},
     "output_type": "execute_result"
    }
   ],
   "source": [
    "train[num_col].describe()"
   ]
  },
  {
   "cell_type": "code",
   "execution_count": 10,
   "metadata": {
    "execution": {
     "iopub.execute_input": "2020-08-19T07:08:38.818153Z",
     "iopub.status.busy": "2020-08-19T07:08:38.817509Z",
     "iopub.status.idle": "2020-08-19T07:08:40.373306Z",
     "shell.execute_reply": "2020-08-19T07:08:40.374150Z"
    },
    "papermill": {
     "duration": 1.578215,
     "end_time": "2020-08-19T07:08:40.375281",
     "exception": false,
     "start_time": "2020-08-19T07:08:38.797066",
     "status": "completed"
    },
    "tags": []
   },
   "outputs": [
    {
     "data": {
      "image/png": "[encoded data removed]",
      "text/plain": [
       "<Figure size 1080x720 with 4 Axes>"
      ]
     },
     "metadata": {
      "needs_background": "light"
     },
     "output_type": "display_data"
    }
   ],
   "source": [
    "#numerical data\n",
    "fig = plt.figure(figsize=(15,10))\n",
    "sns.set_style('darkgrid')\n",
    "for index,col in enumerate(num_col):\n",
    "    plt.subplot(2,2,index+1)\n",
    "    sns.set(font_scale = 1.0)\n",
    "    sns.distplot(train[col],kde=False, bins = 20)\n",
    "fig.tight_layout(pad=1.0)"
   ]
  },
  {
   "cell_type": "code",
   "execution_count": 11,
   "metadata": {
    "execution": {
     "iopub.execute_input": "2020-08-19T07:08:40.442830Z",
     "iopub.status.busy": "2020-08-19T07:08:40.441905Z",
     "iopub.status.idle": "2020-08-19T07:08:41.757516Z",
     "shell.execute_reply": "2020-08-19T07:08:41.758314Z"
    },
    "papermill": {
     "duration": 1.356819,
     "end_time": "2020-08-19T07:08:41.758537",
     "exception": false,
     "start_time": "2020-08-19T07:08:40.401718",
     "status": "completed"
    },
    "tags": []
   },
   "outputs": [
    {
     "data": {
      "image/png": "[encoded data removed]",
      "text/plain": [
       "<Figure size 1080x720 with 4 Axes>"
      ]
     },
     "metadata": {},
     "output_type": "display_data"
    }
   ],
   "source": [
    "#numerical data\n",
    "fig = plt.figure(figsize=(15,10))\n",
    "sns.set_style('darkgrid')\n",
    "for index,col in enumerate(num_col):\n",
    "    plt.subplot(2,2,index+1)\n",
    "    sns.boxplot(train[col])\n",
    "fig.tight_layout(pad=1.0)"
   ]
  },
  {
   "cell_type": "markdown",
   "execution_count": null,
   "metadata": {
    "papermill": {
     "duration": 0.022381,
     "end_time": "2020-08-19T07:08:41.804004",
     "exception": false,
     "start_time": "2020-08-19T07:08:41.781623",
     "status": "completed"
    },
    "tags": []
   },
   "source": [
    "Data observation\n",
    "* Age : Traveller on board Titanic have wide range of age from infants to old person with mean and median around 28-30 years old\n",
    "* SibSp and Parch : show that most of passengers were not travelling with their family (low # of SibSp and Parch) since friend, mistresses and fiancés were ignored. We can not conclude that passengers were travelling alone\n",
    "* Fare : ticket fare were widely spread with mean of 32 and median just about 15\n"
   ]
  },
  {
   "cell_type": "code",
   "execution_count": 12,
   "metadata": {
    "execution": {
     "iopub.execute_input": "2020-08-19T07:08:41.862731Z",
     "iopub.status.busy": "2020-08-19T07:08:41.861900Z",
     "iopub.status.idle": "2020-08-19T07:08:42.303300Z",
     "shell.execute_reply": "2020-08-19T07:08:42.302574Z"
    },
    "papermill": {
     "duration": 0.476577,
     "end_time": "2020-08-19T07:08:42.303431",
     "exception": false,
     "start_time": "2020-08-19T07:08:41.826854",
     "status": "completed"
    },
    "tags": []
   },
   "outputs": [
    {
     "data": {
      "image/png": "[encoded data removed]",
      "text/plain": [
       "<Figure size 1080x360 with 3 Axes>"
      ]
     },
     "metadata": {},
     "output_type": "display_data"
    }
   ],
   "source": [
    "#Categorical columns\n",
    "fig = plt.figure(figsize=(15,5))\n",
    "sns.set_style('darkgrid')\n",
    "for index,col in enumerate(cat_col):\n",
    "    plt.subplot(1,3,index+1)\n",
    "    sns.set(font_scale = 1.0)\n",
    "    sns.countplot(train[col], palette='Set1')\n",
    "fig.tight_layout(pad=1.0)"
   ]
  },
  {
   "cell_type": "markdown",
   "execution_count": null,
   "metadata": {
    "papermill": {
     "duration": 0.01581,
     "end_time": "2020-08-19T07:08:42.335455",
     "exception": false,
     "start_time": "2020-08-19T07:08:42.319645",
     "status": "completed"
    },
    "tags": []
   },
   "source": [
    "Data observation :\n",
    "* Most passenger were from class 3 \n",
    "* There were more male than female onboard\n",
    "* Most of passenger embarked at Southampton port following by Cherbourg and Queenstown"
   ]
  },
  {
   "cell_type": "markdown",
   "execution_count": null,
   "metadata": {
    "papermill": {
     "duration": 0.01549,
     "end_time": "2020-08-19T07:08:42.366792",
     "exception": false,
     "start_time": "2020-08-19T07:08:42.351302",
     "status": "completed"
    },
    "tags": []
   },
   "source": [
    "## Bivariate analysis"
   ]
  },
  {
   "cell_type": "code",
   "execution_count": 13,
   "metadata": {
    "execution": {
     "iopub.execute_input": "2020-08-19T07:08:42.412910Z",
     "iopub.status.busy": "2020-08-19T07:08:42.407888Z",
     "iopub.status.idle": "2020-08-19T07:08:44.152295Z",
     "shell.execute_reply": "2020-08-19T07:08:44.151687Z"
    },
    "papermill": {
     "duration": 1.769448,
     "end_time": "2020-08-19T07:08:44.152423",
     "exception": false,
     "start_time": "2020-08-19T07:08:42.382975",
     "status": "completed"
    },
    "tags": []
   },
   "outputs": [
    {
     "data": {
      "text/plain": [
       "<matplotlib.axes._subplots.AxesSubplot at 0x7f4057d9a1d0>"
      ]
     },
     "execution_count": 13,
     "metadata": {},
     "output_type": "execute_result"
    },
    {
     "data": {
      "image/png": "[encoded data removed]",
      "text/plain": [
       "<Figure size 1440x720 with 5 Axes>"
      ]
     },
     "metadata": {},
     "output_type": "display_data"
    }
   ],
   "source": [
    "fig = plt.figure(figsize=(20,10))\n",
    "plt.subplot(2,3,1)\n",
    "sns.barplot(x=\"Sex\", y=\"Survived\", data=train, palette = 'Set1')\n",
    "plt.subplot(2,3,2)\n",
    "sns.barplot(x=\"Pclass\", y=\"Survived\", data=train, palette = 'Set1')\n",
    "plt.subplot(2,3,3)\n",
    "sns.barplot(x=\"Parch\", y=\"Survived\", data=train, palette = 'Set1')\n",
    "plt.subplot(2,3,4)\n",
    "sns.barplot(x=\"SibSp\", y=\"Survived\", data=train, palette = 'Set1')\n",
    "plt.subplot(2,3,5)\n",
    "sns.barplot(x=\"Embarked\", y=\"Survived\", data=train, palette = 'Set1')"
   ]
  },
  {
   "cell_type": "code",
   "execution_count": 14,
   "metadata": {
    "execution": {
     "iopub.execute_input": "2020-08-19T07:08:44.228035Z",
     "iopub.status.busy": "2020-08-19T07:08:44.213851Z",
     "iopub.status.idle": "2020-08-19T07:08:44.241523Z",
     "shell.execute_reply": "2020-08-19T07:08:44.240855Z"
    },
    "papermill": {
     "duration": 0.069454,
     "end_time": "2020-08-19T07:08:44.241645",
     "exception": false,
     "start_time": "2020-08-19T07:08:44.172191",
     "status": "completed"
    },
    "tags": []
   },
   "outputs": [
    {
     "data": {
      "text/html": [
       "<div>\n",
       "<style scoped>\n",
       "    .dataframe tbody tr th:only-of-type {\n",
       "        vertical-align: middle;\n",
       "    }\n",
       "\n",
       "    .dataframe tbody tr th {\n",
       "        vertical-align: top;\n",
       "    }\n",
       "\n",
       "    .dataframe thead th {\n",
       "        text-align: right;\n",
       "    }\n",
       "</style>\n",
       "<table border=\"1\" class=\"dataframe\">\n",
       "  <thead>\n",
       "    <tr style=\"text-align: right;\">\n",
       "      <th></th>\n",
       "      <th>PassengerId</th>\n",
       "      <th>Survived</th>\n",
       "      <th>Pclass</th>\n",
       "      <th>Name</th>\n",
       "      <th>Sex</th>\n",
       "      <th>Age</th>\n",
       "      <th>SibSp</th>\n",
       "      <th>Parch</th>\n",
       "      <th>Ticket</th>\n",
       "      <th>Fare</th>\n",
       "      <th>Cabin</th>\n",
       "      <th>Embarked</th>\n",
       "      <th>binned_fare</th>\n",
       "      <th>binned_age</th>\n",
       "    </tr>\n",
       "  </thead>\n",
       "  <tbody>\n",
       "    <tr>\n",
       "      <th>0</th>\n",
       "      <td>1</td>\n",
       "      <td>0</td>\n",
       "      <td>3</td>\n",
       "      <td>Braund, Mr. Owen Harris</td>\n",
       "      <td>male</td>\n",
       "      <td>22.0</td>\n",
       "      <td>1</td>\n",
       "      <td>0</td>\n",
       "      <td>A/5 21171</td>\n",
       "      <td>7.2500</td>\n",
       "      <td>NaN</td>\n",
       "      <td>S</td>\n",
       "      <td>(0.0, 50.0]</td>\n",
       "      <td>(20.0, 40.0]</td>\n",
       "    </tr>\n",
       "    <tr>\n",
       "      <th>1</th>\n",
       "      <td>2</td>\n",
       "      <td>1</td>\n",
       "      <td>1</td>\n",
       "      <td>Cumings, Mrs. John Bradley (Florence Briggs Th...</td>\n",
       "      <td>female</td>\n",
       "      <td>38.0</td>\n",
       "      <td>1</td>\n",
       "      <td>0</td>\n",
       "      <td>PC 17599</td>\n",
       "      <td>71.2833</td>\n",
       "      <td>C85</td>\n",
       "      <td>C</td>\n",
       "      <td>(50.0, 100.0]</td>\n",
       "      <td>(20.0, 40.0]</td>\n",
       "    </tr>\n",
       "    <tr>\n",
       "      <th>2</th>\n",
       "      <td>3</td>\n",
       "      <td>1</td>\n",
       "      <td>3</td>\n",
       "      <td>Heikkinen, Miss. Laina</td>\n",
       "      <td>female</td>\n",
       "      <td>26.0</td>\n",
       "      <td>0</td>\n",
       "      <td>0</td>\n",
       "      <td>STON/O2. 3101282</td>\n",
       "      <td>7.9250</td>\n",
       "      <td>NaN</td>\n",
       "      <td>S</td>\n",
       "      <td>(0.0, 50.0]</td>\n",
       "      <td>(20.0, 40.0]</td>\n",
       "    </tr>\n",
       "    <tr>\n",
       "      <th>3</th>\n",
       "      <td>4</td>\n",
       "      <td>1</td>\n",
       "      <td>1</td>\n",
       "      <td>Futrelle, Mrs. Jacques Heath (Lily May Peel)</td>\n",
       "      <td>female</td>\n",
       "      <td>35.0</td>\n",
       "      <td>1</td>\n",
       "      <td>0</td>\n",
       "      <td>113803</td>\n",
       "      <td>53.1000</td>\n",
       "      <td>C123</td>\n",
       "      <td>S</td>\n",
       "      <td>(50.0, 100.0]</td>\n",
       "      <td>(20.0, 40.0]</td>\n",
       "    </tr>\n",
       "    <tr>\n",
       "      <th>4</th>\n",
       "      <td>5</td>\n",
       "      <td>0</td>\n",
       "      <td>3</td>\n",
       "      <td>Allen, Mr. William Henry</td>\n",
       "      <td>male</td>\n",
       "      <td>35.0</td>\n",
       "      <td>0</td>\n",
       "      <td>0</td>\n",
       "      <td>373450</td>\n",
       "      <td>8.0500</td>\n",
       "      <td>NaN</td>\n",
       "      <td>S</td>\n",
       "      <td>(0.0, 50.0]</td>\n",
       "      <td>(20.0, 40.0]</td>\n",
       "    </tr>\n",
       "  </tbody>\n",
       "</table>\n",
       "</div>"
      ],
      "text/plain": [
       "   PassengerId  Survived  Pclass  \\\n",
       "0            1         0       3   \n",
       "1            2         1       1   \n",
       "2            3         1       3   \n",
       "3            4         1       1   \n",
       "4            5         0       3   \n",
       "\n",
       "                                                Name     Sex   Age  SibSp  \\\n",
       "0                            Braund, Mr. Owen Harris    male  22.0      1   \n",
       "1  Cumings, Mrs. John Bradley (Florence Briggs Th...  female  38.0      1   \n",
       "2                             Heikkinen, Miss. Laina  female  26.0      0   \n",
       "3       Futrelle, Mrs. Jacques Heath (Lily May Peel)  female  35.0      1   \n",
       "4                           Allen, Mr. William Henry    male  35.0      0   \n",
       "\n",
       "   Parch            Ticket     Fare Cabin Embarked    binned_fare  \\\n",
       "0      0         A/5 21171   7.2500   NaN        S    (0.0, 50.0]   \n",
       "1      0          PC 17599  71.2833   C85        C  (50.0, 100.0]   \n",
       "2      0  STON/O2. 3101282   7.9250   NaN        S    (0.0, 50.0]   \n",
       "3      0            113803  53.1000  C123        S  (50.0, 100.0]   \n",
       "4      0            373450   8.0500   NaN        S    (0.0, 50.0]   \n",
       "\n",
       "     binned_age  \n",
       "0  (20.0, 40.0]  \n",
       "1  (20.0, 40.0]  \n",
       "2  (20.0, 40.0]  \n",
       "3  (20.0, 40.0]  \n",
       "4  (20.0, 40.0]  "
      ]
     },
     "execution_count": 14,
     "metadata": {},
     "output_type": "execute_result"
    }
   ],
   "source": [
    "bins_fare = np.linspace(0,200,5)\n",
    "bins_age = np.linspace(0,80,5)\n",
    "train['binned_fare'] = pd.cut(train['Fare'],bins_fare)\n",
    "train['binned_age'] = pd.cut(train['Age'],bins_age)\n",
    "train.head()"
   ]
  },
  {
   "cell_type": "code",
   "execution_count": 15,
   "metadata": {
    "execution": {
     "iopub.execute_input": "2020-08-19T07:08:44.287818Z",
     "iopub.status.busy": "2020-08-19T07:08:44.286832Z",
     "iopub.status.idle": "2020-08-19T07:08:44.885074Z",
     "shell.execute_reply": "2020-08-19T07:08:44.885728Z"
    },
    "papermill": {
     "duration": 0.627581,
     "end_time": "2020-08-19T07:08:44.885952",
     "exception": false,
     "start_time": "2020-08-19T07:08:44.258371",
     "status": "completed"
    },
    "tags": []
   },
   "outputs": [
    {
     "data": {
      "image/png": "[encoded data removed]",
      "text/plain": [
       "<Figure size 1440x576 with 2 Axes>"
      ]
     },
     "metadata": {},
     "output_type": "display_data"
    }
   ],
   "source": [
    "fig = plt.figure(figsize=(20,8))\n",
    "plt.subplot(1,2,1)\n",
    "ax = sns.pointplot(x=\"binned_fare\", y=\"Survived\", data=train)\n",
    "plt.subplot(1,2,2)\n",
    "ax = sns.pointplot(x=\"binned_age\", y=\"Survived\", data=train)"
   ]
  },
  {
   "cell_type": "markdown",
   "execution_count": null,
   "metadata": {
    "papermill": {
     "duration": 0.01746,
     "end_time": "2020-08-19T07:08:44.925649",
     "exception": false,
     "start_time": "2020-08-19T07:08:44.908189",
     "status": "completed"
    },
    "tags": []
   },
   "source": [
    "Data Observation:\n",
    "* Sex : Female has significantly higher rate of survival than male\n",
    "* Pclass : 1st class passenger has highest rate of survival follow by 2nd class and 3rd class respectively\n",
    "* #Parch : doesn't show strong relationship with survival rate\n",
    "* #SibSp : as # of siblings / spouses increased, survival rate tend to decrease\n",
    "* Embarked port : Passenger embarked from Cherbourg has highest rate of survival\n",
    "* Fare : passenger with fare in range [100,150] has highest survival rate\n",
    "* age : Elderly people has significant lower rate of survival than adult and younger people"
   ]
  },
  {
   "cell_type": "markdown",
   "execution_count": null,
   "metadata": {
    "papermill": {
     "duration": 0.016713,
     "end_time": "2020-08-19T07:08:44.958964",
     "exception": false,
     "start_time": "2020-08-19T07:08:44.942251",
     "status": "completed"
    },
    "tags": []
   },
   "source": [
    "# 3.Data preprocessing <a id=3>"
   ]
  },
  {
   "cell_type": "code",
   "execution_count": 16,
   "metadata": {
    "execution": {
     "iopub.execute_input": "2020-08-19T07:08:45.002532Z",
     "iopub.status.busy": "2020-08-19T07:08:45.001459Z",
     "iopub.status.idle": "2020-08-19T07:08:45.009974Z",
     "shell.execute_reply": "2020-08-19T07:08:45.009285Z"
    },
    "papermill": {
     "duration": 0.03411,
     "end_time": "2020-08-19T07:08:45.010101",
     "exception": false,
     "start_time": "2020-08-19T07:08:44.975991",
     "status": "completed"
    },
    "tags": []
   },
   "outputs": [],
   "source": [
    "df = pd.read_csv('../input/titanic/train.csv')"
   ]
  },
  {
   "cell_type": "code",
   "execution_count": 17,
   "metadata": {
    "collapsed": true,
    "execution": {
     "iopub.execute_input": "2020-08-19T07:08:45.053152Z",
     "iopub.status.busy": "2020-08-19T07:08:45.052258Z",
     "iopub.status.idle": "2020-08-19T07:08:45.056832Z",
     "shell.execute_reply": "2020-08-19T07:08:45.056307Z"
    },
    "papermill": {
     "duration": 0.029695,
     "end_time": "2020-08-19T07:08:45.056976",
     "exception": false,
     "start_time": "2020-08-19T07:08:45.027281",
     "status": "completed"
    },
    "tags": []
   },
   "outputs": [
    {
     "data": {
      "text/plain": [
       "Index(['PassengerId', 'Survived', 'Pclass', 'Name', 'Sex', 'Age', 'SibSp',\n",
       "       'Parch', 'Ticket', 'Fare', 'Cabin', 'Embarked'],\n",
       "      dtype='object')"
      ]
     },
     "execution_count": 17,
     "metadata": {},
     "output_type": "execute_result"
    }
   ],
   "source": [
    "df.columns"
   ]
  },
  {
   "cell_type": "code",
   "execution_count": 18,
   "metadata": {
    "execution": {
     "iopub.execute_input": "2020-08-19T07:08:45.099595Z",
     "iopub.status.busy": "2020-08-19T07:08:45.098909Z",
     "iopub.status.idle": "2020-08-19T07:08:45.106988Z",
     "shell.execute_reply": "2020-08-19T07:08:45.106257Z"
    },
    "papermill": {
     "duration": 0.032134,
     "end_time": "2020-08-19T07:08:45.107134",
     "exception": false,
     "start_time": "2020-08-19T07:08:45.075000",
     "status": "completed"
    },
    "tags": []
   },
   "outputs": [
    {
     "data": {
      "text/plain": [
       "Cabin          0.771044\n",
       "Age            0.198653\n",
       "Embarked       0.002245\n",
       "Fare           0.000000\n",
       "Ticket         0.000000\n",
       "Parch          0.000000\n",
       "SibSp          0.000000\n",
       "Sex            0.000000\n",
       "Name           0.000000\n",
       "Pclass         0.000000\n",
       "Survived       0.000000\n",
       "PassengerId    0.000000\n",
       "dtype: float64"
      ]
     },
     "execution_count": 18,
     "metadata": {},
     "output_type": "execute_result"
    }
   ],
   "source": [
    "#Check amount of missing values by columns\n",
    "df.isnull().mean().sort_values(ascending=False)"
   ]
  },
  {
   "cell_type": "markdown",
   "execution_count": null,
   "metadata": {
    "papermill": {
     "duration": 0.025208,
     "end_time": "2020-08-19T07:08:45.159708",
     "exception": false,
     "start_time": "2020-08-19T07:08:45.134500",
     "status": "completed"
    },
    "tags": []
   },
   "source": [
    "* Columns 'Cabin' has more than 77% missing so we'll drop out this columns from our consideration\n",
    "* Columns 'Age' is missing about 20%. But they're imputable, so we dicide to keep it for further processing\n",
    "* Columns 'Embarked' and 'Fare' almost perfect (missing less than 1%). We'll keep these columns for further processing"
   ]
  },
  {
   "cell_type": "code",
   "execution_count": 19,
   "metadata": {
    "execution": {
     "iopub.execute_input": "2020-08-19T07:08:45.208534Z",
     "iopub.status.busy": "2020-08-19T07:08:45.207827Z",
     "iopub.status.idle": "2020-08-19T07:08:45.211100Z",
     "shell.execute_reply": "2020-08-19T07:08:45.210531Z"
    },
    "papermill": {
     "duration": 0.027786,
     "end_time": "2020-08-19T07:08:45.211222",
     "exception": false,
     "start_time": "2020-08-19T07:08:45.183436",
     "status": "completed"
    },
    "tags": []
   },
   "outputs": [],
   "source": [
    "X_train = df.drop(columns=['Survived']).copy()\n",
    "y_train = df['Survived'].copy()"
   ]
  },
  {
   "cell_type": "code",
   "execution_count": 20,
   "metadata": {
    "execution": {
     "iopub.execute_input": "2020-08-19T07:08:45.411283Z",
     "iopub.status.busy": "2020-08-19T07:08:45.410362Z",
     "iopub.status.idle": "2020-08-19T07:08:45.413384Z",
     "shell.execute_reply": "2020-08-19T07:08:45.412720Z"
    },
    "papermill": {
     "duration": 0.026236,
     "end_time": "2020-08-19T07:08:45.413505",
     "exception": false,
     "start_time": "2020-08-19T07:08:45.387269",
     "status": "completed"
    },
    "tags": []
   },
   "outputs": [],
   "source": [
    "cat_col = ['Pclass','Sex','Embarked']\n",
    "num_col = ['Fare','Age','SibSp','Parch']\n",
    "name_col = ['Name']"
   ]
  },
  {
   "cell_type": "markdown",
   "execution_count": null,
   "metadata": {
    "papermill": {
     "duration": 0.017413,
     "end_time": "2020-08-19T07:08:45.448759",
     "exception": false,
     "start_time": "2020-08-19T07:08:45.431346",
     "status": "completed"
    },
    "tags": []
   },
   "source": [
    "As we can see here, our features have different characteristics as follow\n",
    "\n",
    "* Categorical features : Pclass , Sex , Embarked\n",
    "* Numerical feafutres : Fare, Age, #SipSp, #Parch\n",
    "\n",
    "Therefore, different type of attribute need to have different preprocessing steps as follow "
   ]
  },
  {
   "cell_type": "markdown",
   "execution_count": null,
   "metadata": {
    "papermill": {
     "duration": 0.01749,
     "end_time": "2020-08-19T07:08:45.484033",
     "exception": false,
     "start_time": "2020-08-19T07:08:45.466543",
     "status": "completed"
    },
    "tags": []
   },
   "source": [
    "## 3.1 Categorical attributes preprocessing"
   ]
  },
  {
   "cell_type": "markdown",
   "execution_count": null,
   "metadata": {
    "papermill": {
     "duration": 0.017569,
     "end_time": "2020-08-19T07:08:45.519473",
     "exception": false,
     "start_time": "2020-08-19T07:08:45.501904",
     "status": "completed"
    },
    "tags": []
   },
   "source": [
    "mainly will consist of 2 steps\n",
    "\n",
    "1. **Imputing** (filling missing value) by its most frequent. For example, \"Embarked\" attribute consists of 3 differrent port (C = Cherbourg, Q = Queenstown, S = Southampton) \n",
    "1. **OneHotEncoding** . Most machine learning algorithm can't intrepete text input, therefore we need to convert it into numerical in order to feed into the model "
   ]
  },
  {
   "cell_type": "code",
   "execution_count": 21,
   "metadata": {
    "execution": {
     "iopub.execute_input": "2020-08-19T07:08:45.562557Z",
     "iopub.status.busy": "2020-08-19T07:08:45.561570Z",
     "iopub.status.idle": "2020-08-19T07:08:45.566253Z",
     "shell.execute_reply": "2020-08-19T07:08:45.565593Z"
    },
    "papermill": {
     "duration": 0.029282,
     "end_time": "2020-08-19T07:08:45.566388",
     "exception": false,
     "start_time": "2020-08-19T07:08:45.537106",
     "status": "completed"
    },
    "tags": []
   },
   "outputs": [
    {
     "data": {
      "text/plain": [
       "S    644\n",
       "C    168\n",
       "Q     77\n",
       "Name: Embarked, dtype: int64"
      ]
     },
     "execution_count": 21,
     "metadata": {},
     "output_type": "execute_result"
    }
   ],
   "source": [
    "df['Embarked'].value_counts()"
   ]
  },
  {
   "cell_type": "code",
   "execution_count": 22,
   "metadata": {
    "execution": {
     "iopub.execute_input": "2020-08-19T07:08:45.618581Z",
     "iopub.status.busy": "2020-08-19T07:08:45.617821Z",
     "iopub.status.idle": "2020-08-19T07:08:45.623471Z",
     "shell.execute_reply": "2020-08-19T07:08:45.621374Z"
    },
    "papermill": {
     "duration": 0.039182,
     "end_time": "2020-08-19T07:08:45.623592",
     "exception": false,
     "start_time": "2020-08-19T07:08:45.584410",
     "status": "completed"
    },
    "tags": []
   },
   "outputs": [
    {
     "name": "stdout",
     "output_type": "stream",
     "text": [
      "S = 72.44%\n",
      "C = 18.9%\n",
      "Q = 8.66%\n"
     ]
    }
   ],
   "source": [
    "df['Embarked'].value_counts()\n",
    "print('S = ' + str((df['Embarked'].value_counts().S/df['Embarked'].value_counts().sum()*100).round(2))+\"%\")\n",
    "print('C = ' + str((df['Embarked'].value_counts().C/df['Embarked'].value_counts().sum()*100).round(2))+\"%\")\n",
    "print('Q = ' + str((df['Embarked'].value_counts().Q/df['Embarked'].value_counts().sum()*100).round(2))+\"%\")"
   ]
  },
  {
   "cell_type": "markdown",
   "execution_count": null,
   "metadata": {
    "papermill": {
     "duration": 0.017774,
     "end_time": "2020-08-19T07:08:45.659404",
     "exception": false,
     "start_time": "2020-08-19T07:08:45.641630",
     "status": "completed"
    },
    "tags": []
   },
   "source": [
    "Almost 70% of passenger are embarked in S. Therefore, we'll fill missing values with 'S'"
   ]
  },
  {
   "cell_type": "code",
   "execution_count": 23,
   "metadata": {
    "execution": {
     "iopub.execute_input": "2020-08-19T07:08:45.701036Z",
     "iopub.status.busy": "2020-08-19T07:08:45.700314Z",
     "iopub.status.idle": "2020-08-19T07:08:46.117784Z",
     "shell.execute_reply": "2020-08-19T07:08:46.116649Z"
    },
    "papermill": {
     "duration": 0.440499,
     "end_time": "2020-08-19T07:08:46.117959",
     "exception": false,
     "start_time": "2020-08-19T07:08:45.677460",
     "status": "completed"
    },
    "tags": []
   },
   "outputs": [],
   "source": [
    "from sklearn.impute import SimpleImputer\n",
    "cat_imputer = SimpleImputer(strategy = 'most_frequent')"
   ]
  },
  {
   "cell_type": "markdown",
   "execution_count": null,
   "metadata": {
    "papermill": {
     "duration": 0.017793,
     "end_time": "2020-08-19T07:08:46.155415",
     "exception": false,
     "start_time": "2020-08-19T07:08:46.137622",
     "status": "completed"
    },
    "tags": []
   },
   "source": [
    "## 3.2 Numerical attributes preprocessing"
   ]
  },
  {
   "cell_type": "markdown",
   "execution_count": null,
   "metadata": {
    "papermill": {
     "duration": 0.01842,
     "end_time": "2020-08-19T07:08:46.192224",
     "exception": false,
     "start_time": "2020-08-19T07:08:46.173804",
     "status": "completed"
    },
    "tags": []
   },
   "source": [
    "For numerical attributes, I decide to create preprocessing steps as follow,\n",
    "\n",
    "1. **Imputing** by its median. Because some attribute contains outlier, filling with median would have less effect to attribute distribution\n",
    "1. **StandardScaling** , Most machine learning algorithm work well when input features having same scale and standard deviation, so I decide to transform numerical data by standard scaling."
   ]
  },
  {
   "cell_type": "code",
   "execution_count": 24,
   "metadata": {
    "execution": {
     "iopub.execute_input": "2020-08-19T07:08:46.236139Z",
     "iopub.status.busy": "2020-08-19T07:08:46.235174Z",
     "iopub.status.idle": "2020-08-19T07:08:46.238284Z",
     "shell.execute_reply": "2020-08-19T07:08:46.237627Z"
    },
    "papermill": {
     "duration": 0.025967,
     "end_time": "2020-08-19T07:08:46.238406",
     "exception": false,
     "start_time": "2020-08-19T07:08:46.212439",
     "status": "completed"
    },
    "tags": []
   },
   "outputs": [],
   "source": [
    "num_imputer = SimpleImputer(strategy = 'median')"
   ]
  },
  {
   "cell_type": "markdown",
   "execution_count": null,
   "metadata": {
    "papermill": {
     "duration": 0.017381,
     "end_time": "2020-08-19T07:08:46.273700",
     "exception": false,
     "start_time": "2020-08-19T07:08:46.256319",
     "status": "completed"
    },
    "tags": []
   },
   "source": [
    "## 3.3 Feature engineering (extract title from \"Name\" attribute)\n",
    "We also found something interesting. In columns 'Name' There is title embedded inside. so we'll try to extract information about title and see if it have some relation with survival rate."
   ]
  },
  {
   "cell_type": "code",
   "execution_count": 25,
   "metadata": {
    "execution": {
     "iopub.execute_input": "2020-08-19T07:08:46.319353Z",
     "iopub.status.busy": "2020-08-19T07:08:46.318455Z",
     "iopub.status.idle": "2020-08-19T07:08:46.322697Z",
     "shell.execute_reply": "2020-08-19T07:08:46.322183Z"
    },
    "papermill": {
     "duration": 0.031481,
     "end_time": "2020-08-19T07:08:46.322807",
     "exception": false,
     "start_time": "2020-08-19T07:08:46.291326",
     "status": "completed"
    },
    "tags": []
   },
   "outputs": [
    {
     "data": {
      "text/plain": [
       "['Mr',\n",
       " 'Mrs',\n",
       " 'Miss',\n",
       " 'Master',\n",
       " 'Don',\n",
       " 'Rev',\n",
       " 'Dr',\n",
       " 'Mme',\n",
       " 'Ms',\n",
       " 'Major',\n",
       " 'Lady',\n",
       " 'Sir',\n",
       " 'Mlle',\n",
       " 'Col',\n",
       " 'Capt',\n",
       " 'Countess',\n",
       " 'Jonkheer']"
      ]
     },
     "execution_count": 25,
     "metadata": {},
     "output_type": "execute_result"
    }
   ],
   "source": [
    "df['Title'] = df['Name'].str.extract(' ([A-Za-z]+)\\.', expand = False)\n",
    "df['Title'].unique().tolist()"
   ]
  },
  {
   "cell_type": "markdown",
   "execution_count": null,
   "metadata": {
    "papermill": {
     "duration": 0.018141,
     "end_time": "2020-08-19T07:08:46.359959",
     "exception": false,
     "start_time": "2020-08-19T07:08:46.341818",
     "status": "completed"
    },
    "tags": []
   },
   "source": [
    "Some of the titles above are quite unfamiliar, so we decide to replace these titles with more familiar titles which organizes our categories. After replacing these titles we only end up with 5 distinct titles."
   ]
  },
  {
   "cell_type": "code",
   "execution_count": 26,
   "metadata": {
    "execution": {
     "iopub.execute_input": "2020-08-19T07:08:46.423221Z",
     "iopub.status.busy": "2020-08-19T07:08:46.422188Z",
     "iopub.status.idle": "2020-08-19T07:08:47.478465Z",
     "shell.execute_reply": "2020-08-19T07:08:47.477940Z"
    },
    "papermill": {
     "duration": 1.100531,
     "end_time": "2020-08-19T07:08:47.478585",
     "exception": false,
     "start_time": "2020-08-19T07:08:46.378054",
     "status": "completed"
    },
    "tags": []
   },
   "outputs": [
    {
     "data": {
      "text/plain": [
       "<matplotlib.axes._subplots.AxesSubplot at 0x7f4056083090>"
      ]
     },
     "execution_count": 26,
     "metadata": {},
     "output_type": "execute_result"
    },
    {
     "data": {
      "image/png": "[encoded data removed]",
      "text/plain": [
       "<Figure size 1440x720 with 2 Axes>"
      ]
     },
     "metadata": {},
     "output_type": "display_data"
    }
   ],
   "source": [
    "#Replace unfamilliar title with most familiar title\n",
    "\n",
    "train['Title'] = train['Name'].str.extract(' ([A-Za-z]+)\\.', expand = False)\n",
    "train['Title'] = train['Title'].replace(['Lady', 'Countess','Capt', 'Col', 'Don', 'Dr', 'Major', 'Rev', 'Sir', 'Jonkheer', 'Dona'], 'Rare')\n",
    "train['Title'] = train['Title'].replace('Mlle', 'Miss')\n",
    "train['Title'] = train['Title'].replace('Ms', 'Miss')\n",
    "train['Title'] = train['Title'].replace('Mme', 'Mrs')\n",
    "\n",
    "fig = plt.figure(figsize=(20,10))\n",
    "plt.subplot(1,2,1)\n",
    "sns.set(font_scale=1.5)\n",
    "sns.barplot(data=train,x='Title',y='Survived',hue='Pclass')\n",
    "plt.subplot(1,2,2)\n",
    "sns.set(font_scale=1.0)\n",
    "sns.boxplot(data=train,x='Title',y='Age')"
   ]
  },
  {
   "cell_type": "markdown",
   "execution_count": null,
   "metadata": {
    "papermill": {
     "duration": 0.020688,
     "end_time": "2020-08-19T07:08:47.523109",
     "exception": false,
     "start_time": "2020-08-19T07:08:47.502421",
     "status": "completed"
    },
    "tags": []
   },
   "source": [
    "Title feature review some interesting insight...\n",
    "1. As we discovered before, female (Mrs,Miss) have higher chance of survival than male passenger with highest chance of survival belong to 1st class passenger\n",
    "1. Master title, which appeared to be children (from right boxplot) always survive for 1st and 2nd class passenger.\n",
    "\n",
    "from my point of view, it's possible that crew and male passengers focus their effort on helping children and woman which result in higher survival chance of children and woman.\n",
    "\n",
    "1st class passenger have highest chance of survival in all circumstance, it seem that priority had been given to 1st class and 2nd class passenger accordingly."
   ]
  },
  {
   "cell_type": "code",
   "execution_count": 27,
   "metadata": {
    "execution": {
     "iopub.execute_input": "2020-08-19T07:08:47.573783Z",
     "iopub.status.busy": "2020-08-19T07:08:47.572906Z",
     "iopub.status.idle": "2020-08-19T07:08:47.575850Z",
     "shell.execute_reply": "2020-08-19T07:08:47.575198Z"
    },
    "papermill": {
     "duration": 0.033979,
     "end_time": "2020-08-19T07:08:47.576025",
     "exception": false,
     "start_time": "2020-08-19T07:08:47.542046",
     "status": "completed"
    },
    "tags": []
   },
   "outputs": [],
   "source": [
    "from sklearn.base import BaseEstimator, TransformerMixin\n",
    "\n",
    "#Create custom transformer to extract title information from \"Name\" attribute\n",
    "class TitleAttributeAdder(BaseEstimator,TransformerMixin):\n",
    "    def __init__(self):\n",
    "        pass\n",
    "    \n",
    "    def fit(self,X,y=None):\n",
    "        return self\n",
    "\n",
    "    def transform(self,X):\n",
    "        X_ = X.copy()\n",
    "        X_['Title'] = X_['Name'].str.extract(' ([A-Za-z]+)\\.', expand = False)\n",
    "        X_['Title'] = X_['Title'].replace(['Lady', 'Countess','Capt', 'Col', 'Don', 'Dr', 'Major', 'Rev', 'Sir', 'Jonkheer', 'Dona'], 'Rare')\n",
    "        X_['Title'] = X_['Title'].replace('Mlle', 'Miss')\n",
    "        X_['Title'] = X_['Title'].replace('Ms', 'Miss')\n",
    "        X_['Title'] = X_['Title'].replace('Mme', 'Mrs')\n",
    "        X_ = X_.drop(columns='Name')\n",
    "        return X_\n",
    "    \n",
    "#         title_mapping = {\"Mr\": 1, \"Miss\": 2, \"Mrs\": 3, \"Master\": 4, \"Rare\": 5}\n",
    "\n",
    "#         X_['Title'] = X_['Title'].map(title_mapping)\n",
    "\n",
    "#         # Imputing missing values with 0\n",
    "#         X_['Title'] = X_['Title'].fillna(0)\n",
    "        \n",
    "\n",
    "        "
   ]
  },
  {
   "cell_type": "markdown",
   "execution_count": null,
   "metadata": {
    "papermill": {
     "duration": 0.026514,
     "end_time": "2020-08-19T07:08:47.630246",
     "exception": false,
     "start_time": "2020-08-19T07:08:47.603732",
     "status": "completed"
    },
    "tags": []
   },
   "source": [
    "## 3.4 Combine preprocessing steps into pipeline"
   ]
  },
  {
   "cell_type": "markdown",
   "execution_count": null,
   "metadata": {
    "papermill": {
     "duration": 0.023298,
     "end_time": "2020-08-19T07:08:47.680901",
     "exception": false,
     "start_time": "2020-08-19T07:08:47.657603",
     "status": "completed"
    },
    "tags": []
   },
   "source": [
    "Data preprocessing steps is very exhaustive and consumed a lot of time. After deciding which preprocessing method needed for each data type, I decide to put preprocessing steps into pipeline to automate the workflow."
   ]
  },
  {
   "cell_type": "code",
   "execution_count": 28,
   "metadata": {
    "execution": {
     "iopub.execute_input": "2020-08-19T07:08:47.726024Z",
     "iopub.status.busy": "2020-08-19T07:08:47.725121Z",
     "iopub.status.idle": "2020-08-19T07:08:47.739359Z",
     "shell.execute_reply": "2020-08-19T07:08:47.738682Z"
    },
    "papermill": {
     "duration": 0.040157,
     "end_time": "2020-08-19T07:08:47.739517",
     "exception": false,
     "start_time": "2020-08-19T07:08:47.699360",
     "status": "completed"
    },
    "tags": []
   },
   "outputs": [],
   "source": [
    "from sklearn.pipeline import Pipeline\n",
    "from sklearn.preprocessing import OneHotEncoder, StandardScaler\n",
    "from sklearn.compose import ColumnTransformer\n",
    "\n",
    "#Numerical pipeline\n",
    "num_pipeline = Pipeline([\n",
    "    ('imputer', num_imputer), #num_imputer = imputed with median of each features\n",
    "    ('std_scaler', StandardScaler()) #z-score scaling\n",
    "])\n",
    "\n",
    "#Categorical pipeline\n",
    "cat_pipeline = Pipeline([\n",
    "    ('imputer', cat_imputer), #cat_imputer = imputed with most frequent object.\n",
    "    ('encoder', OneHotEncoder(handle_unknown='ignore')) #convert categorical columns into one hot vectors\n",
    "])\n",
    "\n",
    "#Name pipeline\n",
    "name_pipeline = Pipeline([\n",
    "    ('title_adder', TitleAttributeAdder()), #extract title from \"Name\" attribute\n",
    "    ('encoder', OneHotEncoder(handle_unknown='ignore')) #convert categorical columns into one hot vectors\n",
    "])\n",
    "\n",
    "#Finally put it into full pipeline to handle all preprocessing steps\n",
    "full_pipeline = ColumnTransformer([\n",
    "    ('num', num_pipeline, num_col),\n",
    "    ('cat', cat_pipeline, cat_col),\n",
    "    ('name', name_pipeline, name_col)\n",
    "])"
   ]
  },
  {
   "cell_type": "markdown",
   "execution_count": null,
   "metadata": {
    "papermill": {
     "duration": 0.018877,
     "end_time": "2020-08-19T07:08:47.788324",
     "exception": false,
     "start_time": "2020-08-19T07:08:47.769447",
     "status": "completed"
    },
    "tags": []
   },
   "source": [
    "### Dataset before transformation\n",
    "\n",
    "Before transformation, dataset is the same as we have imported during Exploratory Data Analysis steps"
   ]
  },
  {
   "cell_type": "code",
   "execution_count": 29,
   "metadata": {
    "execution": {
     "iopub.execute_input": "2020-08-19T07:08:47.851605Z",
     "iopub.status.busy": "2020-08-19T07:08:47.850786Z",
     "iopub.status.idle": "2020-08-19T07:08:47.855990Z",
     "shell.execute_reply": "2020-08-19T07:08:47.855414Z"
    },
    "papermill": {
     "duration": 0.048812,
     "end_time": "2020-08-19T07:08:47.856118",
     "exception": false,
     "start_time": "2020-08-19T07:08:47.807306",
     "status": "completed"
    },
    "tags": []
   },
   "outputs": [
    {
     "data": {
      "text/html": [
       "<div>\n",
       "<style scoped>\n",
       "    .dataframe tbody tr th:only-of-type {\n",
       "        vertical-align: middle;\n",
       "    }\n",
       "\n",
       "    .dataframe tbody tr th {\n",
       "        vertical-align: top;\n",
       "    }\n",
       "\n",
       "    .dataframe thead th {\n",
       "        text-align: right;\n",
       "    }\n",
       "</style>\n",
       "<table border=\"1\" class=\"dataframe\">\n",
       "  <thead>\n",
       "    <tr style=\"text-align: right;\">\n",
       "      <th></th>\n",
       "      <th>PassengerId</th>\n",
       "      <th>Pclass</th>\n",
       "      <th>Name</th>\n",
       "      <th>Sex</th>\n",
       "      <th>Age</th>\n",
       "      <th>SibSp</th>\n",
       "      <th>Parch</th>\n",
       "      <th>Ticket</th>\n",
       "      <th>Fare</th>\n",
       "      <th>Cabin</th>\n",
       "      <th>Embarked</th>\n",
       "    </tr>\n",
       "  </thead>\n",
       "  <tbody>\n",
       "    <tr>\n",
       "      <th>0</th>\n",
       "      <td>1</td>\n",
       "      <td>3</td>\n",
       "      <td>Braund, Mr. Owen Harris</td>\n",
       "      <td>male</td>\n",
       "      <td>22.0</td>\n",
       "      <td>1</td>\n",
       "      <td>0</td>\n",
       "      <td>A/5 21171</td>\n",
       "      <td>7.2500</td>\n",
       "      <td>NaN</td>\n",
       "      <td>S</td>\n",
       "    </tr>\n",
       "    <tr>\n",
       "      <th>1</th>\n",
       "      <td>2</td>\n",
       "      <td>1</td>\n",
       "      <td>Cumings, Mrs. John Bradley (Florence Briggs Th...</td>\n",
       "      <td>female</td>\n",
       "      <td>38.0</td>\n",
       "      <td>1</td>\n",
       "      <td>0</td>\n",
       "      <td>PC 17599</td>\n",
       "      <td>71.2833</td>\n",
       "      <td>C85</td>\n",
       "      <td>C</td>\n",
       "    </tr>\n",
       "    <tr>\n",
       "      <th>2</th>\n",
       "      <td>3</td>\n",
       "      <td>3</td>\n",
       "      <td>Heikkinen, Miss. Laina</td>\n",
       "      <td>female</td>\n",
       "      <td>26.0</td>\n",
       "      <td>0</td>\n",
       "      <td>0</td>\n",
       "      <td>STON/O2. 3101282</td>\n",
       "      <td>7.9250</td>\n",
       "      <td>NaN</td>\n",
       "      <td>S</td>\n",
       "    </tr>\n",
       "    <tr>\n",
       "      <th>3</th>\n",
       "      <td>4</td>\n",
       "      <td>1</td>\n",
       "      <td>Futrelle, Mrs. Jacques Heath (Lily May Peel)</td>\n",
       "      <td>female</td>\n",
       "      <td>35.0</td>\n",
       "      <td>1</td>\n",
       "      <td>0</td>\n",
       "      <td>113803</td>\n",
       "      <td>53.1000</td>\n",
       "      <td>C123</td>\n",
       "      <td>S</td>\n",
       "    </tr>\n",
       "    <tr>\n",
       "      <th>4</th>\n",
       "      <td>5</td>\n",
       "      <td>3</td>\n",
       "      <td>Allen, Mr. William Henry</td>\n",
       "      <td>male</td>\n",
       "      <td>35.0</td>\n",
       "      <td>0</td>\n",
       "      <td>0</td>\n",
       "      <td>373450</td>\n",
       "      <td>8.0500</td>\n",
       "      <td>NaN</td>\n",
       "      <td>S</td>\n",
       "    </tr>\n",
       "    <tr>\n",
       "      <th>...</th>\n",
       "      <td>...</td>\n",
       "      <td>...</td>\n",
       "      <td>...</td>\n",
       "      <td>...</td>\n",
       "      <td>...</td>\n",
       "      <td>...</td>\n",
       "      <td>...</td>\n",
       "      <td>...</td>\n",
       "      <td>...</td>\n",
       "      <td>...</td>\n",
       "      <td>...</td>\n",
       "    </tr>\n",
       "    <tr>\n",
       "      <th>886</th>\n",
       "      <td>887</td>\n",
       "      <td>2</td>\n",
       "      <td>Montvila, Rev. Juozas</td>\n",
       "      <td>male</td>\n",
       "      <td>27.0</td>\n",
       "      <td>0</td>\n",
       "      <td>0</td>\n",
       "      <td>211536</td>\n",
       "      <td>13.0000</td>\n",
       "      <td>NaN</td>\n",
       "      <td>S</td>\n",
       "    </tr>\n",
       "    <tr>\n",
       "      <th>887</th>\n",
       "      <td>888</td>\n",
       "      <td>1</td>\n",
       "      <td>Graham, Miss. Margaret Edith</td>\n",
       "      <td>female</td>\n",
       "      <td>19.0</td>\n",
       "      <td>0</td>\n",
       "      <td>0</td>\n",
       "      <td>112053</td>\n",
       "      <td>30.0000</td>\n",
       "      <td>B42</td>\n",
       "      <td>S</td>\n",
       "    </tr>\n",
       "    <tr>\n",
       "      <th>888</th>\n",
       "      <td>889</td>\n",
       "      <td>3</td>\n",
       "      <td>Johnston, Miss. Catherine Helen \"Carrie\"</td>\n",
       "      <td>female</td>\n",
       "      <td>NaN</td>\n",
       "      <td>1</td>\n",
       "      <td>2</td>\n",
       "      <td>W./C. 6607</td>\n",
       "      <td>23.4500</td>\n",
       "      <td>NaN</td>\n",
       "      <td>S</td>\n",
       "    </tr>\n",
       "    <tr>\n",
       "      <th>889</th>\n",
       "      <td>890</td>\n",
       "      <td>1</td>\n",
       "      <td>Behr, Mr. Karl Howell</td>\n",
       "      <td>male</td>\n",
       "      <td>26.0</td>\n",
       "      <td>0</td>\n",
       "      <td>0</td>\n",
       "      <td>111369</td>\n",
       "      <td>30.0000</td>\n",
       "      <td>C148</td>\n",
       "      <td>C</td>\n",
       "    </tr>\n",
       "    <tr>\n",
       "      <th>890</th>\n",
       "      <td>891</td>\n",
       "      <td>3</td>\n",
       "      <td>Dooley, Mr. Patrick</td>\n",
       "      <td>male</td>\n",
       "      <td>32.0</td>\n",
       "      <td>0</td>\n",
       "      <td>0</td>\n",
       "      <td>370376</td>\n",
       "      <td>7.7500</td>\n",
       "      <td>NaN</td>\n",
       "      <td>Q</td>\n",
       "    </tr>\n",
       "  </tbody>\n",
       "</table>\n",
       "<p>891 rows × 11 columns</p>\n",
       "</div>"
      ],
      "text/plain": [
       "     PassengerId  Pclass                                               Name  \\\n",
       "0              1       3                            Braund, Mr. Owen Harris   \n",
       "1              2       1  Cumings, Mrs. John Bradley (Florence Briggs Th...   \n",
       "2              3       3                             Heikkinen, Miss. Laina   \n",
       "3              4       1       Futrelle, Mrs. Jacques Heath (Lily May Peel)   \n",
       "4              5       3                           Allen, Mr. William Henry   \n",
       "..           ...     ...                                                ...   \n",
       "886          887       2                              Montvila, Rev. Juozas   \n",
       "887          888       1                       Graham, Miss. Margaret Edith   \n",
       "888          889       3           Johnston, Miss. Catherine Helen \"Carrie\"   \n",
       "889          890       1                              Behr, Mr. Karl Howell   \n",
       "890          891       3                                Dooley, Mr. Patrick   \n",
       "\n",
       "        Sex   Age  SibSp  Parch            Ticket     Fare Cabin Embarked  \n",
       "0      male  22.0      1      0         A/5 21171   7.2500   NaN        S  \n",
       "1    female  38.0      1      0          PC 17599  71.2833   C85        C  \n",
       "2    female  26.0      0      0  STON/O2. 3101282   7.9250   NaN        S  \n",
       "3    female  35.0      1      0            113803  53.1000  C123        S  \n",
       "4      male  35.0      0      0            373450   8.0500   NaN        S  \n",
       "..      ...   ...    ...    ...               ...      ...   ...      ...  \n",
       "886    male  27.0      0      0            211536  13.0000   NaN        S  \n",
       "887  female  19.0      0      0            112053  30.0000   B42        S  \n",
       "888  female   NaN      1      2        W./C. 6607  23.4500   NaN        S  \n",
       "889    male  26.0      0      0            111369  30.0000  C148        C  \n",
       "890    male  32.0      0      0            370376   7.7500   NaN        Q  \n",
       "\n",
       "[891 rows x 11 columns]"
      ]
     },
     "execution_count": 29,
     "metadata": {},
     "output_type": "execute_result"
    }
   ],
   "source": [
    "X_train"
   ]
  },
  {
   "cell_type": "markdown",
   "execution_count": null,
   "metadata": {
    "papermill": {
     "duration": 0.018693,
     "end_time": "2020-08-19T07:08:47.894133",
     "exception": false,
     "start_time": "2020-08-19T07:08:47.875440",
     "status": "completed"
    },
    "tags": []
   },
   "source": [
    "### Dataset after transformation\n",
    "\n",
    "After transformantion, \n",
    "\n",
    "1. Numerical features has been imputed and Standard scaling\n",
    "2. Categorical features has been imputed and onehotencoding as shown\n",
    "3. Title has been extracted from \"Name\" attribute, and being onehotencoded too"
   ]
  },
  {
   "cell_type": "code",
   "execution_count": 30,
   "metadata": {
    "execution": {
     "iopub.execute_input": "2020-08-19T07:08:47.944494Z",
     "iopub.status.busy": "2020-08-19T07:08:47.943448Z",
     "iopub.status.idle": "2020-08-19T07:08:47.996427Z",
     "shell.execute_reply": "2020-08-19T07:08:47.995568Z"
    },
    "papermill": {
     "duration": 0.083752,
     "end_time": "2020-08-19T07:08:47.996583",
     "exception": false,
     "start_time": "2020-08-19T07:08:47.912831",
     "status": "completed"
    },
    "tags": []
   },
   "outputs": [
    {
     "data": {
      "text/html": [
       "<div>\n",
       "<style scoped>\n",
       "    .dataframe tbody tr th:only-of-type {\n",
       "        vertical-align: middle;\n",
       "    }\n",
       "\n",
       "    .dataframe tbody tr th {\n",
       "        vertical-align: top;\n",
       "    }\n",
       "\n",
       "    .dataframe thead th {\n",
       "        text-align: right;\n",
       "    }\n",
       "</style>\n",
       "<table border=\"1\" class=\"dataframe\">\n",
       "  <thead>\n",
       "    <tr style=\"text-align: right;\">\n",
       "      <th></th>\n",
       "      <th>Fare</th>\n",
       "      <th>Age</th>\n",
       "      <th>SibSp</th>\n",
       "      <th>Parch</th>\n",
       "      <th>Pclass_1</th>\n",
       "      <th>Pclass_2</th>\n",
       "      <th>Pclass_3</th>\n",
       "      <th>female</th>\n",
       "      <th>male</th>\n",
       "      <th>Embarked_C</th>\n",
       "      <th>Embarked_Q</th>\n",
       "      <th>Embarked_S</th>\n",
       "      <th>x0_Master</th>\n",
       "      <th>x0_Miss</th>\n",
       "      <th>x0_Mr</th>\n",
       "      <th>x0_Mrs</th>\n",
       "      <th>x0_Rare</th>\n",
       "    </tr>\n",
       "  </thead>\n",
       "  <tbody>\n",
       "    <tr>\n",
       "      <th>0</th>\n",
       "      <td>-0.502445</td>\n",
       "      <td>-0.565736</td>\n",
       "      <td>0.432793</td>\n",
       "      <td>-0.473674</td>\n",
       "      <td>0.0</td>\n",
       "      <td>0.0</td>\n",
       "      <td>1.0</td>\n",
       "      <td>0.0</td>\n",
       "      <td>1.0</td>\n",
       "      <td>0.0</td>\n",
       "      <td>0.0</td>\n",
       "      <td>1.0</td>\n",
       "      <td>0.0</td>\n",
       "      <td>0.0</td>\n",
       "      <td>1.0</td>\n",
       "      <td>0.0</td>\n",
       "      <td>0.0</td>\n",
       "    </tr>\n",
       "    <tr>\n",
       "      <th>1</th>\n",
       "      <td>0.786845</td>\n",
       "      <td>0.663861</td>\n",
       "      <td>0.432793</td>\n",
       "      <td>-0.473674</td>\n",
       "      <td>1.0</td>\n",
       "      <td>0.0</td>\n",
       "      <td>0.0</td>\n",
       "      <td>1.0</td>\n",
       "      <td>0.0</td>\n",
       "      <td>1.0</td>\n",
       "      <td>0.0</td>\n",
       "      <td>0.0</td>\n",
       "      <td>0.0</td>\n",
       "      <td>0.0</td>\n",
       "      <td>0.0</td>\n",
       "      <td>1.0</td>\n",
       "      <td>0.0</td>\n",
       "    </tr>\n",
       "    <tr>\n",
       "      <th>2</th>\n",
       "      <td>-0.488854</td>\n",
       "      <td>-0.258337</td>\n",
       "      <td>-0.474545</td>\n",
       "      <td>-0.473674</td>\n",
       "      <td>0.0</td>\n",
       "      <td>0.0</td>\n",
       "      <td>1.0</td>\n",
       "      <td>1.0</td>\n",
       "      <td>0.0</td>\n",
       "      <td>0.0</td>\n",
       "      <td>0.0</td>\n",
       "      <td>1.0</td>\n",
       "      <td>0.0</td>\n",
       "      <td>1.0</td>\n",
       "      <td>0.0</td>\n",
       "      <td>0.0</td>\n",
       "      <td>0.0</td>\n",
       "    </tr>\n",
       "    <tr>\n",
       "      <th>3</th>\n",
       "      <td>0.420730</td>\n",
       "      <td>0.433312</td>\n",
       "      <td>0.432793</td>\n",
       "      <td>-0.473674</td>\n",
       "      <td>1.0</td>\n",
       "      <td>0.0</td>\n",
       "      <td>0.0</td>\n",
       "      <td>1.0</td>\n",
       "      <td>0.0</td>\n",
       "      <td>0.0</td>\n",
       "      <td>0.0</td>\n",
       "      <td>1.0</td>\n",
       "      <td>0.0</td>\n",
       "      <td>0.0</td>\n",
       "      <td>0.0</td>\n",
       "      <td>1.0</td>\n",
       "      <td>0.0</td>\n",
       "    </tr>\n",
       "    <tr>\n",
       "      <th>4</th>\n",
       "      <td>-0.486337</td>\n",
       "      <td>0.433312</td>\n",
       "      <td>-0.474545</td>\n",
       "      <td>-0.473674</td>\n",
       "      <td>0.0</td>\n",
       "      <td>0.0</td>\n",
       "      <td>1.0</td>\n",
       "      <td>0.0</td>\n",
       "      <td>1.0</td>\n",
       "      <td>0.0</td>\n",
       "      <td>0.0</td>\n",
       "      <td>1.0</td>\n",
       "      <td>0.0</td>\n",
       "      <td>0.0</td>\n",
       "      <td>1.0</td>\n",
       "      <td>0.0</td>\n",
       "      <td>0.0</td>\n",
       "    </tr>\n",
       "    <tr>\n",
       "      <th>...</th>\n",
       "      <td>...</td>\n",
       "      <td>...</td>\n",
       "      <td>...</td>\n",
       "      <td>...</td>\n",
       "      <td>...</td>\n",
       "      <td>...</td>\n",
       "      <td>...</td>\n",
       "      <td>...</td>\n",
       "      <td>...</td>\n",
       "      <td>...</td>\n",
       "      <td>...</td>\n",
       "      <td>...</td>\n",
       "      <td>...</td>\n",
       "      <td>...</td>\n",
       "      <td>...</td>\n",
       "      <td>...</td>\n",
       "      <td>...</td>\n",
       "    </tr>\n",
       "    <tr>\n",
       "      <th>886</th>\n",
       "      <td>-0.386671</td>\n",
       "      <td>-0.181487</td>\n",
       "      <td>-0.474545</td>\n",
       "      <td>-0.473674</td>\n",
       "      <td>0.0</td>\n",
       "      <td>1.0</td>\n",
       "      <td>0.0</td>\n",
       "      <td>0.0</td>\n",
       "      <td>1.0</td>\n",
       "      <td>0.0</td>\n",
       "      <td>0.0</td>\n",
       "      <td>1.0</td>\n",
       "      <td>0.0</td>\n",
       "      <td>0.0</td>\n",
       "      <td>0.0</td>\n",
       "      <td>0.0</td>\n",
       "      <td>1.0</td>\n",
       "    </tr>\n",
       "    <tr>\n",
       "      <th>887</th>\n",
       "      <td>-0.044381</td>\n",
       "      <td>-0.796286</td>\n",
       "      <td>-0.474545</td>\n",
       "      <td>-0.473674</td>\n",
       "      <td>1.0</td>\n",
       "      <td>0.0</td>\n",
       "      <td>0.0</td>\n",
       "      <td>1.0</td>\n",
       "      <td>0.0</td>\n",
       "      <td>0.0</td>\n",
       "      <td>0.0</td>\n",
       "      <td>1.0</td>\n",
       "      <td>0.0</td>\n",
       "      <td>1.0</td>\n",
       "      <td>0.0</td>\n",
       "      <td>0.0</td>\n",
       "      <td>0.0</td>\n",
       "    </tr>\n",
       "    <tr>\n",
       "      <th>888</th>\n",
       "      <td>-0.176263</td>\n",
       "      <td>-0.104637</td>\n",
       "      <td>0.432793</td>\n",
       "      <td>2.008933</td>\n",
       "      <td>0.0</td>\n",
       "      <td>0.0</td>\n",
       "      <td>1.0</td>\n",
       "      <td>1.0</td>\n",
       "      <td>0.0</td>\n",
       "      <td>0.0</td>\n",
       "      <td>0.0</td>\n",
       "      <td>1.0</td>\n",
       "      <td>0.0</td>\n",
       "      <td>1.0</td>\n",
       "      <td>0.0</td>\n",
       "      <td>0.0</td>\n",
       "      <td>0.0</td>\n",
       "    </tr>\n",
       "    <tr>\n",
       "      <th>889</th>\n",
       "      <td>-0.044381</td>\n",
       "      <td>-0.258337</td>\n",
       "      <td>-0.474545</td>\n",
       "      <td>-0.473674</td>\n",
       "      <td>1.0</td>\n",
       "      <td>0.0</td>\n",
       "      <td>0.0</td>\n",
       "      <td>0.0</td>\n",
       "      <td>1.0</td>\n",
       "      <td>1.0</td>\n",
       "      <td>0.0</td>\n",
       "      <td>0.0</td>\n",
       "      <td>0.0</td>\n",
       "      <td>0.0</td>\n",
       "      <td>1.0</td>\n",
       "      <td>0.0</td>\n",
       "      <td>0.0</td>\n",
       "    </tr>\n",
       "    <tr>\n",
       "      <th>890</th>\n",
       "      <td>-0.492378</td>\n",
       "      <td>0.202762</td>\n",
       "      <td>-0.474545</td>\n",
       "      <td>-0.473674</td>\n",
       "      <td>0.0</td>\n",
       "      <td>0.0</td>\n",
       "      <td>1.0</td>\n",
       "      <td>0.0</td>\n",
       "      <td>1.0</td>\n",
       "      <td>0.0</td>\n",
       "      <td>1.0</td>\n",
       "      <td>0.0</td>\n",
       "      <td>0.0</td>\n",
       "      <td>0.0</td>\n",
       "      <td>1.0</td>\n",
       "      <td>0.0</td>\n",
       "      <td>0.0</td>\n",
       "    </tr>\n",
       "  </tbody>\n",
       "</table>\n",
       "<p>891 rows × 17 columns</p>\n",
       "</div>"
      ],
      "text/plain": [
       "         Fare       Age     SibSp     Parch  Pclass_1  Pclass_2  Pclass_3  \\\n",
       "0   -0.502445 -0.565736  0.432793 -0.473674       0.0       0.0       1.0   \n",
       "1    0.786845  0.663861  0.432793 -0.473674       1.0       0.0       0.0   \n",
       "2   -0.488854 -0.258337 -0.474545 -0.473674       0.0       0.0       1.0   \n",
       "3    0.420730  0.433312  0.432793 -0.473674       1.0       0.0       0.0   \n",
       "4   -0.486337  0.433312 -0.474545 -0.473674       0.0       0.0       1.0   \n",
       "..        ...       ...       ...       ...       ...       ...       ...   \n",
       "886 -0.386671 -0.181487 -0.474545 -0.473674       0.0       1.0       0.0   \n",
       "887 -0.044381 -0.796286 -0.474545 -0.473674       1.0       0.0       0.0   \n",
       "888 -0.176263 -0.104637  0.432793  2.008933       0.0       0.0       1.0   \n",
       "889 -0.044381 -0.258337 -0.474545 -0.473674       1.0       0.0       0.0   \n",
       "890 -0.492378  0.202762 -0.474545 -0.473674       0.0       0.0       1.0   \n",
       "\n",
       "     female  male  Embarked_C  Embarked_Q  Embarked_S  x0_Master  x0_Miss  \\\n",
       "0       0.0   1.0         0.0         0.0         1.0        0.0      0.0   \n",
       "1       1.0   0.0         1.0         0.0         0.0        0.0      0.0   \n",
       "2       1.0   0.0         0.0         0.0         1.0        0.0      1.0   \n",
       "3       1.0   0.0         0.0         0.0         1.0        0.0      0.0   \n",
       "4       0.0   1.0         0.0         0.0         1.0        0.0      0.0   \n",
       "..      ...   ...         ...         ...         ...        ...      ...   \n",
       "886     0.0   1.0         0.0         0.0         1.0        0.0      0.0   \n",
       "887     1.0   0.0         0.0         0.0         1.0        0.0      1.0   \n",
       "888     1.0   0.0         0.0         0.0         1.0        0.0      1.0   \n",
       "889     0.0   1.0         1.0         0.0         0.0        0.0      0.0   \n",
       "890     0.0   1.0         0.0         1.0         0.0        0.0      0.0   \n",
       "\n",
       "     x0_Mr  x0_Mrs  x0_Rare  \n",
       "0      1.0     0.0      0.0  \n",
       "1      0.0     1.0      0.0  \n",
       "2      0.0     0.0      0.0  \n",
       "3      0.0     1.0      0.0  \n",
       "4      1.0     0.0      0.0  \n",
       "..     ...     ...      ...  \n",
       "886    0.0     0.0      1.0  \n",
       "887    0.0     0.0      0.0  \n",
       "888    0.0     0.0      0.0  \n",
       "889    1.0     0.0      0.0  \n",
       "890    1.0     0.0      0.0  \n",
       "\n",
       "[891 rows x 17 columns]"
      ]
     },
     "execution_count": 30,
     "metadata": {},
     "output_type": "execute_result"
    }
   ],
   "source": [
    "X_train_prepared = full_pipeline.fit_transform(X_train)\n",
    "X_train_prepared = pd.DataFrame(X_train_prepared,columns = full_pipeline.transformers_[0][2]+\n",
    "                               full_pipeline.transformers_[1][1][1].get_feature_names().tolist()+\n",
    "                               full_pipeline.transformers_[2][1][1].get_feature_names().tolist())\n",
    "X_train_prepared.rename(columns = {'x0_1': 'Pclass_1',\n",
    "                                  'x0_2' : 'Pclass_2',\n",
    "                                  'x0_3' : 'Pclass_3',\n",
    "                                  'x1_female': 'female',\n",
    "                                  'x1_male': 'male',\n",
    "                                  'x2_C': 'Embarked_C',\n",
    "                                  'x2_Q': 'Embarked_Q',\n",
    "                                  'x2_S': 'Embarked_S'})"
   ]
  },
  {
   "cell_type": "markdown",
   "execution_count": null,
   "metadata": {
    "papermill": {
     "duration": 0.018957,
     "end_time": "2020-08-19T07:08:48.040602",
     "exception": false,
     "start_time": "2020-08-19T07:08:48.021645",
     "status": "completed"
    },
    "tags": []
   },
   "source": [
    "# 4. Model selection <a id=4>"
   ]
  },
  {
   "cell_type": "markdown",
   "execution_count": null,
   "metadata": {
    "papermill": {
     "duration": 0.019104,
     "end_time": "2020-08-19T07:08:48.079228",
     "exception": false,
     "start_time": "2020-08-19T07:08:48.060124",
     "status": "completed"
    },
    "tags": []
   },
   "source": [
    "We'll compare model performance from Scikit-learn model selection guideline as shown below\n",
    "\n",
    "![Guideline](https://scikit-learn.org/stable/_static/ml_map.png)\n",
    "see more at : https://scikit-learn.org/stable/tutorial/machine_learning_map/index.html"
   ]
  },
  {
   "cell_type": "markdown",
   "execution_count": null,
   "metadata": {
    "papermill": {
     "duration": 0.019462,
     "end_time": "2020-08-19T07:08:48.117999",
     "exception": false,
     "start_time": "2020-08-19T07:08:48.098537",
     "status": "completed"
    },
    "tags": []
   },
   "source": [
    "From above guideline, I've selected interesting algorithms as follow\n",
    "\n",
    "1. Stochastic Gradient Descent Classifier (SGDClassifier)\n",
    "1. LogisticRegression\n",
    "1. Linear Support Vector Classifier (Linear SVC)\n",
    "1. Support Vector Classifier with polynomial kernel\n",
    "1. Support Vector Classifier with Gaussian RBF kernel\n",
    "1. K-Nearest Neighbour Classifier (KNN)\n",
    "1. Random Forest Classifier\n",
    "1. Extreme Gradient Boosting Classifier (XGBClassifier)"
   ]
  },
  {
   "cell_type": "code",
   "execution_count": 31,
   "metadata": {
    "execution": {
     "iopub.execute_input": "2020-08-19T07:08:48.168361Z",
     "iopub.status.busy": "2020-08-19T07:08:48.167443Z",
     "iopub.status.idle": "2020-08-19T07:08:51.015388Z",
     "shell.execute_reply": "2020-08-19T07:08:51.016904Z"
    },
    "papermill": {
     "duration": 2.878554,
     "end_time": "2020-08-19T07:08:51.017222",
     "exception": false,
     "start_time": "2020-08-19T07:08:48.138668",
     "status": "completed"
    },
    "tags": []
   },
   "outputs": [
    {
     "name": "stdout",
     "output_type": "stream",
     "text": [
      "SGDClassifier score = 0.781\n",
      "LogisticsRegression score = 0.822\n"
     ]
    },
    {
     "name": "stderr",
     "output_type": "stream",
     "text": [
      "/opt/conda/lib/python3.7/site-packages/sklearn/svm/_base.py:977: ConvergenceWarning: Liblinear failed to converge, increase the number of iterations.\n",
      "  \"the number of iterations.\", ConvergenceWarning)\n",
      "/opt/conda/lib/python3.7/site-packages/sklearn/svm/_base.py:977: ConvergenceWarning: Liblinear failed to converge, increase the number of iterations.\n",
      "  \"the number of iterations.\", ConvergenceWarning)\n",
      "/opt/conda/lib/python3.7/site-packages/sklearn/svm/_base.py:977: ConvergenceWarning: Liblinear failed to converge, increase the number of iterations.\n",
      "  \"the number of iterations.\", ConvergenceWarning)\n",
      "/opt/conda/lib/python3.7/site-packages/sklearn/svm/_base.py:977: ConvergenceWarning: Liblinear failed to converge, increase the number of iterations.\n",
      "  \"the number of iterations.\", ConvergenceWarning)\n"
     ]
    },
    {
     "name": "stdout",
     "output_type": "stream",
     "text": [
      "LinearSVC score = 0.816\n",
      "PolyKernelSVC score = 0.828\n",
      "RBFKernelSVC score = 0.832\n",
      "KNN_Classifier score = 0.811\n",
      "RandomForestClassifer score = 0.797\n",
      "XGBClassifier score = 0.82\n"
     ]
    }
   ],
   "source": [
    "np.random.seed(1)\n",
    "from sklearn.model_selection import cross_val_score\n",
    "from sklearn.linear_model import SGDClassifier, LogisticRegression\n",
    "from sklearn.svm import LinearSVC , SVC\n",
    "from sklearn.neighbors import KNeighborsClassifier\n",
    "from sklearn.ensemble import RandomForestClassifier\n",
    "import xgboost as xgb\n",
    "\n",
    "\n",
    "model_list = [('SGDClassifier', SGDClassifier()),\n",
    "              ('LogisticsRegression', LogisticRegression()),\n",
    "         ('LinearSVC', LinearSVC()),\n",
    "         ('PolyKernelSVC', SVC(kernel = 'poly')),\n",
    "         ('RBFKernelSVC', SVC(kernel='rbf')),\n",
    "         ('KNN_Classifier', KNeighborsClassifier()),\n",
    "         ('RandomForestClassifer', RandomForestClassifier()),\n",
    "         ('XGBClassifier', xgb.XGBClassifier())\n",
    "        ]\n",
    "model_score = []\n",
    "\n",
    "for m in model_list:\n",
    "    model = m[1]\n",
    "    score = cross_val_score(model,X_train_prepared,y_train,cv=4, scoring='accuracy')\n",
    "    print(f'{m[0]} score = {round(score.mean(),3)}')\n",
    "    model_score.append([m[0],score.mean()])\n",
    "    "
   ]
  },
  {
   "cell_type": "code",
   "execution_count": 32,
   "metadata": {
    "execution": {
     "iopub.execute_input": "2020-08-19T07:08:51.085751Z",
     "iopub.status.busy": "2020-08-19T07:08:51.084726Z",
     "iopub.status.idle": "2020-08-19T07:08:51.427212Z",
     "shell.execute_reply": "2020-08-19T07:08:51.426676Z"
    },
    "papermill": {
     "duration": 0.381312,
     "end_time": "2020-08-19T07:08:51.427341",
     "exception": false,
     "start_time": "2020-08-19T07:08:51.046029",
     "status": "completed"
    },
    "tags": []
   },
   "outputs": [
    {
     "data": {
      "image/png": "[encoded data removed]",
      "text/plain": [
       "<Figure size 1080x720 with 1 Axes>"
      ]
     },
     "metadata": {},
     "output_type": "display_data"
    }
   ],
   "source": [
    "fig = plt.figure(figsize=(15,10))\n",
    "sns.set_style('darkgrid')\n",
    "sns.barplot(data = pd.DataFrame(data=model_score,columns = ['Model','Mean_Score']).sort_values(by='Mean_Score',ascending=False),\n",
    "           x='Mean_Score', y = 'Model',orient='h',palette='icefire')\n",
    "plt.xlim((0.7,0.85));"
   ]
  },
  {
   "cell_type": "markdown",
   "execution_count": null,
   "metadata": {
    "papermill": {
     "duration": 0.019768,
     "end_time": "2020-08-19T07:08:51.467268",
     "exception": false,
     "start_time": "2020-08-19T07:08:51.447500",
     "status": "completed"
    },
    "tags": []
   },
   "source": [
    "**By comparing default algorithm configuration ...** <br>\n",
    "\n",
    "From average cross validation score, we'll select top 3 model to construct voting classifier. \n",
    "In order to get best performance out of voting classifier, predictors shall be trained with different algorithms.\n",
    "However SVC with RBF and Poly kernel are from the same classifier (with different kernel). Therefore, we'll pick 4th classifier (XGBClassifier) instead of PolyKernelSVC to construct our voting classifier"
   ]
  },
  {
   "cell_type": "markdown",
   "execution_count": null,
   "metadata": {
    "papermill": {
     "duration": 0.019211,
     "end_time": "2020-08-19T07:08:51.506466",
     "exception": false,
     "start_time": "2020-08-19T07:08:51.487255",
     "status": "completed"
    },
    "tags": []
   },
   "source": [
    "# 5. Hyperparameter tuning <a id=5>"
   ]
  },
  {
   "cell_type": "markdown",
   "execution_count": null,
   "metadata": {
    "papermill": {
     "duration": 0.019488,
     "end_time": "2020-08-19T07:08:51.545729",
     "exception": false,
     "start_time": "2020-08-19T07:08:51.526241",
     "status": "completed"
    },
    "tags": []
   },
   "source": [
    "We'll use exhausive grid seacrh cross validiation method (GridSearchCV) to find best combination of hyperparameters for our algorithms <br>\n",
    "\n",
    "For quick committing, I've run GridSearchCV to find optimum hyperparameters and save model for later used in order to recall saved model to train quickly."
   ]
  },
  {
   "cell_type": "markdown",
   "execution_count": null,
   "metadata": {
    "papermill": {
     "duration": 0.019483,
     "end_time": "2020-08-19T07:08:51.585131",
     "exception": false,
     "start_time": "2020-08-19T07:08:51.565648",
     "status": "completed"
    },
    "tags": []
   },
   "source": [
    "## 5.1 Logistic Regression"
   ]
  },
  {
   "cell_type": "code",
   "execution_count": 33,
   "metadata": {
    "collapsed": true,
    "execution": {
     "iopub.execute_input": "2020-08-19T07:08:51.633854Z",
     "iopub.status.busy": "2020-08-19T07:08:51.633221Z",
     "iopub.status.idle": "2020-08-19T07:08:52.263788Z",
     "shell.execute_reply": "2020-08-19T07:08:52.263125Z"
    },
    "papermill": {
     "duration": 0.658973,
     "end_time": "2020-08-19T07:08:52.263911",
     "exception": false,
     "start_time": "2020-08-19T07:08:51.604938",
     "status": "completed"
    },
    "tags": []
   },
   "outputs": [
    {
     "name": "stderr",
     "output_type": "stream",
     "text": [
      "/opt/conda/lib/python3.7/site-packages/sklearn/model_selection/_validation.py:552: FitFailedWarning: Estimator fit failed. The score on this train-test partition for these parameters will be set to nan. Details: \n",
      "Traceback (most recent call last):\n",
      "  File \"/opt/conda/lib/python3.7/site-packages/sklearn/model_selection/_validation.py\", line 531, in _fit_and_score\n",
      "    estimator.fit(X_train, y_train, **fit_params)\n",
      "  File \"/opt/conda/lib/python3.7/site-packages/sklearn/linear_model/_logistic.py\", line 1304, in fit\n",
      "    solver = _check_solver(self.solver, self.penalty, self.dual)\n",
      "  File \"/opt/conda/lib/python3.7/site-packages/sklearn/linear_model/_logistic.py\", line 443, in _check_solver\n",
      "    \"got %s penalty.\" % (solver, penalty))\n",
      "ValueError: Solver lbfgs supports only 'l2' or 'none' penalties, got elasticnet penalty.\n",
      "\n",
      "  FitFailedWarning)\n"
     ]
    },
    {
     "data": {
      "text/plain": [
       "GridSearchCV(cv=4, estimator=LogisticRegression(),\n",
       "             param_grid=[{'C': [0.1, 0.3, 1, 3, 10]},\n",
       "                         {'C': [0.1, 0.3, 1, 3, 10],\n",
       "                          'l1_ratio': array([0. , 0.2, 0.4, 0.6, 0.8, 1. ]),\n",
       "                          'penalty': ['elasticnet']}],\n",
       "             return_train_score=True, scoring='accuracy')"
      ]
     },
     "execution_count": 33,
     "metadata": {},
     "output_type": "execute_result"
    }
   ],
   "source": [
    "#%%script false --no-raise-error\n",
    "from sklearn.model_selection import GridSearchCV\n",
    "\n",
    "#Hyperparameter to be tweaked for LogisticRegression\n",
    "param_grid1 = [\n",
    "    {'C' : [0.1,0.3,1,3,10],\n",
    "    },\n",
    "    {'penalty':['elasticnet'],\n",
    "    'C' : [0.1,0.3,1,3,10],\n",
    "    'l1_ratio' : np.linspace(0,1,6)}\n",
    "]\n",
    "\n",
    "grid_search1 = GridSearchCV(LogisticRegression(),param_grid1, cv=4, scoring = 'accuracy', return_train_score = True)\n",
    "grid_search1.fit(X_train_prepared,y_train)"
   ]
  },
  {
   "cell_type": "code",
   "execution_count": 34,
   "metadata": {
    "collapsed": true,
    "execution": {
     "iopub.execute_input": "2020-08-19T07:08:52.310230Z",
     "iopub.status.busy": "2020-08-19T07:08:52.309444Z",
     "iopub.status.idle": "2020-08-19T07:08:52.315690Z",
     "shell.execute_reply": "2020-08-19T07:08:52.315086Z"
    },
    "papermill": {
     "duration": 0.031591,
     "end_time": "2020-08-19T07:08:52.315801",
     "exception": false,
     "start_time": "2020-08-19T07:08:52.284210",
     "status": "completed"
    },
    "tags": []
   },
   "outputs": [
    {
     "data": {
      "text/plain": [
       "['LogisticRegression.pkl']"
      ]
     },
     "execution_count": 34,
     "metadata": {},
     "output_type": "execute_result"
    }
   ],
   "source": [
    "#%%script false --no-raise-error\n",
    "LogisticRegression = grid_search1.best_estimator_\n",
    "joblib.dump(model , 'LogisticRegression.pkl')"
   ]
  },
  {
   "cell_type": "markdown",
   "execution_count": null,
   "metadata": {
    "papermill": {
     "duration": 0.020178,
     "end_time": "2020-08-19T07:08:52.356618",
     "exception": false,
     "start_time": "2020-08-19T07:08:52.336440",
     "status": "completed"
    },
    "tags": []
   },
   "source": [
    "Default setting of Logistic Regression seem to perform best so we keep using it defualt configuration for next step"
   ]
  },
  {
   "cell_type": "markdown",
   "execution_count": null,
   "metadata": {
    "papermill": {
     "duration": 0.019851,
     "end_time": "2020-08-19T07:08:52.396872",
     "exception": false,
     "start_time": "2020-08-19T07:08:52.377021",
     "status": "completed"
    },
    "tags": []
   },
   "source": [
    "## 5.2 Support Vector Classifier with RBF kernel"
   ]
  },
  {
   "cell_type": "code",
   "execution_count": 35,
   "metadata": {
    "collapsed": true,
    "execution": {
     "iopub.execute_input": "2020-08-19T07:08:52.446558Z",
     "iopub.status.busy": "2020-08-19T07:08:52.445699Z",
     "iopub.status.idle": "2020-08-19T07:08:58.319007Z",
     "shell.execute_reply": "2020-08-19T07:08:58.319535Z"
    },
    "papermill": {
     "duration": 5.901812,
     "end_time": "2020-08-19T07:08:58.319688",
     "exception": false,
     "start_time": "2020-08-19T07:08:52.417876",
     "status": "completed"
    },
    "tags": []
   },
   "outputs": [
    {
     "data": {
      "text/plain": [
       "GridSearchCV(cv=4, estimator=SVC(probability=True), n_jobs=-1,\n",
       "             param_grid=[{'C': [0.01, 0.03, 0.1, 0.3, 1],\n",
       "                          'gamma': [0.01, 0.03, 0.1, 0.3, 1]}],\n",
       "             return_train_score=True, scoring='accuracy')"
      ]
     },
     "execution_count": 35,
     "metadata": {},
     "output_type": "execute_result"
    }
   ],
   "source": [
    "#%%script false --no-raise-error\n",
    "#Hyperparameter to be tweaked\n",
    "param_grid2 = [{\n",
    "    'gamma' : [0.01,0.03,0.1,0.3,1],\n",
    "    'C' : [0.01,0.03,0.1,0.3,1,],\n",
    "}]\n",
    "\n",
    "grid_search2 = GridSearchCV(SVC(kernel='rbf',probability=True),param_grid2, cv=4, scoring = 'accuracy', return_train_score = True, n_jobs=-1)\n",
    "grid_search2.fit(X_train_prepared,y_train)"
   ]
  },
  {
   "cell_type": "code",
   "execution_count": 36,
   "metadata": {
    "collapsed": true,
    "execution": {
     "iopub.execute_input": "2020-08-19T07:08:58.368898Z",
     "iopub.status.busy": "2020-08-19T07:08:58.368053Z",
     "iopub.status.idle": "2020-08-19T07:08:58.371772Z",
     "shell.execute_reply": "2020-08-19T07:08:58.371168Z"
    },
    "papermill": {
     "duration": 0.031315,
     "end_time": "2020-08-19T07:08:58.371946",
     "exception": false,
     "start_time": "2020-08-19T07:08:58.340631",
     "status": "completed"
    },
    "tags": []
   },
   "outputs": [
    {
     "data": {
      "text/plain": [
       "['SVC_rbf.pkl']"
      ]
     },
     "execution_count": 36,
     "metadata": {},
     "output_type": "execute_result"
    }
   ],
   "source": [
    "#%%script false --no-raise-error\n",
    "SVC_rbf = grid_search2.best_estimator_\n",
    "joblib.dump(model , 'SVC_rbf.pkl')"
   ]
  },
  {
   "cell_type": "markdown",
   "execution_count": null,
   "metadata": {
    "papermill": {
     "duration": 0.021334,
     "end_time": "2020-08-19T07:08:58.414647",
     "exception": false,
     "start_time": "2020-08-19T07:08:58.393313",
     "status": "completed"
    },
    "tags": []
   },
   "source": [
    "## 5.3 XGB Classifier"
   ]
  },
  {
   "cell_type": "code",
   "execution_count": 37,
   "metadata": {
    "collapsed": true,
    "execution": {
     "iopub.execute_input": "2020-08-19T07:08:58.466353Z",
     "iopub.status.busy": "2020-08-19T07:08:58.465646Z",
     "iopub.status.idle": "2020-08-19T07:09:35.535573Z",
     "shell.execute_reply": "2020-08-19T07:09:35.534807Z"
    },
    "papermill": {
     "duration": 37.09968,
     "end_time": "2020-08-19T07:09:35.535737",
     "exception": false,
     "start_time": "2020-08-19T07:08:58.436057",
     "status": "completed"
    },
    "tags": []
   },
   "outputs": [
    {
     "name": "stdout",
     "output_type": "stream",
     "text": [
      "[07:09:35] WARNING: /workspace/src/learner.cc:480: \n",
      "Parameters: {  n_estimators= } might not be used.\n",
      "\n",
      "  This may not be accurate due to some parameters are only used in language bindings but\n",
      "  passed down to XGBoost core.  Or some parameters are not used but slip through this\n",
      "  verification. Please open an issue if you find above cases.\n",
      "\n",
      "\n"
     ]
    },
    {
     "data": {
      "text/plain": [
       "GridSearchCV(cv=4,\n",
       "             estimator=XGBClassifier(base_score=None, booster=None,\n",
       "                                     colsample_bylevel=None,\n",
       "                                     colsample_bynode=None,\n",
       "                                     colsample_bytree=None, gamma=None,\n",
       "                                     gpu_id=None, importance_type='gain',\n",
       "                                     interaction_constraints=None,\n",
       "                                     learning_rate=None, max_delta_step=None,\n",
       "                                     max_depth=None, min_child_weight=None,\n",
       "                                     missing=nan, monotone_constraints=None,\n",
       "                                     n_estimators=100, n_jobs...\n",
       "                                     num_parallel_tree=None, random_state=None,\n",
       "                                     reg_alpha=None, reg_lambda=None,\n",
       "                                     scale_pos_weight=None, subsample=None,\n",
       "                                     tree_method=None, validate_parameters=None,\n",
       "                                     verbosity=None),\n",
       "             n_jobs=-1,\n",
       "             param_grid=[{' n_estimators=': [100, 300, 500],\n",
       "                          'gamma': [0.01, 0.03, 0.1], 'max_depth': [3, 5, 10],\n",
       "                          'reg_alpha': [0.1, 0.3, 0.5],\n",
       "                          'reg_lambda': [0.1, 0.3, 0.5]}],\n",
       "             return_train_score=True, scoring='accuracy')"
      ]
     },
     "execution_count": 37,
     "metadata": {},
     "output_type": "execute_result"
    }
   ],
   "source": [
    "#%%script false --no-raise-error\n",
    "#Hyperparameter to be tweaked\n",
    "param_grid3 = [{\n",
    "    ' n_estimators=' : [100,300,500],\n",
    "    'max_depth' : [3,5,10],\n",
    "    'gamma' : [0.01, 0.03, 0.1],\n",
    "    'reg_lambda' : [0.1,0.3,0.5],\n",
    "    'reg_alpha': [0.1,0.3,0.5]\n",
    "}]\n",
    "\n",
    "grid_search3 = GridSearchCV(xgb.XGBClassifier(),param_grid3, cv=4, scoring = 'accuracy', return_train_score = True, n_jobs=-1)\n",
    "grid_search3.fit(X_train_prepared,y_train)"
   ]
  },
  {
   "cell_type": "code",
   "execution_count": 38,
   "metadata": {
    "collapsed": true,
    "execution": {
     "iopub.execute_input": "2020-08-19T07:09:35.619744Z",
     "iopub.status.busy": "2020-08-19T07:09:35.618701Z",
     "iopub.status.idle": "2020-08-19T07:09:35.623062Z",
     "shell.execute_reply": "2020-08-19T07:09:35.620647Z"
    },
    "papermill": {
     "duration": 0.058486,
     "end_time": "2020-08-19T07:09:35.623215",
     "exception": false,
     "start_time": "2020-08-19T07:09:35.564729",
     "status": "completed"
    },
    "tags": []
   },
   "outputs": [
    {
     "data": {
      "text/plain": [
       "['XGBC.pkl']"
      ]
     },
     "execution_count": 38,
     "metadata": {},
     "output_type": "execute_result"
    }
   ],
   "source": [
    "#%%script false --no-raise-error\n",
    "XGBC = grid_search3.best_estimator_\n",
    "joblib.dump(model , 'XGBC.pkl')"
   ]
  },
  {
   "cell_type": "code",
   "execution_count": 39,
   "metadata": {
    "execution": {
     "iopub.execute_input": "2020-08-19T07:09:35.690210Z",
     "iopub.status.busy": "2020-08-19T07:09:35.689525Z",
     "iopub.status.idle": "2020-08-19T07:09:35.692611Z",
     "shell.execute_reply": "2020-08-19T07:09:35.692001Z"
    },
    "papermill": {
     "duration": 0.037628,
     "end_time": "2020-08-19T07:09:35.692725",
     "exception": false,
     "start_time": "2020-08-19T07:09:35.655097",
     "status": "completed"
    },
    "tags": []
   },
   "outputs": [],
   "source": [
    "#LogisticRegression = joblib.load('../input/titanic-survivor-prediction/LogisticRegression.pkl')\n",
    "#SVC_rbf = joblib.load('../input/titanic-survivor-prediction/SVC_rbf.pkl')\n",
    "#XGBC = joblib.load('../input/titanic-survivor-prediction/XGBC.pkl')"
   ]
  },
  {
   "cell_type": "code",
   "execution_count": 40,
   "metadata": {
    "execution": {
     "iopub.execute_input": "2020-08-19T07:09:35.759049Z",
     "iopub.status.busy": "2020-08-19T07:09:35.742078Z",
     "iopub.status.idle": "2020-08-19T07:09:45.085838Z",
     "shell.execute_reply": "2020-08-19T07:09:45.085060Z"
    },
    "papermill": {
     "duration": 9.372524,
     "end_time": "2020-08-19T07:09:45.086005",
     "exception": false,
     "start_time": "2020-08-19T07:09:35.713481",
     "status": "completed"
    },
    "tags": []
   },
   "outputs": [
    {
     "data": {
      "image/png": "[encoded data removed]",
      "text/plain": [
       "<Figure size 1440x1440 with 9 Axes>"
      ]
     },
     "metadata": {},
     "output_type": "display_data"
    }
   ],
   "source": [
    "from sklearn.model_selection import learning_curve\n",
    "from sklearn.model_selection import ShuffleSplit\n",
    "\n",
    "\n",
    "def plot_learning_curve(estimator, title, X, y, axes=None, ylim=None, cv=None,\n",
    "                        n_jobs=None, train_sizes=np.linspace(.1, 1.0, 5)):\n",
    "    \"\"\"\n",
    "    Generate 3 plots: the test and training learning curve, the training\n",
    "    samples vs fit times curve, the fit times vs score curve.\n",
    "\n",
    "    Parameters\n",
    "    ----------\n",
    "    estimator : object type that implements the \"fit\" and \"predict\" methods\n",
    "        An object of that type which is cloned for each validation.\n",
    "\n",
    "    title : string\n",
    "        Title for the chart.\n",
    "\n",
    "    X : array-like, shape (n_samples, n_features)\n",
    "        Training vector, where n_samples is the number of samples and\n",
    "        n_features is the number of features.\n",
    "\n",
    "    y : array-like, shape (n_samples) or (n_samples, n_features), optional\n",
    "        Target relative to X for classification or regression;\n",
    "        None for unsupervised learning.\n",
    "\n",
    "    axes : array of 3 axes, optional (default=None)\n",
    "        Axes to use for plotting the curves.\n",
    "\n",
    "    ylim : tuple, shape (ymin, ymax), optional\n",
    "        Defines minimum and maximum yvalues plotted.\n",
    "\n",
    "    cv : int, cross-validation generator or an iterable, optional\n",
    "        Determines the cross-validation splitting strategy.\n",
    "        Possible inputs for cv are:\n",
    "\n",
    "          - None, to use the default 5-fold cross-validation,\n",
    "          - integer, to specify the number of folds.\n",
    "          - :term:`CV splitter`,\n",
    "          - An iterable yielding (train, test) splits as arrays of indices.\n",
    "\n",
    "        For integer/None inputs, if ``y`` is binary or multiclass,\n",
    "        :class:`StratifiedKFold` used. If the estimator is not a classifier\n",
    "        or if ``y`` is neither binary nor multiclass, :class:`KFold` is used.\n",
    "\n",
    "        Refer :ref:`User Guide <cross_validation>` for the various\n",
    "        cross-validators that can be used here.\n",
    "\n",
    "    n_jobs : int or None, optional (default=None)\n",
    "        Number of jobs to run in parallel.\n",
    "        ``None`` means 1 unless in a :obj:`joblib.parallel_backend` context.\n",
    "        ``-1`` means using all processors. See :term:`Glossary <n_jobs>`\n",
    "        for more details.\n",
    "\n",
    "    train_sizes : array-like, shape (n_ticks,), dtype float or int\n",
    "        Relative or absolute numbers of training examples that will be used to\n",
    "        generate the learning curve. If the dtype is float, it is regarded as a\n",
    "        fraction of the maximum size of the training set (that is determined\n",
    "        by the selected validation method), i.e. it has to be within (0, 1].\n",
    "        Otherwise it is interpreted as absolute sizes of the training sets.\n",
    "        Note that for classification the number of samples usually have to\n",
    "        be big enough to contain at least one sample from each class.\n",
    "        (default: np.linspace(0.1, 1.0, 5))\n",
    "    \"\"\"\n",
    "    if axes is None:\n",
    "        _, axes = plt.subplots(1, 3, figsize=(20, 5))\n",
    "\n",
    "    axes[0].set_title(title)\n",
    "    if ylim is not None:\n",
    "        axes[0].set_ylim(*ylim)\n",
    "    axes[0].set_xlabel(\"Training examples\")\n",
    "    axes[0].set_ylabel(\"Score\")\n",
    "\n",
    "    train_sizes, train_scores, test_scores, fit_times, _ = \\\n",
    "        learning_curve(estimator, X, y, cv=cv, n_jobs=n_jobs,\n",
    "                       train_sizes=train_sizes,\n",
    "                       return_times=True)\n",
    "    train_scores_mean = np.mean(train_scores, axis=1)\n",
    "    train_scores_std = np.std(train_scores, axis=1)\n",
    "    test_scores_mean = np.mean(test_scores, axis=1)\n",
    "    test_scores_std = np.std(test_scores, axis=1)\n",
    "    fit_times_mean = np.mean(fit_times, axis=1)\n",
    "    fit_times_std = np.std(fit_times, axis=1)\n",
    "\n",
    "    # Plot learning curve\n",
    "    axes[0].grid()\n",
    "    axes[0].fill_between(train_sizes, train_scores_mean - train_scores_std,\n",
    "                         train_scores_mean + train_scores_std, alpha=0.1,\n",
    "                         color=\"r\")\n",
    "    axes[0].fill_between(train_sizes, test_scores_mean - test_scores_std,\n",
    "                         test_scores_mean + test_scores_std, alpha=0.1,\n",
    "                         color=\"g\")\n",
    "    axes[0].plot(train_sizes, train_scores_mean, 'o-', color=\"r\",\n",
    "                 label=\"Training score\")\n",
    "    axes[0].plot(train_sizes, test_scores_mean, 'o-', color=\"g\",\n",
    "                 label=\"Cross-validation score\")\n",
    "    axes[0].legend(loc=\"best\")\n",
    "\n",
    "    # Plot n_samples vs fit_times\n",
    "    axes[1].grid()\n",
    "    axes[1].plot(train_sizes, fit_times_mean, 'o-')\n",
    "    axes[1].fill_between(train_sizes, fit_times_mean - fit_times_std,\n",
    "                         fit_times_mean + fit_times_std, alpha=0.1)\n",
    "    axes[1].set_xlabel(\"Training examples\")\n",
    "    axes[1].set_ylabel(\"fit_times\")\n",
    "    axes[1].set_title(\"Scalability of the model\")\n",
    "\n",
    "    # Plot fit_time vs score\n",
    "    axes[2].grid()\n",
    "    axes[2].plot(fit_times_mean, test_scores_mean, 'o-')\n",
    "    axes[2].fill_between(fit_times_mean, test_scores_mean - test_scores_std,\n",
    "                         test_scores_mean + test_scores_std, alpha=0.1)\n",
    "    axes[2].set_xlabel(\"fit_times\")\n",
    "    axes[2].set_ylabel(\"Score\")\n",
    "    axes[2].set_title(\"Performance of the model\")\n",
    "\n",
    "    return plt\n",
    "\n",
    "\n",
    "fig, axes = plt.subplots(3, 3, figsize=(20, 20))\n",
    "\n",
    "title = \"Learning Curves (LogisticRegression)\"\n",
    "# Cross validation with 100 iterations to get smoother mean test and train\n",
    "# score curves, each time with 20% data randomly selected as a validation set.\n",
    "cv = ShuffleSplit(n_splits=100, test_size=0.2, random_state=0)\n",
    "\n",
    "plot_learning_curve(LogisticRegression, title, X_train_prepared, y_train, axes=axes[:, 0], ylim=(0.7, 1.01),\n",
    "                    cv=cv, n_jobs=4)\n",
    "\n",
    "title = r\"Learning Curves (SVM, RBF kernel)\"\n",
    "# SVC is more expensive so we do a lower number of CV iterations:\n",
    "cv = ShuffleSplit(n_splits=10, test_size=0.2, random_state=0)\n",
    "plot_learning_curve(SVC_rbf, title, X_train_prepared, y_train, axes=axes[:, 1], ylim=(0.7, 1.01),\n",
    "                    cv=cv, n_jobs=4)\n",
    "\n",
    "title = r\"Learning Curves (XGBClassifier)\"\n",
    "# SVC is more expensive so we do a lower number of CV iterations:\n",
    "cv = ShuffleSplit(n_splits=10, test_size=0.2, random_state=0)\n",
    "plot_learning_curve(XGBC, title, X_train_prepared, y_train, axes=axes[:, 2], ylim=(0.7, 1.01),\n",
    "                    cv=cv, n_jobs=4)\n",
    "plt.show()"
   ]
  },
  {
   "cell_type": "markdown",
   "execution_count": null,
   "metadata": {
    "papermill": {
     "duration": 0.023198,
     "end_time": "2020-08-19T07:09:45.133839",
     "exception": false,
     "start_time": "2020-08-19T07:09:45.110641",
     "status": "completed"
    },
    "tags": []
   },
   "source": [
    "Logistic Regression and SVM with RBF kernel seem a bit underfit while XGB classifier is likely to overfit the training set. <br>\n",
    "\n",
    "In term of training speed and scalability, LogisticRegression ;with its simplicity; has fastest training speed following by XGB classifier and SVC with rbf kernel"
   ]
  },
  {
   "cell_type": "markdown",
   "execution_count": null,
   "metadata": {
    "papermill": {
     "duration": 0.023228,
     "end_time": "2020-08-19T07:09:45.180320",
     "exception": false,
     "start_time": "2020-08-19T07:09:45.157092",
     "status": "completed"
    },
    "tags": []
   },
   "source": [
    "# 6. Ensembling (Construction of Voting classifier) <a id=6>"
   ]
  },
  {
   "cell_type": "markdown",
   "execution_count": null,
   "metadata": {
    "papermill": {
     "duration": 0.027749,
     "end_time": "2020-08-19T07:09:45.231395",
     "exception": false,
     "start_time": "2020-08-19T07:09:45.203646",
     "status": "completed"
    },
    "tags": []
   },
   "source": [
    "From our top 3 best perform model, I'll try to combine them into soft voting classifier improve overall predicting performance. The reasone behind this is that, the voting classifier often achieves a higher accuracy than individual predictors used to construct its."
   ]
  },
  {
   "cell_type": "code",
   "execution_count": 41,
   "metadata": {
    "collapsed": true,
    "execution": {
     "iopub.execute_input": "2020-08-19T07:09:45.284840Z",
     "iopub.status.busy": "2020-08-19T07:09:45.284140Z",
     "iopub.status.idle": "2020-08-19T07:09:45.522486Z",
     "shell.execute_reply": "2020-08-19T07:09:45.523015Z"
    },
    "papermill": {
     "duration": 0.268418,
     "end_time": "2020-08-19T07:09:45.523223",
     "exception": false,
     "start_time": "2020-08-19T07:09:45.254805",
     "status": "completed"
    },
    "tags": []
   },
   "outputs": [
    {
     "name": "stdout",
     "output_type": "stream",
     "text": [
      "[07:09:45] WARNING: /workspace/src/learner.cc:480: \n",
      "Parameters: {  n_estimators= } might not be used.\n",
      "\n",
      "  This may not be accurate due to some parameters are only used in language bindings but\n",
      "  passed down to XGBoost core.  Or some parameters are not used but slip through this\n",
      "  verification. Please open an issue if you find above cases.\n",
      "\n",
      "\n"
     ]
    },
    {
     "data": {
      "text/plain": [
       "VotingClassifier(estimators=[('LogisticRegression', LogisticRegression(C=1)),\n",
       "                             ('SVC_rbf', SVC(C=1, gamma=0.1, probability=True)),\n",
       "                             ('XGBC',\n",
       "                              XGBClassifier( n_estimators==100, base_score=0.5,\n",
       "                                            booster='gbtree',\n",
       "                                            colsample_bylevel=1,\n",
       "                                            colsample_bynode=1,\n",
       "                                            colsample_bytree=1, gamma=0.03,\n",
       "                                            gpu_id=-1, importance_type='gain',\n",
       "                                            interaction_constraints='',\n",
       "                                            learning_rate=0.300000012,\n",
       "                                            max_delta_step=0, max_depth=3,\n",
       "                                            min_child_weight=1, missing=nan,\n",
       "                                            monotone_constraints='()',\n",
       "                                            n_estimators=100, n_jobs=0,\n",
       "                                            num_parallel_tree=1, random_state=0,\n",
       "                                            reg_alpha=0.3, reg_lambda=0.5,\n",
       "                                            scale_pos_weight=1, subsample=1,\n",
       "                                            tree_method='exact',\n",
       "                                            validate_parameters=1,\n",
       "                                            verbosity=None))],\n",
       "                 voting='soft')"
      ]
     },
     "execution_count": 41,
     "metadata": {},
     "output_type": "execute_result"
    }
   ],
   "source": [
    "from sklearn.ensemble import VotingClassifier\n",
    "\n",
    "estimators = [('LogisticRegression',LogisticRegression),\n",
    "              ('SVC_rbf',SVC_rbf),\n",
    "              ('XGBC',XGBC)]\n",
    "\n",
    "VClassifier = VotingClassifier(estimators,voting='soft')\n",
    "VClassifier.fit(X_train_prepared,y_train)"
   ]
  },
  {
   "cell_type": "markdown",
   "execution_count": null,
   "metadata": {
    "papermill": {
     "duration": 0.032437,
     "end_time": "2020-08-19T07:09:45.589109",
     "exception": false,
     "start_time": "2020-08-19T07:09:45.556672",
     "status": "completed"
    },
    "tags": []
   },
   "source": [
    "# 7. Prediction and Submission <a id=7>"
   ]
  },
  {
   "cell_type": "markdown",
   "execution_count": null,
   "metadata": {
    "papermill": {
     "duration": 0.033052,
     "end_time": "2020-08-19T07:09:45.654998",
     "exception": false,
     "start_time": "2020-08-19T07:09:45.621946",
     "status": "completed"
    },
    "tags": []
   },
   "source": [
    "Finally, with our voting classifier, we try to predict whether passenger in test set survived the catastrophe or not"
   ]
  },
  {
   "cell_type": "code",
   "execution_count": 42,
   "metadata": {
    "execution": {
     "iopub.execute_input": "2020-08-19T07:09:45.727688Z",
     "iopub.status.busy": "2020-08-19T07:09:45.722849Z",
     "iopub.status.idle": "2020-08-19T07:09:45.755195Z",
     "shell.execute_reply": "2020-08-19T07:09:45.755853Z"
    },
    "papermill": {
     "duration": 0.068956,
     "end_time": "2020-08-19T07:09:45.756075",
     "exception": false,
     "start_time": "2020-08-19T07:09:45.687119",
     "status": "completed"
    },
    "tags": []
   },
   "outputs": [],
   "source": [
    "#transform test set as same way we did to training set\n",
    "X_test_prepared = full_pipeline.transform(test)\n",
    "\n",
    "#put into dataframe in case we need to look at it\n",
    "X_test_prepared = pd.DataFrame(X_test_prepared,columns = full_pipeline.transformers_[0][2]+\n",
    "                               full_pipeline.transformers_[1][1][1].get_feature_names().tolist()+\n",
    "                               full_pipeline.transformers_[2][1][1].get_feature_names().tolist())\n",
    "X_test_prepared.rename(columns = {'x0_1': 'Pclass_1',\n",
    "                                  'x0_2' : 'Pclass_2',\n",
    "                                  'x0_3' : 'Pclass_3',\n",
    "                                  'x1_female': 'female',\n",
    "                                  'x1_male': 'male',\n",
    "                                  'x2_C': 'Embarked_C',\n",
    "                                  'x2_Q': 'Embarked_Q',\n",
    "                                  'x2_S': 'Embarked_S'})\n",
    "\n",
    "#make prediction\n",
    "prediction = VClassifier.predict(X_test_prepared)"
   ]
  },
  {
   "cell_type": "code",
   "execution_count": 43,
   "metadata": {
    "execution": {
     "iopub.execute_input": "2020-08-19T07:09:45.828416Z",
     "iopub.status.busy": "2020-08-19T07:09:45.827614Z",
     "iopub.status.idle": "2020-08-19T07:09:45.911637Z",
     "shell.execute_reply": "2020-08-19T07:09:45.912703Z"
    },
    "papermill": {
     "duration": 0.123733,
     "end_time": "2020-08-19T07:09:45.912906",
     "exception": false,
     "start_time": "2020-08-19T07:09:45.789173",
     "status": "completed"
    },
    "tags": []
   },
   "outputs": [
    {
     "data": {
      "text/html": [
       "<div>\n",
       "<style scoped>\n",
       "    .dataframe tbody tr th:only-of-type {\n",
       "        vertical-align: middle;\n",
       "    }\n",
       "\n",
       "    .dataframe tbody tr th {\n",
       "        vertical-align: top;\n",
       "    }\n",
       "\n",
       "    .dataframe thead th {\n",
       "        text-align: right;\n",
       "    }\n",
       "</style>\n",
       "<table border=\"1\" class=\"dataframe\">\n",
       "  <thead>\n",
       "    <tr style=\"text-align: right;\">\n",
       "      <th></th>\n",
       "      <th>Survived</th>\n",
       "    </tr>\n",
       "    <tr>\n",
       "      <th>PassengerId</th>\n",
       "      <th></th>\n",
       "    </tr>\n",
       "  </thead>\n",
       "  <tbody>\n",
       "    <tr>\n",
       "      <th>892</th>\n",
       "      <td>0</td>\n",
       "    </tr>\n",
       "    <tr>\n",
       "      <th>893</th>\n",
       "      <td>0</td>\n",
       "    </tr>\n",
       "    <tr>\n",
       "      <th>894</th>\n",
       "      <td>0</td>\n",
       "    </tr>\n",
       "    <tr>\n",
       "      <th>895</th>\n",
       "      <td>0</td>\n",
       "    </tr>\n",
       "    <tr>\n",
       "      <th>896</th>\n",
       "      <td>1</td>\n",
       "    </tr>\n",
       "    <tr>\n",
       "      <th>...</th>\n",
       "      <td>...</td>\n",
       "    </tr>\n",
       "    <tr>\n",
       "      <th>1305</th>\n",
       "      <td>0</td>\n",
       "    </tr>\n",
       "    <tr>\n",
       "      <th>1306</th>\n",
       "      <td>1</td>\n",
       "    </tr>\n",
       "    <tr>\n",
       "      <th>1307</th>\n",
       "      <td>0</td>\n",
       "    </tr>\n",
       "    <tr>\n",
       "      <th>1308</th>\n",
       "      <td>0</td>\n",
       "    </tr>\n",
       "    <tr>\n",
       "      <th>1309</th>\n",
       "      <td>1</td>\n",
       "    </tr>\n",
       "  </tbody>\n",
       "</table>\n",
       "<p>418 rows × 1 columns</p>\n",
       "</div>"
      ],
      "text/plain": [
       "             Survived\n",
       "PassengerId          \n",
       "892                 0\n",
       "893                 0\n",
       "894                 0\n",
       "895                 0\n",
       "896                 1\n",
       "...               ...\n",
       "1305                0\n",
       "1306                1\n",
       "1307                0\n",
       "1308                0\n",
       "1309                1\n",
       "\n",
       "[418 rows x 1 columns]"
      ]
     },
     "execution_count": 43,
     "metadata": {},
     "output_type": "execute_result"
    }
   ],
   "source": [
    "result = pd.DataFrame(prediction,test.PassengerId,columns=['Survived'])\n",
    "result.to_csv('Voting_classifier_prediction.csv')\n",
    "result\n"
   ]
  },
  {
   "cell_type": "code",
   "execution_count": 44,
   "metadata": {
    "execution": {
     "iopub.execute_input": "2020-08-19T07:09:45.981380Z",
     "iopub.status.busy": "2020-08-19T07:09:45.980673Z",
     "iopub.status.idle": "2020-08-19T07:09:46.080384Z",
     "shell.execute_reply": "2020-08-19T07:09:46.079793Z"
    },
    "papermill": {
     "duration": 0.133694,
     "end_time": "2020-08-19T07:09:46.080514",
     "exception": false,
     "start_time": "2020-08-19T07:09:45.946820",
     "status": "completed"
    },
    "tags": []
   },
   "outputs": [
    {
     "ename": "NameError",
     "evalue": "name 'SVB_rbf' is not defined",
     "output_type": "error",
     "traceback": [
      "\u001b[0;31m---------------------------------------------------------------------------\u001b[0m",
      "\u001b[0;31mNameError\u001b[0m                                 Traceback (most recent call last)",
      "\u001b[0;32m<ipython-input-44-b00b71a95749>\u001b[0m in \u001b[0;36m<module>\u001b[0;34m\u001b[0m\n\u001b[1;32m      2\u001b[0m \u001b[0;34m\u001b[0m\u001b[0m\n\u001b[1;32m      3\u001b[0m \u001b[0my_log\u001b[0m \u001b[0;34m=\u001b[0m \u001b[0mLogisticRegression\u001b[0m\u001b[0;34m.\u001b[0m\u001b[0mpredict\u001b[0m\u001b[0;34m(\u001b[0m\u001b[0mX_test_prepared\u001b[0m\u001b[0;34m)\u001b[0m\u001b[0;34m\u001b[0m\u001b[0;34m\u001b[0m\u001b[0m\n\u001b[0;32m----> 4\u001b[0;31m \u001b[0my_svm\u001b[0m \u001b[0;34m=\u001b[0m \u001b[0mSVB_rbf\u001b[0m\u001b[0;34m.\u001b[0m\u001b[0mpredict\u001b[0m\u001b[0;34m(\u001b[0m\u001b[0mX_test_prepared\u001b[0m\u001b[0;34m)\u001b[0m\u001b[0;34m\u001b[0m\u001b[0;34m\u001b[0m\u001b[0m\n\u001b[0m\u001b[1;32m      5\u001b[0m \u001b[0my_xgb\u001b[0m \u001b[0;34m=\u001b[0m \u001b[0mXGBC\u001b[0m\u001b[0;34m.\u001b[0m\u001b[0mpredict\u001b[0m\u001b[0;34m(\u001b[0m\u001b[0mX_test_prepared\u001b[0m\u001b[0;34m)\u001b[0m\u001b[0;34m\u001b[0m\u001b[0;34m\u001b[0m\u001b[0m\n\u001b[1;32m      6\u001b[0m \u001b[0;34m\u001b[0m\u001b[0m\n",
      "\u001b[0;31mNameError\u001b[0m: name 'SVB_rbf' is not defined"
     ]
    }
   ],
   "source": [
    "#Prediction of each individual classifier for comparison\n",
    "\n",
    "y_log = LogisticRegression.predict(X_test_prepared)\n",
    "y_svm = SVB_rbf.predict(X_test_prepared)\n",
    "y_xgb = XGBC.predict(X_test_prepared)\n",
    "\n",
    "result_log = pd.DataFrame(y_log,test.PassengerId,columns=['Survived'])\n",
    "result_svm = pd.DataFrame(y_svm,test.PassengerId,columns=['Survived'])\n",
    "result_xgb = pd.DataFrame(y_xgb,test.PassengerId,columns=['Survived'])\n",
    "\n",
    "result_log.to_csv('LogisticRegression_prediction.csv')\n",
    "result_svm.to_csv('SVB_rbf_prediction.csv')\n",
    "result_xgb.to_csv('XGBC.csv')"
   ]
  },
  {
   "cell_type": "markdown",
   "execution_count": null,
   "metadata": {
    "papermill": {
     "duration": 0.023096,
     "end_time": "2020-08-19T07:09:46.127164",
     "exception": false,
     "start_time": "2020-08-19T07:09:46.104068",
     "status": "completed"
    },
    "tags": []
   },
   "source": [
    "#  8. Conclusion <a id=8>"
   ]
  },
  {
   "cell_type": "markdown",
   "execution_count": null,
   "metadata": {
    "papermill": {
     "duration": 0.023899,
     "end_time": "2020-08-19T07:09:46.175777",
     "exception": false,
     "start_time": "2020-08-19T07:09:46.151878",
     "status": "completed"
    },
    "tags": []
   },
   "source": [
    "Prediction of our ensemble model (Voting classifier) result in 77.99% accuracy, from the learning curves it could be that 2/3 of our model seem a bit underfit the training set, while XGB Classifier seem overfitting.\n",
    "\n",
    "So, in the future I would try several approach to improve model performance :\n",
    "\n",
    "1. Try to increasing more regularization parameters for XGB Classifier model\n",
    "1. Try more feature engineering to add more interesting feature to the model (i.e. combine #Parch and #Sibsp into family size, try to extract information from cabin feature)\n",
    "1. Try adding polynomail features\n",
    "1. Train a neural network to tackle the problem."
   ]
  },
  {
   "cell_type": "markdown",
   "execution_count": null,
   "metadata": {
    "papermill": {
     "duration": 0.023115,
     "end_time": "2020-08-19T07:09:46.222555",
     "exception": false,
     "start_time": "2020-08-19T07:09:46.199440",
     "status": "completed"
    },
    "tags": []
   },
   "source": [
    "[back to top](#0)"
   ]
  },
  {
   "cell_type": "code",
   "execution_count": null,
   "metadata": {
    "papermill": {
     "duration": 0.024604,
     "end_time": "2020-08-19T07:09:46.270662",
     "exception": false,
     "start_time": "2020-08-19T07:09:46.246058",
     "status": "completed"
    },
    "tags": []
   },
   "outputs": [],
   "source": []
  }
 ],
 "metadata": {
  "kernelspec": {
   "display_name": "Python 3",
   "language": "python",
   "name": "python3"
  },
  "language_info": {
   "codemirror_mode": {
    "name": "ipython",
    "version": 3
   },
   "file_extension": ".py",
   "mimetype": "text/x-python",
   "name": "python",
   "nbconvert_exporter": "python",
   "pygments_lexer": "ipython3",
   "version": "3.7.6"
  },
  "papermill": {
   "duration": 73.908427,
   "end_time": "2020-08-19T07:09:46.410188",
   "environment_variables": {},
   "exception": null,
   "input_path": "__notebook__.ipynb",
   "output_path": "__notebook__.ipynb",
   "parameters": {},
   "start_time": "2020-08-19T07:08:32.501761",
   "version": "2.1.0"
  }
 },
 "nbformat": 4,
 "nbformat_minor": 4
}
